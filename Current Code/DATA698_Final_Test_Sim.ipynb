{
 "cells": [
  {
   "cell_type": "code",
   "execution_count": 1,
   "metadata": {},
   "outputs": [],
   "source": [
    "import dash\n",
    "import dash_core_components as dcc\n",
    "import dash_html_components as html\n",
    "from dash.dependencies import Input, Output, State\n",
    "import plotly.express as px\n",
    "import plotly.graph_objects as go\n",
    "from plotly.subplots import make_subplots"
   ]
  },
  {
   "cell_type": "code",
   "execution_count": 2,
   "metadata": {},
   "outputs": [],
   "source": [
    "import pandas as pd\n",
    "import numpy as np\n",
    "import math\n",
    "from modsim import *\n",
    "import timeit"
   ]
  },
  {
   "cell_type": "code",
   "execution_count": 25,
   "metadata": {},
   "outputs": [],
   "source": [
    "#############################################################################################\n",
    "### Inputs we will need to get from the front-end:\n",
    "sqft = 2400\n",
    "roof_sqft = 850\n",
    "Year_Blt = 1984\n",
    "HHM = 3\n",
    "\n",
    "#roof_azimuth angle needs to be from due South\n",
    "roof_azimuth = 101.634\n",
    "\n",
    "#Daily_bool below directs whether to use stock Albany data or pull from NSRDB API (True = stock)\n",
    "daily_bool = True\n",
    "\n",
    "#The price per kWh ($0.1827 is average for Albany,NY)\n",
    "price = 0.1827\n",
    "\n",
    "#coordinates of Albany, NY (29.42412, -98.49363)\n",
    "la=29.42412\n",
    "lo=-98.49363"
   ]
  },
  {
   "cell_type": "code",
   "execution_count": 4,
   "metadata": {},
   "outputs": [],
   "source": [
    "#############################################################################################\n",
    "### If necessary (daily_bool = False), pull data from NSRDB\n",
    "##  API key and info for M. Kollontai\n",
    "#   Currently pulls data from 2019 and provides average and stDev for each month\n",
    "def collect_ghi(la, lo):\n",
    "    api_key = 'BUnBQIpFlpJZcCcqO2VeYuUMXjX7zCSGiVBNIIdH'\n",
    "    attributes = 'ghi'\n",
    "    year = '2019'\n",
    "    lat, lon = la, lo\n",
    "    leap_year = 'false'\n",
    "    interval = '60'\n",
    "    utc = 'false'\n",
    "    name = 'Misha+Kollontai'\n",
    "    reason= 'school_project'\n",
    "    affiliation = 'CUNY+SPS'\n",
    "    email = 'mkollontai@gmail.com'\n",
    "    mailing_list = 'false'\n",
    "    \n",
    "    #combine all of the relevant information into the API-specified URL\n",
    "    url = 'https://developer.nrel.gov/api/solar/nsrdb_psm3_download.csv?wkt=POINT({lon}%20{lat})&names={year}&leap_day={leap}&interval={interval}&utc={utc}&full_name={name}&email={email}&affiliation={affiliation}&mailing_list={mailing_list}&reason={reason}&api_key={api}&attributes={attr}'.format(year=year, lat=lat, lon=lon, leap=leap_year, interval=interval, utc=utc, name=name, email=email, mailing_list=mailing_list, affiliation=affiliation, reason=reason, api=api_key, attr=attributes)\n",
    "    \n",
    "    GHI_raw = pd.read_csv(url,skiprows = 2)\n",
    "    #Set the index to the proper timestamps\n",
    "    GHI_raw = GHI_raw.set_index(pd.date_range('1/1/{yr}'.format(yr=year), freq=interval+'Min', periods=525600/int(interval)))\n",
    "    temp = GHI_raw[['Month','Day','GHI']]\n",
    "    daily = temp.groupby(['Month','Day']).sum()\n",
    "    monthly_mean = daily.groupby(['Month']).mean()\n",
    "    monthly_sd = daily.groupby(['Month']).std()\n",
    "    monthly_ghi = pd.DataFrame(monthly_mean)\n",
    "    monthly_ghi['STD'] = monthly_sd['GHI']\n",
    "    return monthly_ghi.to_json()"
   ]
  },
  {
   "cell_type": "code",
   "execution_count": 5,
   "metadata": {},
   "outputs": [],
   "source": [
    "#############################################################################################\n",
    "### Depending on the 'daily_bool' variable, use stock Albany solar data or pull from NSRDB\n",
    "if daily_bool:\n",
    "    ## Data from the NSRDB. Daily data for Albany coordinates going back to 1998\n",
    "    #  To be used as default data instead of querying the API\n",
    "    Albany_GHI = pd.read_csv('https://raw.githubusercontent.com/zachalexander/capstone_cunysps/main/Project_Data_Files/Albany_GHI_Data.csv')\n",
    "    Albany_GHI = Albany_GHI[['Month','Day','Mean','StDev']]\n",
    "    Albany_GHI = Albany_GHI.set_index(['Month','Day'])\n",
    "else:\n",
    "    ## Use the function above to pull data on the coordinates in question\n",
    "    monthly_ghi = pd.read_json(collect_ghi(la,lo))"
   ]
  },
  {
   "cell_type": "code",
   "execution_count": 6,
   "metadata": {
    "scrolled": true
   },
   "outputs": [],
   "source": [
    "### Data we pull from GitHub\n",
    "##  Albany_Monthly_Use contains data from https://compareelectricity.com/locations/NY/Albany/12244\n",
    "##  HHM/YearBuilt/SQFT_Ratios scale above data using data from https://www.eia.gov/consumption/residential/data/2015/c&e/pdf/ce1.2.pdf\n",
    "Albany_Monthly_Use = pd.read_csv('https://raw.githubusercontent.com/zachalexander/capstone_cunysps/main/Data/Albany%20Monthly%20Average%20Use.csv')\n",
    "Albany_Monthly_Use = Albany_Monthly_Use.set_index(['Month'])\n",
    "#scale to household member number\n",
    "HHM_Ratio = pd.read_csv('https://raw.githubusercontent.com/zachalexander/capstone_cunysps/main/Data/Northeast_HHM_Ratios.csv')\n",
    "#scale to year house was built\n",
    "YearBuilt_Ratio = pd.read_csv('https://raw.githubusercontent.com/zachalexander/capstone_cunysps/main/Data/Northeast_Year_Ratios.csv')\n",
    "#scale to house square footage\n",
    "SQFT_Ratio = pd.read_csv('https://raw.githubusercontent.com/zachalexander/capstone_cunysps/main/Data/Northeast_SQFT_Ratios.csv')\n",
    "\n",
    "#Albany_Monthly_Use"
   ]
  },
  {
   "cell_type": "code",
   "execution_count": 7,
   "metadata": {},
   "outputs": [],
   "source": [
    "#############################################################################################\n",
    "#####   Define a system describing our solar panels and location ############################\n",
    "#############################################################################################\n",
    "\n",
    "def define_system(A=80,PR=0.8,lat=29.42412,long=-98.49363, azim = 1):\n",
    "    '''Create a system object defining our solar panel system\n",
    "    '''\n",
    "    start = State(P = 0, C = 0, Y = 0)\n",
    "    t0 = 0\n",
    "    '''15 years worth of operation'''\n",
    "    t_end = sim_years*12\n",
    "\n",
    "    return System(start=start, t0=t0, t_end=t_end, A=A, PR=PR, lat=lat, long=long, azim = azim)\n",
    "#############################################################################################"
   ]
  },
  {
   "cell_type": "code",
   "execution_count": 8,
   "metadata": {},
   "outputs": [],
   "source": [
    "#############################################################################################\n",
    "    ####   We must calculate the amount of power generated on on a given day by the panels. \n",
    "    ####   This number is influenced by the surface area of the panels, their efficiency, \n",
    "    ####   performance ratio and amount of exposure to sun they receive on that day. In our \n",
    "    ####   estimation of GHI on a given day, we will assume a normal distribution given the \n",
    "    ####   mean and stDev from the table we pulled from the NSRDB. The formula used below to \n",
    "    ####   calculate the actual yield is taken from \n",
    "    ####   (https://photovoltaic-software.com/principle-ressources/how-calculate-solar-energy-power-pv-systems) \n",
    "    ####   with the 'Annual average' value replaced with the GHI per day value calculated from the NSRDB data. \n",
    "#############################################################################################\n",
    "####   Function to determine the daily yield of the panels   ################################\n",
    "#############################################################################################\n",
    "    ###      system     - pre-defined system defining the panels\n",
    "    ###      month      - the month (1-12) for which the GHI is to be estimated\n",
    "    ###      day        - the day of the month\n",
    "    ###      daily_bool - whether or not we are using the stock Albany data or 2019 localized (T = stock data)\n",
    "    \n",
    "def days_yield(system,month,day,daily_bool):\n",
    "    if daily_bool:\n",
    "        ghi_day = np.random.normal(Albany_GHI.at[(month,day),'Mean'],Albany_GHI.at[(month,day),'StDev'])\n",
    "    else:\n",
    "        ghi_day = np.random.normal(monthly_ghi.iloc[month-1]['GHI'],monthly_ghi.iloc[month-1]['STD'])\n",
    "    ghi_day = float(ghi_day)\n",
    "    if ghi_day < 0:\n",
    "        ghi_day = 0\n",
    "    return (system.A*ghi_day*system.PR*system.azim)/1000\n",
    "    \n",
    "#############################################################################################"
   ]
  },
  {
   "cell_type": "code",
   "execution_count": 9,
   "metadata": {},
   "outputs": [],
   "source": [
    "def find_ratio(sqft,year_blt):\n",
    "    \n",
    "    #Sqft Lookup\n",
    "    # should be set to zero if no info is available\n",
    "    if sqft == 0:\n",
    "        sqft_col = 0\n",
    "    elif sqft > 3499:\n",
    "        sqft_col = 6\n",
    "    else:\n",
    "        sqft_col = math.floor((sqft-1000)/500+2)\n",
    "    sqft_rat = SQFT_Ratio.iloc[0,sqft_col]\n",
    "\n",
    "# Year_Built Lookup\n",
    "    # should be set to zero if no info is available\n",
    "    if year_blt == 0:\n",
    "        year_col = 0\n",
    "    else:\n",
    "        if year_blt < 1940:\n",
    "            year_col = 1\n",
    "        else:\n",
    "            year_col = math.floor((year_blt-1950)/10+2)\n",
    "    year_rat = YearBuilt_Ratio.iloc[0,year_col]\n",
    "\n",
    "# Household Member\n",
    "    # should be set to zero if no info is available\n",
    "    if HHM == 0:\n",
    "        hhm_col = 0\n",
    "    elif HHM > 6:\n",
    "        hhm_col = 6\n",
    "    else:\n",
    "        hhm_col = HHM\n",
    "    hhm_rat = HHM_Ratio.iloc[0,hhm_col]\n",
    "\n",
    "    ratio = sqft_rat * year_rat * hhm_rat\n",
    "    return ratio"
   ]
  },
  {
   "cell_type": "code",
   "execution_count": 10,
   "metadata": {},
   "outputs": [],
   "source": [
    "#############################################################################################\n",
    "####   Function generating a value for the demand on our system in a month. \n",
    "#############################################################################################\n",
    "\n",
    "            #*!*!*!*!*!*!* Need to account for how we determine demand*!*!*!*!*!*\n",
    "    \n",
    "    #  Currently taking average of 2 calulations using data from\n",
    "    #  https://www.eia.gov/consumption/residential/data/2015/c&e/pdf/ce1.2.pdf\n",
    "    #  to scale the info from \n",
    "    #  https://compareelectricity.com/locations/NY/Albany/12244\n",
    "    #  on the demand in Albany per month\n",
    "    #  Sqft calc scales the amounts to the appropriate sq ft bin\n",
    "    #  Year Built calc does the same based on when the house was built\n",
    "    #  If sqft or year built data not available, uses default numbers.\n",
    "\n",
    "def month_demand_norm(month,sqft=0,year=0,hhm=0):\n",
    "    \n",
    "    ratio = find_ratio(sqft,year)\n",
    "\n",
    "    demand_month = Albany_Monthly_Use.iloc[month-1,0] * ratio\n",
    "\n",
    "    return demand_month\n",
    "    \n",
    "#############################################################################################"
   ]
  },
  {
   "cell_type": "code",
   "execution_count": 11,
   "metadata": {},
   "outputs": [
    {
     "data": {
      "text/plain": [
       "7"
      ]
     },
     "execution_count": 11,
     "metadata": {},
     "output_type": "execute_result"
    }
   ],
   "source": [
    "math.floor((3600-1000)/500+2)"
   ]
  },
  {
   "cell_type": "code",
   "execution_count": 12,
   "metadata": {},
   "outputs": [],
   "source": [
    "#############################################################################################\n",
    "####    Function calculating the balance at the end of a month ##############################\n",
    "#############################################################################################\n",
    "\n",
    "def calc_month(system, month):\n",
    "    #2% yearly increase in electricity rates\n",
    "    yearly_increase = 1.02\n",
    "    year = math.floor(month/12)\n",
    "\n",
    "    month_mod = (month % 12)\n",
    "    if month_mod == 0:\n",
    "        month_mod = 12\n",
    "        \n",
    "    if month_mod in [1,3,5,7,8,10,12]:\n",
    "        days = 31\n",
    "    elif month_mod in [4,6,9,11]:\n",
    "        days = 30\n",
    "    elif month_mod == 2:\n",
    "        #if year % 4 == 0:\n",
    "        #    days = 29\n",
    "        #else:\n",
    "            days = 28\n",
    "    else:\n",
    "        print(\"Not a valid month number\")\n",
    "        return None\n",
    "    \n",
    "    yld = 0\n",
    "    gain = 0\n",
    "\n",
    "    pr_fac = yearly_increase**year * price\n",
    "    \n",
    "    #make sure if we don't have year or sqft they are set to proper values for default calc\n",
    "    loss = month_demand_norm(month_mod,sqft,Year_Blt, HHM) * pr_fac\n",
    "    \n",
    "    for day in range(1,days+1):\n",
    "        yld  = yld + days_yield(system,month_mod,day,daily_bool)\n",
    "    \n",
    "    gain = yld * pr_fac\n",
    "\n",
    "    this_month = State(P = gain, C = loss, Y = yld)\n",
    "    return this_month\n",
    "    \n",
    "#############################################################################################"
   ]
  },
  {
   "cell_type": "code",
   "execution_count": 13,
   "metadata": {},
   "outputs": [],
   "source": [
    "#############################################################################################\n",
    "\n",
    "def update_fxn(state,system,month):\n",
    "    '''Update the pos/neg/balance model.\n",
    "\n",
    "    state: State with variables PB, FB, C\n",
    "    system: System with relevant info\n",
    "    '''\n",
    "    p, c, y = state\n",
    "\n",
    "    month_result = calc_month(system, month)\n",
    "\n",
    "    p += month_result.P\n",
    "    c += month_result.C\n",
    "    y = month_result.Y\n",
    "\n",
    "    return State(P = p, C = c, Y = y)\n",
    "\n",
    "#############################################################################################"
   ]
  },
  {
   "cell_type": "code",
   "execution_count": 14,
   "metadata": {},
   "outputs": [],
   "source": [
    "#############################################################################################\n",
    "\n",
    "####   The function below generates three TimeSeries objects over the time interval specified \n",
    "###    within the provided time interval. The TimeSeries track the overall balance throughout \n",
    "#      the interval as well as the cost of electricity without a solar system\n",
    "    \n",
    "def run_simulation(system,upd_fxn):\n",
    "    \"\"\"Take a system as input and unpdate it based on the update function.\n",
    "\n",
    "    system - system object defining panels\n",
    "    update_fxn - function describing change to system \n",
    "\n",
    "    returns - Timeseries\n",
    "    \"\"\"\n",
    "    P = TimeSeries()\n",
    "    C = TimeSeries()\n",
    "    Y = TimeSeries()\n",
    "\n",
    "    state = system.start\n",
    "    t0 = system.t0\n",
    "    P[t0], C[t0], Y[t0] = state\n",
    "\n",
    "    for t in linrange(system.t0, system.t_end):\n",
    "        state = upd_fxn(state,system,t)\n",
    "        P[t+1], C[t+1], Y[t+1] = state\n",
    "\n",
    "    return P, -C, Y\n",
    "    \n",
    "#############################################################################################"
   ]
  },
  {
   "cell_type": "code",
   "execution_count": 26,
   "metadata": {
    "scrolled": true
   },
   "outputs": [],
   "source": [
    "#%%timeit\n",
    "#convert sq ft to sq m\n",
    "roof_A = float(roof_sqft) * 0.092903\n",
    "sim_years = 15\n",
    "#############################################################################################\n",
    "### equation for azimuth_factor below explained at:\n",
    "##  https://docs.google.com/spreadsheets/d/13UL_QRR396G7L1IOa9wtQAjv24xCWA5So69pHfMEGI0/edit?usp=sharing\n",
    "#   Equation of form: a + bx + cx^2 + dx^3 + ex^4\n",
    "a = 0.995\n",
    "b = 0\n",
    "c = -2.69e-5\n",
    "d = 0\n",
    "e = 3.24e-10\n",
    "azimuth_factor = a + (b*roof_azimuth) + (c*roof_azimuth**2) + (d*roof_azimuth**3) + (e*roof_azimuth**4)\n",
    "#############################################################################################\n",
    "\n",
    "low_r_bound = 0.15\n",
    "high_r_bound = 0.19\n",
    "low_initial_cost = 15000\n",
    "high_initial_cost = 25000\n",
    "\n",
    "cap_1 = \"I=$\" + str(int(high_initial_cost/1000)) + \"k, r=\"+ str(low_r_bound)\n",
    "cap_2 = \"I=$\" + str(int(high_initial_cost/1000)) + \"k, r=\"+ str(high_r_bound)\n",
    "cap_3 = \"I=$\" + str(int(low_initial_cost/1000)) + \"k, r=\"+ str(low_r_bound)\n",
    "cap_4 = \"I=$\" + str(int(low_initial_cost/1000)) + \"k, r=\"+ str(high_r_bound)\n",
    "\n",
    "#############################################################################################\n",
    "### 4 systems below cover the range of initial costs (15k & 25k) as well as efficiency ranges (17.5% & 20%)\n",
    "##  Can be adjusted to plot desired systems\n",
    "\n",
    "system = define_system(A=roof_A, lat=la, long=lo, azim= azimuth_factor)\n",
    "P, C, Y = run_simulation(system,update_fxn)\n",
    "FB = (P*low_r_bound - high_initial_cost) + C\n",
    "FB2 = (P*high_r_bound - high_initial_cost) + C\n",
    "FB3 = (P*low_r_bound - low_initial_cost) + C\n",
    "FB4 = (P*high_r_bound - low_initial_cost) + C\n",
    "\n",
    "### Combining the data from four systems above\n",
    "projection = pd.concat([FB,FB2,FB3,FB4,C], axis =1)\n",
    "#############################################################################################\n",
    "\n",
    "\n",
    "#############################################################################################\n",
    "### Column names below need to be either adjusted to match or automated to cover plotted systems\n",
    "\n",
    "#!#!#!#! Need to deal with these names potentially changing along with the systems #!#!#!#\n",
    "\n",
    "projection.columns = [cap_1,cap_2,cap_3,cap_4,'Regular Grid Service']\n",
    "year = [i/12 for i in range(12*sim_years+1)]\n",
    "projection['year'] = list(year)\n",
    "projection.set_index('year', inplace = True)\n",
    "#############################################################################################\n",
    "\n",
    "\n",
    "#############################################################################################\n",
    "#### Finding the intersection of each of the 4 systems with the 'Regular Grid Service'\n",
    "###  'intersect' list contains 4 entries - the month at which each system intersects\n",
    "##   Even_pt_hi/lo rounds the lowest and highest intersection points to years\n",
    "#    Series names need to match column names above\n",
    "intersect = []\n",
    "find_60 = []\n",
    "test1 = 1\n",
    "test2 = 1\n",
    "test3 = 1\n",
    "test4 = 1\n",
    "test60_1 = 1\n",
    "test60_2 = 1\n",
    "test60_3 = 1\n",
    "test60_4 = 1\n",
    "for i,r in projection.iterrows():\n",
    "    if r[cap_1] > r['Regular Grid Service'] and test1:\n",
    "        intersect.append(i)\n",
    "        test1 = 0\n",
    "    if r[cap_2] > r['Regular Grid Service'] and test2:\n",
    "        intersect.append(i)\n",
    "        test2 = 0\n",
    "    if r[cap_3] > r['Regular Grid Service'] and test3:\n",
    "        intersect.append(i)\n",
    "        test3 = 0\n",
    "    if r[cap_4] > r['Regular Grid Service'] and test4:\n",
    "        intersect.append(i)\n",
    "        test4 = 0\n",
    "    if (r['Regular Grid Service']-r[cap_1])/25000 < 0.4 and test60_1:\n",
    "        find_60.append(i)\n",
    "        test60_1 = 0\n",
    "    if (r['Regular Grid Service']-r[cap_2])/25000 < 0.4 and test60_2:\n",
    "        find_60.append(i)\n",
    "        test60_2 = 0\n",
    "    if (r['Regular Grid Service']-r[cap_3])/15000 < 0.4 and test60_3:\n",
    "        find_60.append(i)\n",
    "        test60_3 = 0\n",
    "    if (r['Regular Grid Service']-r[cap_4])/15000 < 0.4 and test60_4:\n",
    "        find_60.append(i)\n",
    "        test60_4 = 0\n",
    "\n",
    "if (intersect == []):\n",
    "    break_even_range = 0\n",
    "else:\n",
    "    break_even_range = 1\n",
    "    even_pt_lo = math.ceil(min(intersect)/12)\n",
    "    even_pt_hi = math.ceil(max(intersect)/12)\n",
    "#############################################################################################\n"
   ]
  },
  {
   "cell_type": "code",
   "execution_count": 27,
   "metadata": {},
   "outputs": [
    {
     "data": {
      "application/vnd.plotly.v1+json": {
       "config": {
        "plotlyServerURL": "https://plot.ly"
       },
       "data": [
        {
         "hovertemplate": "variable=I=$25k, r=0.15<br>year=%{x}<br>value=%{y}<extra></extra>",
         "legendgroup": "I=$25k, r=0.15",
         "line": {
          "color": "blue",
          "dash": "solid"
         },
         "mode": "lines",
         "name": "I=$25k, r=0.15",
         "orientation": "v",
         "showlegend": true,
         "type": "scatter",
         "x": [
          0,
          0.08333333333333333,
          0.16666666666666666,
          0.25,
          0.3333333333333333,
          0.4166666666666667,
          0.5,
          0.5833333333333334,
          0.6666666666666666,
          0.75,
          0.8333333333333334,
          0.9166666666666666,
          1,
          1.0833333333333333,
          1.1666666666666667,
          1.25,
          1.3333333333333333,
          1.4166666666666667,
          1.5,
          1.5833333333333333,
          1.6666666666666667,
          1.75,
          1.8333333333333333,
          1.9166666666666667,
          2,
          2.0833333333333335,
          2.1666666666666665,
          2.25,
          2.3333333333333335,
          2.4166666666666665,
          2.5,
          2.5833333333333335,
          2.6666666666666665,
          2.75,
          2.8333333333333335,
          2.9166666666666665,
          3,
          3.0833333333333335,
          3.1666666666666665,
          3.25,
          3.3333333333333335,
          3.4166666666666665,
          3.5,
          3.5833333333333335,
          3.6666666666666665,
          3.75,
          3.8333333333333335,
          3.9166666666666665,
          4,
          4.083333333333333,
          4.166666666666667,
          4.25,
          4.333333333333333,
          4.416666666666667,
          4.5,
          4.583333333333333,
          4.666666666666667,
          4.75,
          4.833333333333333,
          4.916666666666667,
          5,
          5.083333333333333,
          5.166666666666667,
          5.25,
          5.333333333333333,
          5.416666666666667,
          5.5,
          5.583333333333333,
          5.666666666666667,
          5.75,
          5.833333333333333,
          5.916666666666667,
          6,
          6.083333333333333,
          6.166666666666667,
          6.25,
          6.333333333333333,
          6.416666666666667,
          6.5,
          6.583333333333333,
          6.666666666666667,
          6.75,
          6.833333333333333,
          6.916666666666667,
          7,
          7.083333333333333,
          7.166666666666667,
          7.25,
          7.333333333333333,
          7.416666666666667,
          7.5,
          7.583333333333333,
          7.666666666666667,
          7.75,
          7.833333333333333,
          7.916666666666667,
          8,
          8.083333333333334,
          8.166666666666666,
          8.25,
          8.333333333333334,
          8.416666666666666,
          8.5,
          8.583333333333334,
          8.666666666666666,
          8.75,
          8.833333333333334,
          8.916666666666666,
          9,
          9.083333333333334,
          9.166666666666666,
          9.25,
          9.333333333333334,
          9.416666666666666,
          9.5,
          9.583333333333334,
          9.666666666666666,
          9.75,
          9.833333333333334,
          9.916666666666666,
          10,
          10.083333333333334,
          10.166666666666666,
          10.25,
          10.333333333333334,
          10.416666666666666,
          10.5,
          10.583333333333334,
          10.666666666666666,
          10.75,
          10.833333333333334,
          10.916666666666666,
          11,
          11.083333333333334,
          11.166666666666666,
          11.25,
          11.333333333333334,
          11.416666666666666,
          11.5,
          11.583333333333334,
          11.666666666666666,
          11.75,
          11.833333333333334,
          11.916666666666666,
          12,
          12.083333333333334,
          12.166666666666666,
          12.25,
          12.333333333333334,
          12.416666666666666,
          12.5,
          12.583333333333334,
          12.666666666666666,
          12.75,
          12.833333333333334,
          12.916666666666666,
          13,
          13.083333333333334,
          13.166666666666666,
          13.25,
          13.333333333333334,
          13.416666666666666,
          13.5,
          13.583333333333334,
          13.666666666666666,
          13.75,
          13.833333333333334,
          13.916666666666666,
          14,
          14.083333333333334,
          14.166666666666666,
          14.25,
          14.333333333333334,
          14.416666666666666,
          14.5,
          14.583333333333334,
          14.666666666666666,
          14.75,
          14.833333333333334,
          14.916666666666666,
          15
         ],
         "xaxis": "x",
         "y": [
          -25000,
          -25156.81159221212,
          -25263.205512891625,
          -25326.116913317255,
          -25399.922765102336,
          -25383.095892168596,
          -25294.36273822827,
          -25216.171360194363,
          -25212.155464659718,
          -25194.95740979495,
          -25174.380056978378,
          -25215.450679991947,
          -25342.30361726325,
          -25506.851273834476,
          -25615.340996299405,
          -25672.33416417379,
          -25734.64525652006,
          -25723.040347720165,
          -25638.28019202252,
          -25589.073912423122,
          -25567.77871059996,
          -25551.47161554555,
          -25518.016823631064,
          -25576.604522522663,
          -25697.845432720947,
          -25855.66432802594,
          -25961.74590192341,
          -26039.67123378779,
          -26089.536847227704,
          -26036.665745103008,
          -25950.01752227455,
          -25889.57663114839,
          -25888.3757475576,
          -25857.046742753733,
          -25820.272633886216,
          -25868.040476228773,
          -25997.319487783578,
          -26163.255877534946,
          -26267.6796228152,
          -26334.877657385583,
          -26367.248708075345,
          -26337.78997090472,
          -26260.775357526512,
          -26185.694257053856,
          -26168.292589444565,
          -26143.954301803573,
          -26124.359842323942,
          -26178.190548662707,
          -26300.812542157124,
          -26462.85839981425,
          -26564.762979721938,
          -26638.33809163055,
          -26692.1242010099,
          -26695.292647746654,
          -26563.80660230378,
          -26510.390795852407,
          -26497.30529794618,
          -26457.79910011651,
          -26431.70935038494,
          -26485.689869652917,
          -26611.739927919065,
          -26789.96904533518,
          -26891.909804611034,
          -26967.540701519378,
          -27038.279167679153,
          -27029.455272291583,
          -26973.69426575862,
          -26897.664950097984,
          -26899.07876899477,
          -26858.939533398137,
          -26825.742794032732,
          -26884.710843022178,
          -27008.228094810707,
          -27186.576603173264,
          -27296.256259986698,
          -27381.555447916937,
          -27442.198808031113,
          -27393.841955849988,
          -27302.845659154053,
          -27210.480809470282,
          -27183.591769197672,
          -27145.072339605613,
          -27113.585578153055,
          -27177.338991465083,
          -27305.958017387435,
          -27493.53950515562,
          -27619.32476551953,
          -27683.700210739185,
          -27747.18781590779,
          -27717.98900619235,
          -27599.599053159596,
          -27528.76573791929,
          -27487.070574594483,
          -27447.02485291544,
          -27411.350464581603,
          -27473.53382583711,
          -27603.749806470383,
          -27791.81720178855,
          -27912.58855945569,
          -27984.650730602465,
          -28059.307093572435,
          -28017.090757466456,
          -27896.543783373756,
          -27842.402754830444,
          -27803.94092708274,
          -27787.556859106182,
          -27755.41407180546,
          -27809.320305934933,
          -27951.079821758463,
          -28157.303203777006,
          -28271.996228408258,
          -28352.501104197425,
          -28439.90578052482,
          -28431.448251745445,
          -28332.244839607105,
          -28283.097331562916,
          -28279.380482594148,
          -28261.227466815555,
          -28238.708972972698,
          -28290.490173854014,
          -28434.165510050847,
          -28623.303070250447,
          -28740.27049015466,
          -28805.765095927272,
          -28874.96842726312,
          -28838.842347802332,
          -28762.084442879892,
          -28687.105033171632,
          -28648.061314250586,
          -28623.961745566576,
          -28603.084497905358,
          -28662.03810525849,
          -28812.554840211065,
          -29005.2513603851,
          -29118.646423217404,
          -29198.433580081666,
          -29258.28008440025,
          -29210.976515956023,
          -29120.093853915394,
          -29049.79698006735,
          -29047.03669663363,
          -29025.363455715356,
          -29003.835069522862,
          -29054.25656123252,
          -29198.43516017743,
          -29401.375252800277,
          -29522.390403848112,
          -29594.418435488842,
          -29671.020191573774,
          -29642.709347871834,
          -29550.79578731564,
          -29476.478496664364,
          -29464.19387034392,
          -29422.76744934496,
          -29380.951157683456,
          -29444.286934785854,
          -29601.361899140145,
          -29813.18724992166,
          -29947.61027399144,
          -30027.062186741205,
          -30092.254348978928,
          -30096.21811067558,
          -29984.155523823443,
          -29927.339583182104,
          -29936.33508082439,
          -29902.227011338575,
          -29870.876038705585,
          -29939.0737084282,
          -30109.721800188294,
          -30316.87562548521,
          -30445.686309008055,
          -30536.230285927646,
          -30571.791766876082,
          -30547.70208483977,
          -30449.18115616257,
          -30402.299430536812,
          -30393.482867297396,
          -30366.086472303512,
          -30325.879146132364,
          -30399.0724214763,
          -30560.395054302906
         ],
         "yaxis": "y"
        },
        {
         "hovertemplate": "variable=I=$25k, r=0.19<br>year=%{x}<br>value=%{y}<extra></extra>",
         "legendgroup": "I=$25k, r=0.19",
         "line": {
          "color": "green",
          "dash": "solid"
         },
         "mode": "lines",
         "name": "I=$25k, r=0.19",
         "orientation": "v",
         "showlegend": true,
         "type": "scatter",
         "x": [
          0,
          0.08333333333333333,
          0.16666666666666666,
          0.25,
          0.3333333333333333,
          0.4166666666666667,
          0.5,
          0.5833333333333334,
          0.6666666666666666,
          0.75,
          0.8333333333333334,
          0.9166666666666666,
          1,
          1.0833333333333333,
          1.1666666666666667,
          1.25,
          1.3333333333333333,
          1.4166666666666667,
          1.5,
          1.5833333333333333,
          1.6666666666666667,
          1.75,
          1.8333333333333333,
          1.9166666666666667,
          2,
          2.0833333333333335,
          2.1666666666666665,
          2.25,
          2.3333333333333335,
          2.4166666666666665,
          2.5,
          2.5833333333333335,
          2.6666666666666665,
          2.75,
          2.8333333333333335,
          2.9166666666666665,
          3,
          3.0833333333333335,
          3.1666666666666665,
          3.25,
          3.3333333333333335,
          3.4166666666666665,
          3.5,
          3.5833333333333335,
          3.6666666666666665,
          3.75,
          3.8333333333333335,
          3.9166666666666665,
          4,
          4.083333333333333,
          4.166666666666667,
          4.25,
          4.333333333333333,
          4.416666666666667,
          4.5,
          4.583333333333333,
          4.666666666666667,
          4.75,
          4.833333333333333,
          4.916666666666667,
          5,
          5.083333333333333,
          5.166666666666667,
          5.25,
          5.333333333333333,
          5.416666666666667,
          5.5,
          5.583333333333333,
          5.666666666666667,
          5.75,
          5.833333333333333,
          5.916666666666667,
          6,
          6.083333333333333,
          6.166666666666667,
          6.25,
          6.333333333333333,
          6.416666666666667,
          6.5,
          6.583333333333333,
          6.666666666666667,
          6.75,
          6.833333333333333,
          6.916666666666667,
          7,
          7.083333333333333,
          7.166666666666667,
          7.25,
          7.333333333333333,
          7.416666666666667,
          7.5,
          7.583333333333333,
          7.666666666666667,
          7.75,
          7.833333333333333,
          7.916666666666667,
          8,
          8.083333333333334,
          8.166666666666666,
          8.25,
          8.333333333333334,
          8.416666666666666,
          8.5,
          8.583333333333334,
          8.666666666666666,
          8.75,
          8.833333333333334,
          8.916666666666666,
          9,
          9.083333333333334,
          9.166666666666666,
          9.25,
          9.333333333333334,
          9.416666666666666,
          9.5,
          9.583333333333334,
          9.666666666666666,
          9.75,
          9.833333333333334,
          9.916666666666666,
          10,
          10.083333333333334,
          10.166666666666666,
          10.25,
          10.333333333333334,
          10.416666666666666,
          10.5,
          10.583333333333334,
          10.666666666666666,
          10.75,
          10.833333333333334,
          10.916666666666666,
          11,
          11.083333333333334,
          11.166666666666666,
          11.25,
          11.333333333333334,
          11.416666666666666,
          11.5,
          11.583333333333334,
          11.666666666666666,
          11.75,
          11.833333333333334,
          11.916666666666666,
          12,
          12.083333333333334,
          12.166666666666666,
          12.25,
          12.333333333333334,
          12.416666666666666,
          12.5,
          12.583333333333334,
          12.666666666666666,
          12.75,
          12.833333333333334,
          12.916666666666666,
          13,
          13.083333333333334,
          13.166666666666666,
          13.25,
          13.333333333333334,
          13.416666666666666,
          13.5,
          13.583333333333334,
          13.666666666666666,
          13.75,
          13.833333333333334,
          13.916666666666666,
          14,
          14.083333333333334,
          14.166666666666666,
          14.25,
          14.333333333333334,
          14.416666666666666,
          14.5,
          14.583333333333334,
          14.666666666666666,
          14.75,
          14.833333333333334,
          14.916666666666666,
          15
         ],
         "xaxis": "x",
         "y": [
          -25000,
          -25141.292443181937,
          -25229.895876237526,
          -25265.96618491631,
          -25303.602027108293,
          -25237.655688821767,
          -25088.359158797197,
          -24942.007121389794,
          -24873.409048133002,
          -24798.598491617413,
          -24734.459719247465,
          -24743.951272607585,
          -24854.09904405686,
          -25004.04379062127,
          -25094.37866194229,
          -25122.08019341896,
          -25144.03897558706,
          -25083.814479218665,
          -24938.812389600822,
          -24828.228617705838,
          -24736.473197705334,
          -24661.73066320913,
          -24580.518985472445,
          -24611.348210228927,
          -24713.37676173716,
          -24853.62876499582,
          -24939.97160592203,
          -24993.297415496083,
          -24998.352552353397,
          -24884.947045535806,
          -24736.800619704245,
          -24611.021223520656,
          -24543.422976660666,
          -24448.57095219994,
          -24362.378094163178,
          -24378.63453008075,
          -24489.813811279055,
          -24639.1549355539,
          -24722.437317178097,
          -24761.26762463066,
          -24743.000822534446,
          -24658.322269109496,
          -24521.61057504328,
          -24376.30249500565,
          -24286.861712502658,
          -24199.76122408072,
          -24134.53700886586,
          -24157.588082557635,
          -24259.28365821069,
          -24402.479875777957,
          -24481.59156068229,
          -24527.573755369875,
          -24535.24729162108,
          -24490.949221418632,
          -24284.457183061422,
          -24165.58770172864,
          -24080.26609411224,
          -23972.827479636442,
          -23898.56780543831,
          -23920.905952420344,
          -24025.87123112879,
          -24188.325007014813,
          -24266.483170125914,
          -24314.12510020523,
          -24342.06251099905,
          -24281.60791205108,
          -24170.23539536383,
          -24021.69794650276,
          -23953.367207298143,
          -23843.978796373034,
          -23759.892682147944,
          -23787.62762322869,
          -23888.29071783025,
          -24049.62966012494,
          -24136.571090810874,
          -24195.49637873116,
          -24209.413362273724,
          -24097.898131424772,
          -23941.07940902952,
          -23770.805610758656,
          -23665.222151743325,
          -23556.71458750729,
          -23473.95370708456,
          -23506.810951221127,
          -23612.820451238913,
          -23784.563117414775,
          -23890.865256572426,
          -23922.304730056818,
          -23938.566465216274,
          -23850.312823795473,
          -23657.96433510864,
          -23513.898247359408,
          -23388.129885651226,
          -23276.49469236995,
          -23187.57193157928,
          -23217.482501523078,
          -23324.376652185023,
          -23495.41759022426,
          -23594.30826881993,
          -23634.48220666946,
          -23663.607917082903,
          -23557.84003925179,
          -23361.911566258786,
          -23237.90216389018,
          -23114.77027081639,
          -23031.88829330851,
          -22946.564189781762,
          -22965.013298279653,
          -23085.36833835312,
          -23278.06330429222,
          -23368.173033553445,
          -23418.01896770462,
          -23461.98376138382,
          -23397.931162457808,
          -23228.173155157485,
          -23109.380263430157,
          -23028.770405251154,
          -22942.405184032606,
          -22868.379654093576,
          -22883.14041138248,
          -23004.738016996067,
          -23174.420515605485,
          -23266.307783507033,
          -23296.098170800262,
          -23315.67297156347,
          -23215.50674719155,
          -23073.29770865953,
          -22920.65362052695,
          -22793.778356752027,
          -22698.613407161974,
          -22625.756746964922,
          -22648.58597717491,
          -22777.64153147439,
          -22950.434211165222,
          -23036.67106416281,
          -23083.501960571753,
          -23089.863125401178,
          -22974.450617842474,
          -22813.450573114813,
          -22665.58429368847,
          -22583.11965046799,
          -22489.73527279606,
          -22415.125594196204,
          -22426.110571142377,
          -22545.905840299336,
          -22730.247920174745,
          -22824.98894704687,
          -22860.90696146029,
          -22887.102557047605,
          -22794.637607745215,
          -22631.41411810831,
          -22477.27883928016,
          -22381.170662719072,
          -22261.446958161436,
          -22160.192458179044,
          -22186.477885038305,
          -22321.35193125702,
          -22515.49436405113,
          -22626.047800128614,
          -22670.26304743352,
          -22680.5898249053,
          -22627.87395149553,
          -22438.192368958444,
          -22305.025465929488,
          -22234.261160056754,
          -22122.462362656588,
          -22033.49818949942,
          -22064.863215861544,
          -22215.648138621676,
          -22402.389912238046,
          -22504.640069067864,
          -22561.776787477647,
          -22533.12636942241,
          -22443.72140118637,
          -22270.237872887054,
          -22148.43030798017,
          -22053.460886266228,
          -21948.791638368137,
          -21847.624358572873,
          -21884.216778282935,
          -22021.882066524595
         ],
         "yaxis": "y"
        },
        {
         "hovertemplate": "variable=I=$15k, r=0.15<br>year=%{x}<br>value=%{y}<extra></extra>",
         "legendgroup": "I=$15k, r=0.15",
         "line": {
          "color": "aqua",
          "dash": "solid"
         },
         "mode": "lines",
         "name": "I=$15k, r=0.15",
         "orientation": "v",
         "showlegend": true,
         "type": "scatter",
         "x": [
          0,
          0.08333333333333333,
          0.16666666666666666,
          0.25,
          0.3333333333333333,
          0.4166666666666667,
          0.5,
          0.5833333333333334,
          0.6666666666666666,
          0.75,
          0.8333333333333334,
          0.9166666666666666,
          1,
          1.0833333333333333,
          1.1666666666666667,
          1.25,
          1.3333333333333333,
          1.4166666666666667,
          1.5,
          1.5833333333333333,
          1.6666666666666667,
          1.75,
          1.8333333333333333,
          1.9166666666666667,
          2,
          2.0833333333333335,
          2.1666666666666665,
          2.25,
          2.3333333333333335,
          2.4166666666666665,
          2.5,
          2.5833333333333335,
          2.6666666666666665,
          2.75,
          2.8333333333333335,
          2.9166666666666665,
          3,
          3.0833333333333335,
          3.1666666666666665,
          3.25,
          3.3333333333333335,
          3.4166666666666665,
          3.5,
          3.5833333333333335,
          3.6666666666666665,
          3.75,
          3.8333333333333335,
          3.9166666666666665,
          4,
          4.083333333333333,
          4.166666666666667,
          4.25,
          4.333333333333333,
          4.416666666666667,
          4.5,
          4.583333333333333,
          4.666666666666667,
          4.75,
          4.833333333333333,
          4.916666666666667,
          5,
          5.083333333333333,
          5.166666666666667,
          5.25,
          5.333333333333333,
          5.416666666666667,
          5.5,
          5.583333333333333,
          5.666666666666667,
          5.75,
          5.833333333333333,
          5.916666666666667,
          6,
          6.083333333333333,
          6.166666666666667,
          6.25,
          6.333333333333333,
          6.416666666666667,
          6.5,
          6.583333333333333,
          6.666666666666667,
          6.75,
          6.833333333333333,
          6.916666666666667,
          7,
          7.083333333333333,
          7.166666666666667,
          7.25,
          7.333333333333333,
          7.416666666666667,
          7.5,
          7.583333333333333,
          7.666666666666667,
          7.75,
          7.833333333333333,
          7.916666666666667,
          8,
          8.083333333333334,
          8.166666666666666,
          8.25,
          8.333333333333334,
          8.416666666666666,
          8.5,
          8.583333333333334,
          8.666666666666666,
          8.75,
          8.833333333333334,
          8.916666666666666,
          9,
          9.083333333333334,
          9.166666666666666,
          9.25,
          9.333333333333334,
          9.416666666666666,
          9.5,
          9.583333333333334,
          9.666666666666666,
          9.75,
          9.833333333333334,
          9.916666666666666,
          10,
          10.083333333333334,
          10.166666666666666,
          10.25,
          10.333333333333334,
          10.416666666666666,
          10.5,
          10.583333333333334,
          10.666666666666666,
          10.75,
          10.833333333333334,
          10.916666666666666,
          11,
          11.083333333333334,
          11.166666666666666,
          11.25,
          11.333333333333334,
          11.416666666666666,
          11.5,
          11.583333333333334,
          11.666666666666666,
          11.75,
          11.833333333333334,
          11.916666666666666,
          12,
          12.083333333333334,
          12.166666666666666,
          12.25,
          12.333333333333334,
          12.416666666666666,
          12.5,
          12.583333333333334,
          12.666666666666666,
          12.75,
          12.833333333333334,
          12.916666666666666,
          13,
          13.083333333333334,
          13.166666666666666,
          13.25,
          13.333333333333334,
          13.416666666666666,
          13.5,
          13.583333333333334,
          13.666666666666666,
          13.75,
          13.833333333333334,
          13.916666666666666,
          14,
          14.083333333333334,
          14.166666666666666,
          14.25,
          14.333333333333334,
          14.416666666666666,
          14.5,
          14.583333333333334,
          14.666666666666666,
          14.75,
          14.833333333333334,
          14.916666666666666,
          15
         ],
         "xaxis": "x",
         "y": [
          -15000,
          -15156.811592212118,
          -15263.205512891625,
          -15326.116913317255,
          -15399.922765102334,
          -15383.095892168594,
          -15294.362738228272,
          -15216.171360194363,
          -15212.155464659716,
          -15194.95740979495,
          -15174.380056978374,
          -15215.450679991945,
          -15342.303617263246,
          -15506.85127383448,
          -15615.340996299405,
          -15672.334164173793,
          -15734.64525652006,
          -15723.040347720165,
          -15638.280192022521,
          -15589.073912423122,
          -15567.778710599958,
          -15551.471615545548,
          -15518.016823631064,
          -15576.60452252266,
          -15697.845432720947,
          -15855.664328025941,
          -15961.745901923407,
          -16039.671233787793,
          -16089.536847227708,
          -16036.665745103004,
          -15950.017522274547,
          -15889.576631148391,
          -15888.3757475576,
          -15857.046742753733,
          -15820.272633886216,
          -15868.040476228773,
          -15997.319487783581,
          -16163.255877534946,
          -16267.679622815202,
          -16334.877657385583,
          -16367.248708075345,
          -16337.78997090472,
          -16260.775357526512,
          -16185.694257053856,
          -16168.292589444565,
          -16143.954301803573,
          -16124.359842323944,
          -16178.190548662707,
          -16300.812542157124,
          -16462.85839981425,
          -16564.762979721938,
          -16638.338091630547,
          -16692.1242010099,
          -16695.292647746654,
          -16563.80660230378,
          -16510.390795852407,
          -16497.30529794618,
          -16457.79910011651,
          -16431.70935038494,
          -16485.689869652917,
          -16611.739927919065,
          -16789.96904533518,
          -16891.909804611034,
          -16967.540701519378,
          -17038.279167679153,
          -17029.455272291583,
          -16973.69426575862,
          -16897.664950097984,
          -16899.07876899477,
          -16858.939533398137,
          -16825.742794032732,
          -16884.710843022178,
          -17008.228094810707,
          -17186.576603173264,
          -17296.256259986698,
          -17381.555447916937,
          -17442.198808031113,
          -17393.841955849988,
          -17302.845659154053,
          -17210.480809470282,
          -17183.591769197672,
          -17145.072339605613,
          -17113.585578153055,
          -17177.338991465083,
          -17305.958017387435,
          -17493.53950515562,
          -17619.32476551953,
          -17683.700210739185,
          -17747.18781590779,
          -17717.98900619235,
          -17599.599053159596,
          -17528.76573791929,
          -17487.070574594483,
          -17447.02485291544,
          -17411.350464581603,
          -17473.53382583711,
          -17603.749806470383,
          -17791.81720178855,
          -17912.58855945569,
          -17984.650730602465,
          -18059.307093572435,
          -18017.090757466456,
          -17896.543783373756,
          -17842.402754830444,
          -17803.94092708274,
          -17787.556859106182,
          -17755.41407180546,
          -17809.320305934933,
          -17951.079821758463,
          -18157.303203777006,
          -18271.996228408258,
          -18352.501104197425,
          -18439.90578052482,
          -18431.448251745445,
          -18332.244839607105,
          -18283.097331562916,
          -18279.380482594148,
          -18261.227466815555,
          -18238.708972972698,
          -18290.490173854014,
          -18434.165510050847,
          -18623.303070250447,
          -18740.27049015466,
          -18805.765095927272,
          -18874.96842726312,
          -18838.842347802332,
          -18762.084442879892,
          -18687.105033171632,
          -18648.061314250586,
          -18623.961745566576,
          -18603.084497905358,
          -18662.03810525849,
          -18812.554840211065,
          -19005.2513603851,
          -19118.646423217404,
          -19198.433580081666,
          -19258.28008440025,
          -19210.976515956023,
          -19120.093853915394,
          -19049.79698006735,
          -19047.03669663363,
          -19025.363455715356,
          -19003.835069522862,
          -19054.25656123252,
          -19198.43516017743,
          -19401.375252800277,
          -19522.390403848112,
          -19594.418435488842,
          -19671.020191573774,
          -19642.709347871834,
          -19550.79578731564,
          -19476.478496664364,
          -19464.19387034392,
          -19422.76744934496,
          -19380.951157683456,
          -19444.286934785854,
          -19601.361899140145,
          -19813.18724992166,
          -19947.61027399144,
          -20027.062186741205,
          -20092.254348978928,
          -20096.21811067558,
          -19984.155523823443,
          -19927.339583182104,
          -19936.33508082439,
          -19902.227011338575,
          -19870.876038705585,
          -19939.0737084282,
          -20109.721800188294,
          -20316.87562548521,
          -20445.686309008055,
          -20536.230285927646,
          -20571.791766876082,
          -20547.70208483977,
          -20449.18115616257,
          -20402.299430536812,
          -20393.482867297396,
          -20366.086472303512,
          -20325.879146132364,
          -20399.0724214763,
          -20560.395054302906
         ],
         "yaxis": "y"
        },
        {
         "hovertemplate": "variable=I=$15k, r=0.19<br>year=%{x}<br>value=%{y}<extra></extra>",
         "legendgroup": "I=$15k, r=0.19",
         "line": {
          "color": "purple",
          "dash": "solid"
         },
         "mode": "lines",
         "name": "I=$15k, r=0.19",
         "orientation": "v",
         "showlegend": true,
         "type": "scatter",
         "x": [
          0,
          0.08333333333333333,
          0.16666666666666666,
          0.25,
          0.3333333333333333,
          0.4166666666666667,
          0.5,
          0.5833333333333334,
          0.6666666666666666,
          0.75,
          0.8333333333333334,
          0.9166666666666666,
          1,
          1.0833333333333333,
          1.1666666666666667,
          1.25,
          1.3333333333333333,
          1.4166666666666667,
          1.5,
          1.5833333333333333,
          1.6666666666666667,
          1.75,
          1.8333333333333333,
          1.9166666666666667,
          2,
          2.0833333333333335,
          2.1666666666666665,
          2.25,
          2.3333333333333335,
          2.4166666666666665,
          2.5,
          2.5833333333333335,
          2.6666666666666665,
          2.75,
          2.8333333333333335,
          2.9166666666666665,
          3,
          3.0833333333333335,
          3.1666666666666665,
          3.25,
          3.3333333333333335,
          3.4166666666666665,
          3.5,
          3.5833333333333335,
          3.6666666666666665,
          3.75,
          3.8333333333333335,
          3.9166666666666665,
          4,
          4.083333333333333,
          4.166666666666667,
          4.25,
          4.333333333333333,
          4.416666666666667,
          4.5,
          4.583333333333333,
          4.666666666666667,
          4.75,
          4.833333333333333,
          4.916666666666667,
          5,
          5.083333333333333,
          5.166666666666667,
          5.25,
          5.333333333333333,
          5.416666666666667,
          5.5,
          5.583333333333333,
          5.666666666666667,
          5.75,
          5.833333333333333,
          5.916666666666667,
          6,
          6.083333333333333,
          6.166666666666667,
          6.25,
          6.333333333333333,
          6.416666666666667,
          6.5,
          6.583333333333333,
          6.666666666666667,
          6.75,
          6.833333333333333,
          6.916666666666667,
          7,
          7.083333333333333,
          7.166666666666667,
          7.25,
          7.333333333333333,
          7.416666666666667,
          7.5,
          7.583333333333333,
          7.666666666666667,
          7.75,
          7.833333333333333,
          7.916666666666667,
          8,
          8.083333333333334,
          8.166666666666666,
          8.25,
          8.333333333333334,
          8.416666666666666,
          8.5,
          8.583333333333334,
          8.666666666666666,
          8.75,
          8.833333333333334,
          8.916666666666666,
          9,
          9.083333333333334,
          9.166666666666666,
          9.25,
          9.333333333333334,
          9.416666666666666,
          9.5,
          9.583333333333334,
          9.666666666666666,
          9.75,
          9.833333333333334,
          9.916666666666666,
          10,
          10.083333333333334,
          10.166666666666666,
          10.25,
          10.333333333333334,
          10.416666666666666,
          10.5,
          10.583333333333334,
          10.666666666666666,
          10.75,
          10.833333333333334,
          10.916666666666666,
          11,
          11.083333333333334,
          11.166666666666666,
          11.25,
          11.333333333333334,
          11.416666666666666,
          11.5,
          11.583333333333334,
          11.666666666666666,
          11.75,
          11.833333333333334,
          11.916666666666666,
          12,
          12.083333333333334,
          12.166666666666666,
          12.25,
          12.333333333333334,
          12.416666666666666,
          12.5,
          12.583333333333334,
          12.666666666666666,
          12.75,
          12.833333333333334,
          12.916666666666666,
          13,
          13.083333333333334,
          13.166666666666666,
          13.25,
          13.333333333333334,
          13.416666666666666,
          13.5,
          13.583333333333334,
          13.666666666666666,
          13.75,
          13.833333333333334,
          13.916666666666666,
          14,
          14.083333333333334,
          14.166666666666666,
          14.25,
          14.333333333333334,
          14.416666666666666,
          14.5,
          14.583333333333334,
          14.666666666666666,
          14.75,
          14.833333333333334,
          14.916666666666666,
          15
         ],
         "xaxis": "x",
         "y": [
          -15000,
          -15141.292443181936,
          -15229.895876237526,
          -15265.96618491631,
          -15303.60202710829,
          -15237.655688821767,
          -15088.359158797197,
          -14942.007121389792,
          -14873.409048133,
          -14798.598491617415,
          -14734.459719247461,
          -14743.951272607583,
          -14854.09904405686,
          -15004.043790621272,
          -15094.378661942288,
          -15122.08019341896,
          -15144.038975587062,
          -15083.814479218665,
          -14938.812389600822,
          -14828.22861770584,
          -14736.473197705332,
          -14661.73066320913,
          -14580.518985472445,
          -14611.348210228927,
          -14713.37676173716,
          -14853.628764995821,
          -14939.97160592203,
          -14993.297415496085,
          -14998.352552353395,
          -14884.947045535806,
          -14736.800619704245,
          -14611.021223520656,
          -14543.422976660668,
          -14448.570952199942,
          -14362.378094163178,
          -14378.634530080752,
          -14489.813811279055,
          -14639.1549355539,
          -14722.437317178097,
          -14761.26762463066,
          -14743.000822534448,
          -14658.322269109496,
          -14521.61057504328,
          -14376.302495005646,
          -14286.861712502658,
          -14199.76122408072,
          -14134.537008865858,
          -14157.588082557635,
          -14259.283658210688,
          -14402.479875777959,
          -14481.59156068229,
          -14527.573755369875,
          -14535.247291621079,
          -14490.949221418632,
          -14284.457183061424,
          -14165.58770172864,
          -14080.266094112241,
          -13972.827479636444,
          -13898.56780543831,
          -13920.905952420344,
          -14025.87123112879,
          -14188.325007014811,
          -14266.483170125914,
          -14314.125100205229,
          -14342.062510999049,
          -14281.60791205108,
          -14170.235395363832,
          -14021.69794650276,
          -13953.36720729814,
          -13843.978796373032,
          -13759.892682147944,
          -13787.627623228691,
          -13888.290717830247,
          -14049.62966012494,
          -14136.571090810872,
          -14195.49637873116,
          -14209.413362273724,
          -14097.89813142477,
          -13941.07940902952,
          -13770.805610758656,
          -13665.222151743325,
          -13556.714587507287,
          -13473.953707084562,
          -13506.810951221127,
          -13612.820451238913,
          -13784.563117414775,
          -13890.865256572426,
          -13922.304730056818,
          -13938.566465216274,
          -13850.312823795473,
          -13657.964335108642,
          -13513.898247359408,
          -13388.129885651226,
          -13276.49469236995,
          -13187.571931579281,
          -13217.482501523078,
          -13324.376652185023,
          -13495.41759022426,
          -13594.308268819928,
          -13634.482206669461,
          -13663.607917082903,
          -13557.84003925179,
          -13361.911566258786,
          -13237.90216389018,
          -13114.770270816389,
          -13031.888293308511,
          -12946.564189781762,
          -12965.013298279653,
          -13085.36833835312,
          -13278.06330429222,
          -13368.173033553445,
          -13418.018967704618,
          -13461.98376138382,
          -13397.931162457808,
          -13228.173155157485,
          -13109.380263430157,
          -13028.770405251154,
          -12942.405184032606,
          -12868.379654093576,
          -12883.14041138248,
          -13004.738016996067,
          -13174.420515605485,
          -13266.307783507033,
          -13296.098170800262,
          -13315.672971563468,
          -13215.50674719155,
          -13073.297708659531,
          -12920.653620526951,
          -12793.778356752027,
          -12698.613407161974,
          -12625.756746964922,
          -12648.58597717491,
          -12777.64153147439,
          -12950.434211165222,
          -13036.671064162809,
          -13083.501960571753,
          -13089.863125401178,
          -12974.450617842474,
          -12813.450573114813,
          -12665.58429368847,
          -12583.11965046799,
          -12489.73527279606,
          -12415.125594196204,
          -12426.110571142377,
          -12545.905840299336,
          -12730.247920174745,
          -12824.98894704687,
          -12860.906961460289,
          -12887.102557047605,
          -12794.637607745215,
          -12631.41411810831,
          -12477.27883928016,
          -12381.170662719072,
          -12261.446958161436,
          -12160.192458179044,
          -12186.477885038305,
          -12321.35193125702,
          -12515.49436405113,
          -12626.047800128614,
          -12670.26304743352,
          -12680.589824905299,
          -12627.87395149553,
          -12438.192368958444,
          -12305.025465929488,
          -12234.261160056754,
          -12122.462362656588,
          -12033.49818949942,
          -12064.863215861544,
          -12215.648138621676,
          -12402.389912238046,
          -12504.640069067864,
          -12561.776787477647,
          -12533.12636942241,
          -12443.721401186369,
          -12270.237872887054,
          -12148.430307980168,
          -12053.460886266228,
          -11948.791638368137,
          -11847.624358572873,
          -11884.216778282935,
          -12021.882066524595
         ],
         "yaxis": "y"
        },
        {
         "hovertemplate": "variable=Regular Grid Service<br>year=%{x}<br>value=%{y}<extra></extra>",
         "legendgroup": "Regular Grid Service",
         "line": {
          "color": "red",
          "dash": "solid"
         },
         "mode": "lines",
         "name": "Regular Grid Service",
         "orientation": "v",
         "showlegend": true,
         "type": "scatter",
         "x": [
          0,
          0.08333333333333333,
          0.16666666666666666,
          0.25,
          0.3333333333333333,
          0.4166666666666667,
          0.5,
          0.5833333333333334,
          0.6666666666666666,
          0.75,
          0.8333333333333334,
          0.9166666666666666,
          1,
          1.0833333333333333,
          1.1666666666666667,
          1.25,
          1.3333333333333333,
          1.4166666666666667,
          1.5,
          1.5833333333333333,
          1.6666666666666667,
          1.75,
          1.8333333333333333,
          1.9166666666666667,
          2,
          2.0833333333333335,
          2.1666666666666665,
          2.25,
          2.3333333333333335,
          2.4166666666666665,
          2.5,
          2.5833333333333335,
          2.6666666666666665,
          2.75,
          2.8333333333333335,
          2.9166666666666665,
          3,
          3.0833333333333335,
          3.1666666666666665,
          3.25,
          3.3333333333333335,
          3.4166666666666665,
          3.5,
          3.5833333333333335,
          3.6666666666666665,
          3.75,
          3.8333333333333335,
          3.9166666666666665,
          4,
          4.083333333333333,
          4.166666666666667,
          4.25,
          4.333333333333333,
          4.416666666666667,
          4.5,
          4.583333333333333,
          4.666666666666667,
          4.75,
          4.833333333333333,
          4.916666666666667,
          5,
          5.083333333333333,
          5.166666666666667,
          5.25,
          5.333333333333333,
          5.416666666666667,
          5.5,
          5.583333333333333,
          5.666666666666667,
          5.75,
          5.833333333333333,
          5.916666666666667,
          6,
          6.083333333333333,
          6.166666666666667,
          6.25,
          6.333333333333333,
          6.416666666666667,
          6.5,
          6.583333333333333,
          6.666666666666667,
          6.75,
          6.833333333333333,
          6.916666666666667,
          7,
          7.083333333333333,
          7.166666666666667,
          7.25,
          7.333333333333333,
          7.416666666666667,
          7.5,
          7.583333333333333,
          7.666666666666667,
          7.75,
          7.833333333333333,
          7.916666666666667,
          8,
          8.083333333333334,
          8.166666666666666,
          8.25,
          8.333333333333334,
          8.416666666666666,
          8.5,
          8.583333333333334,
          8.666666666666666,
          8.75,
          8.833333333333334,
          8.916666666666666,
          9,
          9.083333333333334,
          9.166666666666666,
          9.25,
          9.333333333333334,
          9.416666666666666,
          9.5,
          9.583333333333334,
          9.666666666666666,
          9.75,
          9.833333333333334,
          9.916666666666666,
          10,
          10.083333333333334,
          10.166666666666666,
          10.25,
          10.333333333333334,
          10.416666666666666,
          10.5,
          10.583333333333334,
          10.666666666666666,
          10.75,
          10.833333333333334,
          10.916666666666666,
          11,
          11.083333333333334,
          11.166666666666666,
          11.25,
          11.333333333333334,
          11.416666666666666,
          11.5,
          11.583333333333334,
          11.666666666666666,
          11.75,
          11.833333333333334,
          11.916666666666666,
          12,
          12.083333333333334,
          12.166666666666666,
          12.25,
          12.333333333333334,
          12.416666666666666,
          12.5,
          12.583333333333334,
          12.666666666666666,
          12.75,
          12.833333333333334,
          12.916666666666666,
          13,
          13.083333333333334,
          13.166666666666666,
          13.25,
          13.333333333333334,
          13.416666666666666,
          13.5,
          13.583333333333334,
          13.666666666666666,
          13.75,
          13.833333333333334,
          13.916666666666666,
          14,
          14.083333333333334,
          14.166666666666666,
          14.25,
          14.333333333333334,
          14.416666666666666,
          14.5,
          14.583333333333334,
          14.666666666666666,
          14.75,
          14.833333333333334,
          14.916666666666666,
          15
         ],
         "xaxis": "x",
         "y": [
          0,
          -215.0084010753,
          -388.1166503445,
          -551.6821448208,
          -761.12553258,
          -928.4966547192,
          -1066.8761610948,
          -1244.2872557115,
          -1482.4545266349,
          -1681.3033529607,
          -1824.0813234693,
          -1983.5734576833001,
          -2173.0707667872002,
          -2392.379335884006,
          -2568.9497501385904,
          -2735.7865545044165,
          -2949.4188100188003,
          -3120.1373546007844,
          -3261.2844511038966,
          -3442.2437676129307,
          -3685.1743839547985,
          -3888.0001868071145,
          -4033.6337167258866,
          -4196.315693624167,
          -4389.602948910145,
          -4613.297689388887,
          -4793.399511928563,
          -4963.573052381706,
          -5181.477953006377,
          -5355.610868480001,
          -5499.580906913176,
          -5684.15940975239,
          -5931.948638421096,
          -6138.830957330458,
          -6287.377157847605,
          -6453.312774283851,
          -6650.465774675548,
          -6878.634409963865,
          -7062.338268954335,
          -7235.915280216541,
          -7458.178278853706,
          -7635.793852636802,
          -7782.643291838639,
          -7970.913364734638,
          -8223.658377976717,
          -8434.678343264266,
          -8586.195467791757,
          -8755.449796556728,
          -8956.54585695626,
          -9189.277864950343,
          -9376.655801120622,
          -9553.70435260807,
          -9780.412611217978,
          -9961.580496476736,
          -10111.36692446261,
          -10303.40239881653,
          -10561.20231232345,
          -10776.442676916751,
          -10930.990143934792,
          -11103.629559275063,
          -11308.747540882585,
          -11546.13418903655,
          -11737.259683930233,
          -11917.849206447432,
          -12149.091630229539,
          -12333.882873193472,
          -12486.665029739064,
          -12682.541213580062,
          -12945.49712535712,
          -13165.042297242288,
          -13322.680713600688,
          -13498.772917247763,
          -13707.993258487435,
          -13950.12763960448,
          -14145.075644396038,
          -14329.276957363581,
          -14565.14422962133,
          -14753.631297444543,
          -14909.469097121046,
          -15109.262804638864,
          -15377.477834651465,
          -15601.413909974335,
          -15762.205094659905,
          -15941.819142379922,
          -16155.223890444388,
          -16402.200959183774,
          -16601.047924071165,
          -16788.93326329806,
          -17029.517881000964,
          -17221.77469018064,
          -17380.72924585067,
          -17584.518827518845,
          -17858.0981581317,
          -18086.512954961025,
          -18250.519963340306,
          -18433.726292014722,
          -18651.399135040476,
          -18903.31574515465,
          -19106.139649339788,
          -19297.78269535122,
          -19543.179005408183,
          -19739.280950771452,
          -19901.414597554885,
          -20109.279970856423,
          -20388.330888081535,
          -20621.313980847448,
          -20788.601129394316,
          -20975.471584642222,
          -21197.497884528493,
          -21454.45282684495,
          -21661.33320911379,
          -21856.80911604545,
          -22107.11335230355,
          -22307.137336574084,
          -22472.513656293188,
          -22684.536337060756,
          -22969.168272630366,
          -23206.8110272516,
          -23377.4439187694,
          -23568.051783122264,
          -23794.51860900626,
          -24056.612650169045,
          -24267.630640083262,
          -24467.016065153555,
          -24722.326386136818,
          -24926.350850092764,
          -25095.03469620625,
          -25311.29783058917,
          -25601.622404870173,
          -25844.01801458383,
          -26018.06356393199,
          -26212.483585571914,
          -26443.47974797359,
          -26710.81566995963,
          -26926.05401967213,
          -27129.42715324383,
          -27389.843680646758,
          -27597.948633881824,
          -27770.006156917578,
          -27990.594553988154,
          -28286.72561975478,
          -28533.96914166271,
          -28711.495601997834,
          -28909.804024070552,
          -29145.42010972026,
          -29418.102750146023,
          -29637.645866852774,
          -29845.086463095908,
          -30110.711321046896,
          -30322.97837334666,
          -30498.47704684313,
          -30723.47721185512,
          -31025.530898937075,
          -31277.719291283163,
          -31458.796280824987,
          -31661.07087133916,
          -31901.399278701865,
          -32179.535571936143,
          -32403.469550977028,
          -32615.058959145023,
          -32885.996314255026,
          -33102.508707600784,
          -33281.517354567186,
          -33511.01752287942,
          -33819.11228370301,
          -34076.34444389602,
          -34261.04297322869,
          -34467.36305555314,
          -34712.4980310631,
          -34996.19705016206,
          -35224.60970878376,
          -35440.43090511512,
          -35716.78700732733,
          -35937.62964854001,
          -36120.21846844574,
          -36354.30864012421,
          -36668.56529616428,
          -36930.94209956115,
          -37119.33459948046,
          -37329.78108345141,
          -37579.81875847156
         ],
         "yaxis": "y"
        }
       ],
       "layout": {
        "annotations": [
         {
          "showarrow": false,
          "text": "Likely Break-Even Range",
          "x": 9.125,
          "y": -14347
         }
        ],
        "legend": {
         "title": {
          "text": "variable"
         },
         "tracegroupgap": 0
        },
        "margin": {
         "t": 60
        },
        "shapes": [
         {
          "fillcolor": "rgb(179,226,205)",
          "layer": "below",
          "line": {
           "width": 0
          },
          "opacity": 0.5,
          "type": "rect",
          "x0": 6.166666666666667,
          "x1": 12.083333333333334,
          "xref": "x",
          "y0": 0,
          "y1": 1,
          "yref": "y domain"
         }
        ],
        "template": {
         "data": {
          "bar": [
           {
            "error_x": {
             "color": "#2a3f5f"
            },
            "error_y": {
             "color": "#2a3f5f"
            },
            "marker": {
             "line": {
              "color": "#E5ECF6",
              "width": 0.5
             }
            },
            "type": "bar"
           }
          ],
          "barpolar": [
           {
            "marker": {
             "line": {
              "color": "#E5ECF6",
              "width": 0.5
             }
            },
            "type": "barpolar"
           }
          ],
          "carpet": [
           {
            "aaxis": {
             "endlinecolor": "#2a3f5f",
             "gridcolor": "white",
             "linecolor": "white",
             "minorgridcolor": "white",
             "startlinecolor": "#2a3f5f"
            },
            "baxis": {
             "endlinecolor": "#2a3f5f",
             "gridcolor": "white",
             "linecolor": "white",
             "minorgridcolor": "white",
             "startlinecolor": "#2a3f5f"
            },
            "type": "carpet"
           }
          ],
          "choropleth": [
           {
            "colorbar": {
             "outlinewidth": 0,
             "ticks": ""
            },
            "type": "choropleth"
           }
          ],
          "contour": [
           {
            "colorbar": {
             "outlinewidth": 0,
             "ticks": ""
            },
            "colorscale": [
             [
              0,
              "#0d0887"
             ],
             [
              0.1111111111111111,
              "#46039f"
             ],
             [
              0.2222222222222222,
              "#7201a8"
             ],
             [
              0.3333333333333333,
              "#9c179e"
             ],
             [
              0.4444444444444444,
              "#bd3786"
             ],
             [
              0.5555555555555556,
              "#d8576b"
             ],
             [
              0.6666666666666666,
              "#ed7953"
             ],
             [
              0.7777777777777778,
              "#fb9f3a"
             ],
             [
              0.8888888888888888,
              "#fdca26"
             ],
             [
              1,
              "#f0f921"
             ]
            ],
            "type": "contour"
           }
          ],
          "contourcarpet": [
           {
            "colorbar": {
             "outlinewidth": 0,
             "ticks": ""
            },
            "type": "contourcarpet"
           }
          ],
          "heatmap": [
           {
            "colorbar": {
             "outlinewidth": 0,
             "ticks": ""
            },
            "colorscale": [
             [
              0,
              "#0d0887"
             ],
             [
              0.1111111111111111,
              "#46039f"
             ],
             [
              0.2222222222222222,
              "#7201a8"
             ],
             [
              0.3333333333333333,
              "#9c179e"
             ],
             [
              0.4444444444444444,
              "#bd3786"
             ],
             [
              0.5555555555555556,
              "#d8576b"
             ],
             [
              0.6666666666666666,
              "#ed7953"
             ],
             [
              0.7777777777777778,
              "#fb9f3a"
             ],
             [
              0.8888888888888888,
              "#fdca26"
             ],
             [
              1,
              "#f0f921"
             ]
            ],
            "type": "heatmap"
           }
          ],
          "heatmapgl": [
           {
            "colorbar": {
             "outlinewidth": 0,
             "ticks": ""
            },
            "colorscale": [
             [
              0,
              "#0d0887"
             ],
             [
              0.1111111111111111,
              "#46039f"
             ],
             [
              0.2222222222222222,
              "#7201a8"
             ],
             [
              0.3333333333333333,
              "#9c179e"
             ],
             [
              0.4444444444444444,
              "#bd3786"
             ],
             [
              0.5555555555555556,
              "#d8576b"
             ],
             [
              0.6666666666666666,
              "#ed7953"
             ],
             [
              0.7777777777777778,
              "#fb9f3a"
             ],
             [
              0.8888888888888888,
              "#fdca26"
             ],
             [
              1,
              "#f0f921"
             ]
            ],
            "type": "heatmapgl"
           }
          ],
          "histogram": [
           {
            "marker": {
             "colorbar": {
              "outlinewidth": 0,
              "ticks": ""
             }
            },
            "type": "histogram"
           }
          ],
          "histogram2d": [
           {
            "colorbar": {
             "outlinewidth": 0,
             "ticks": ""
            },
            "colorscale": [
             [
              0,
              "#0d0887"
             ],
             [
              0.1111111111111111,
              "#46039f"
             ],
             [
              0.2222222222222222,
              "#7201a8"
             ],
             [
              0.3333333333333333,
              "#9c179e"
             ],
             [
              0.4444444444444444,
              "#bd3786"
             ],
             [
              0.5555555555555556,
              "#d8576b"
             ],
             [
              0.6666666666666666,
              "#ed7953"
             ],
             [
              0.7777777777777778,
              "#fb9f3a"
             ],
             [
              0.8888888888888888,
              "#fdca26"
             ],
             [
              1,
              "#f0f921"
             ]
            ],
            "type": "histogram2d"
           }
          ],
          "histogram2dcontour": [
           {
            "colorbar": {
             "outlinewidth": 0,
             "ticks": ""
            },
            "colorscale": [
             [
              0,
              "#0d0887"
             ],
             [
              0.1111111111111111,
              "#46039f"
             ],
             [
              0.2222222222222222,
              "#7201a8"
             ],
             [
              0.3333333333333333,
              "#9c179e"
             ],
             [
              0.4444444444444444,
              "#bd3786"
             ],
             [
              0.5555555555555556,
              "#d8576b"
             ],
             [
              0.6666666666666666,
              "#ed7953"
             ],
             [
              0.7777777777777778,
              "#fb9f3a"
             ],
             [
              0.8888888888888888,
              "#fdca26"
             ],
             [
              1,
              "#f0f921"
             ]
            ],
            "type": "histogram2dcontour"
           }
          ],
          "mesh3d": [
           {
            "colorbar": {
             "outlinewidth": 0,
             "ticks": ""
            },
            "type": "mesh3d"
           }
          ],
          "parcoords": [
           {
            "line": {
             "colorbar": {
              "outlinewidth": 0,
              "ticks": ""
             }
            },
            "type": "parcoords"
           }
          ],
          "pie": [
           {
            "automargin": true,
            "type": "pie"
           }
          ],
          "scatter": [
           {
            "marker": {
             "colorbar": {
              "outlinewidth": 0,
              "ticks": ""
             }
            },
            "type": "scatter"
           }
          ],
          "scatter3d": [
           {
            "line": {
             "colorbar": {
              "outlinewidth": 0,
              "ticks": ""
             }
            },
            "marker": {
             "colorbar": {
              "outlinewidth": 0,
              "ticks": ""
             }
            },
            "type": "scatter3d"
           }
          ],
          "scattercarpet": [
           {
            "marker": {
             "colorbar": {
              "outlinewidth": 0,
              "ticks": ""
             }
            },
            "type": "scattercarpet"
           }
          ],
          "scattergeo": [
           {
            "marker": {
             "colorbar": {
              "outlinewidth": 0,
              "ticks": ""
             }
            },
            "type": "scattergeo"
           }
          ],
          "scattergl": [
           {
            "marker": {
             "colorbar": {
              "outlinewidth": 0,
              "ticks": ""
             }
            },
            "type": "scattergl"
           }
          ],
          "scattermapbox": [
           {
            "marker": {
             "colorbar": {
              "outlinewidth": 0,
              "ticks": ""
             }
            },
            "type": "scattermapbox"
           }
          ],
          "scatterpolar": [
           {
            "marker": {
             "colorbar": {
              "outlinewidth": 0,
              "ticks": ""
             }
            },
            "type": "scatterpolar"
           }
          ],
          "scatterpolargl": [
           {
            "marker": {
             "colorbar": {
              "outlinewidth": 0,
              "ticks": ""
             }
            },
            "type": "scatterpolargl"
           }
          ],
          "scatterternary": [
           {
            "marker": {
             "colorbar": {
              "outlinewidth": 0,
              "ticks": ""
             }
            },
            "type": "scatterternary"
           }
          ],
          "surface": [
           {
            "colorbar": {
             "outlinewidth": 0,
             "ticks": ""
            },
            "colorscale": [
             [
              0,
              "#0d0887"
             ],
             [
              0.1111111111111111,
              "#46039f"
             ],
             [
              0.2222222222222222,
              "#7201a8"
             ],
             [
              0.3333333333333333,
              "#9c179e"
             ],
             [
              0.4444444444444444,
              "#bd3786"
             ],
             [
              0.5555555555555556,
              "#d8576b"
             ],
             [
              0.6666666666666666,
              "#ed7953"
             ],
             [
              0.7777777777777778,
              "#fb9f3a"
             ],
             [
              0.8888888888888888,
              "#fdca26"
             ],
             [
              1,
              "#f0f921"
             ]
            ],
            "type": "surface"
           }
          ],
          "table": [
           {
            "cells": {
             "fill": {
              "color": "#EBF0F8"
             },
             "line": {
              "color": "white"
             }
            },
            "header": {
             "fill": {
              "color": "#C8D4E3"
             },
             "line": {
              "color": "white"
             }
            },
            "type": "table"
           }
          ]
         },
         "layout": {
          "annotationdefaults": {
           "arrowcolor": "#2a3f5f",
           "arrowhead": 0,
           "arrowwidth": 1
          },
          "autotypenumbers": "strict",
          "coloraxis": {
           "colorbar": {
            "outlinewidth": 0,
            "ticks": ""
           }
          },
          "colorscale": {
           "diverging": [
            [
             0,
             "#8e0152"
            ],
            [
             0.1,
             "#c51b7d"
            ],
            [
             0.2,
             "#de77ae"
            ],
            [
             0.3,
             "#f1b6da"
            ],
            [
             0.4,
             "#fde0ef"
            ],
            [
             0.5,
             "#f7f7f7"
            ],
            [
             0.6,
             "#e6f5d0"
            ],
            [
             0.7,
             "#b8e186"
            ],
            [
             0.8,
             "#7fbc41"
            ],
            [
             0.9,
             "#4d9221"
            ],
            [
             1,
             "#276419"
            ]
           ],
           "sequential": [
            [
             0,
             "#0d0887"
            ],
            [
             0.1111111111111111,
             "#46039f"
            ],
            [
             0.2222222222222222,
             "#7201a8"
            ],
            [
             0.3333333333333333,
             "#9c179e"
            ],
            [
             0.4444444444444444,
             "#bd3786"
            ],
            [
             0.5555555555555556,
             "#d8576b"
            ],
            [
             0.6666666666666666,
             "#ed7953"
            ],
            [
             0.7777777777777778,
             "#fb9f3a"
            ],
            [
             0.8888888888888888,
             "#fdca26"
            ],
            [
             1,
             "#f0f921"
            ]
           ],
           "sequentialminus": [
            [
             0,
             "#0d0887"
            ],
            [
             0.1111111111111111,
             "#46039f"
            ],
            [
             0.2222222222222222,
             "#7201a8"
            ],
            [
             0.3333333333333333,
             "#9c179e"
            ],
            [
             0.4444444444444444,
             "#bd3786"
            ],
            [
             0.5555555555555556,
             "#d8576b"
            ],
            [
             0.6666666666666666,
             "#ed7953"
            ],
            [
             0.7777777777777778,
             "#fb9f3a"
            ],
            [
             0.8888888888888888,
             "#fdca26"
            ],
            [
             1,
             "#f0f921"
            ]
           ]
          },
          "colorway": [
           "#636efa",
           "#EF553B",
           "#00cc96",
           "#ab63fa",
           "#FFA15A",
           "#19d3f3",
           "#FF6692",
           "#B6E880",
           "#FF97FF",
           "#FECB52"
          ],
          "font": {
           "color": "#2a3f5f"
          },
          "geo": {
           "bgcolor": "white",
           "lakecolor": "white",
           "landcolor": "#E5ECF6",
           "showlakes": true,
           "showland": true,
           "subunitcolor": "white"
          },
          "hoverlabel": {
           "align": "left"
          },
          "hovermode": "closest",
          "mapbox": {
           "style": "light"
          },
          "paper_bgcolor": "white",
          "plot_bgcolor": "#E5ECF6",
          "polar": {
           "angularaxis": {
            "gridcolor": "white",
            "linecolor": "white",
            "ticks": ""
           },
           "bgcolor": "#E5ECF6",
           "radialaxis": {
            "gridcolor": "white",
            "linecolor": "white",
            "ticks": ""
           }
          },
          "scene": {
           "xaxis": {
            "backgroundcolor": "#E5ECF6",
            "gridcolor": "white",
            "gridwidth": 2,
            "linecolor": "white",
            "showbackground": true,
            "ticks": "",
            "zerolinecolor": "white"
           },
           "yaxis": {
            "backgroundcolor": "#E5ECF6",
            "gridcolor": "white",
            "gridwidth": 2,
            "linecolor": "white",
            "showbackground": true,
            "ticks": "",
            "zerolinecolor": "white"
           },
           "zaxis": {
            "backgroundcolor": "#E5ECF6",
            "gridcolor": "white",
            "gridwidth": 2,
            "linecolor": "white",
            "showbackground": true,
            "ticks": "",
            "zerolinecolor": "white"
           }
          },
          "shapedefaults": {
           "line": {
            "color": "#2a3f5f"
           }
          },
          "ternary": {
           "aaxis": {
            "gridcolor": "white",
            "linecolor": "white",
            "ticks": ""
           },
           "baxis": {
            "gridcolor": "white",
            "linecolor": "white",
            "ticks": ""
           },
           "bgcolor": "#E5ECF6",
           "caxis": {
            "gridcolor": "white",
            "linecolor": "white",
            "ticks": ""
           }
          },
          "title": {
           "x": 0.05
          },
          "xaxis": {
           "automargin": true,
           "gridcolor": "white",
           "linecolor": "white",
           "ticks": "",
           "title": {
            "standoff": 15
           },
           "zerolinecolor": "white",
           "zerolinewidth": 2
          },
          "yaxis": {
           "automargin": true,
           "gridcolor": "white",
           "linecolor": "white",
           "ticks": "",
           "title": {
            "standoff": 15
           },
           "zerolinecolor": "white",
           "zerolinewidth": 2
          }
         }
        },
        "title": {
         "text": "Cost of regular grid power -vs- solar panel array",
         "x": 0.5,
         "xanchor": "center",
         "yanchor": "top"
        },
        "xaxis": {
         "anchor": "y",
         "domain": [
          0,
          1
         ],
         "title": {
          "text": "# of Years"
         }
        },
        "yaxis": {
         "anchor": "x",
         "domain": [
          0,
          1
         ],
         "title": {
          "text": "Projected Cost ($)"
         }
        }
       }
      },
      "text/html": [
       "<div>                            <div id=\"b7d370e8-692b-4993-b271-d1163e2913ea\" class=\"plotly-graph-div\" style=\"height:525px; width:100%;\"></div>            <script type=\"text/javascript\">                require([\"plotly\"], function(Plotly) {                    window.PLOTLYENV=window.PLOTLYENV || {};                                    if (document.getElementById(\"b7d370e8-692b-4993-b271-d1163e2913ea\")) {                    Plotly.newPlot(                        \"b7d370e8-692b-4993-b271-d1163e2913ea\",                        [{\"hovertemplate\": \"variable=I=$25k, r=0.15<br>year=%{x}<br>value=%{y}<extra></extra>\", \"legendgroup\": \"I=$25k, r=0.15\", \"line\": {\"color\": \"blue\", \"dash\": \"solid\"}, \"mode\": \"lines\", \"name\": \"I=$25k, r=0.15\", \"orientation\": \"v\", \"showlegend\": true, \"type\": \"scatter\", \"x\": [0.0, 0.08333333333333333, 0.16666666666666666, 0.25, 0.3333333333333333, 0.4166666666666667, 0.5, 0.5833333333333334, 0.6666666666666666, 0.75, 0.8333333333333334, 0.9166666666666666, 1.0, 1.0833333333333333, 1.1666666666666667, 1.25, 1.3333333333333333, 1.4166666666666667, 1.5, 1.5833333333333333, 1.6666666666666667, 1.75, 1.8333333333333333, 1.9166666666666667, 2.0, 2.0833333333333335, 2.1666666666666665, 2.25, 2.3333333333333335, 2.4166666666666665, 2.5, 2.5833333333333335, 2.6666666666666665, 2.75, 2.8333333333333335, 2.9166666666666665, 3.0, 3.0833333333333335, 3.1666666666666665, 3.25, 3.3333333333333335, 3.4166666666666665, 3.5, 3.5833333333333335, 3.6666666666666665, 3.75, 3.8333333333333335, 3.9166666666666665, 4.0, 4.083333333333333, 4.166666666666667, 4.25, 4.333333333333333, 4.416666666666667, 4.5, 4.583333333333333, 4.666666666666667, 4.75, 4.833333333333333, 4.916666666666667, 5.0, 5.083333333333333, 5.166666666666667, 5.25, 5.333333333333333, 5.416666666666667, 5.5, 5.583333333333333, 5.666666666666667, 5.75, 5.833333333333333, 5.916666666666667, 6.0, 6.083333333333333, 6.166666666666667, 6.25, 6.333333333333333, 6.416666666666667, 6.5, 6.583333333333333, 6.666666666666667, 6.75, 6.833333333333333, 6.916666666666667, 7.0, 7.083333333333333, 7.166666666666667, 7.25, 7.333333333333333, 7.416666666666667, 7.5, 7.583333333333333, 7.666666666666667, 7.75, 7.833333333333333, 7.916666666666667, 8.0, 8.083333333333334, 8.166666666666666, 8.25, 8.333333333333334, 8.416666666666666, 8.5, 8.583333333333334, 8.666666666666666, 8.75, 8.833333333333334, 8.916666666666666, 9.0, 9.083333333333334, 9.166666666666666, 9.25, 9.333333333333334, 9.416666666666666, 9.5, 9.583333333333334, 9.666666666666666, 9.75, 9.833333333333334, 9.916666666666666, 10.0, 10.083333333333334, 10.166666666666666, 10.25, 10.333333333333334, 10.416666666666666, 10.5, 10.583333333333334, 10.666666666666666, 10.75, 10.833333333333334, 10.916666666666666, 11.0, 11.083333333333334, 11.166666666666666, 11.25, 11.333333333333334, 11.416666666666666, 11.5, 11.583333333333334, 11.666666666666666, 11.75, 11.833333333333334, 11.916666666666666, 12.0, 12.083333333333334, 12.166666666666666, 12.25, 12.333333333333334, 12.416666666666666, 12.5, 12.583333333333334, 12.666666666666666, 12.75, 12.833333333333334, 12.916666666666666, 13.0, 13.083333333333334, 13.166666666666666, 13.25, 13.333333333333334, 13.416666666666666, 13.5, 13.583333333333334, 13.666666666666666, 13.75, 13.833333333333334, 13.916666666666666, 14.0, 14.083333333333334, 14.166666666666666, 14.25, 14.333333333333334, 14.416666666666666, 14.5, 14.583333333333334, 14.666666666666666, 14.75, 14.833333333333334, 14.916666666666666, 15.0], \"xaxis\": \"x\", \"y\": [-25000.0, -25156.81159221212, -25263.205512891625, -25326.116913317255, -25399.922765102336, -25383.095892168596, -25294.36273822827, -25216.171360194363, -25212.155464659718, -25194.95740979495, -25174.380056978378, -25215.450679991947, -25342.30361726325, -25506.851273834476, -25615.340996299405, -25672.33416417379, -25734.64525652006, -25723.040347720165, -25638.28019202252, -25589.073912423122, -25567.77871059996, -25551.47161554555, -25518.016823631064, -25576.604522522663, -25697.845432720947, -25855.66432802594, -25961.74590192341, -26039.67123378779, -26089.536847227704, -26036.665745103008, -25950.01752227455, -25889.57663114839, -25888.3757475576, -25857.046742753733, -25820.272633886216, -25868.040476228773, -25997.319487783578, -26163.255877534946, -26267.6796228152, -26334.877657385583, -26367.248708075345, -26337.78997090472, -26260.775357526512, -26185.694257053856, -26168.292589444565, -26143.954301803573, -26124.359842323942, -26178.190548662707, -26300.812542157124, -26462.85839981425, -26564.762979721938, -26638.33809163055, -26692.1242010099, -26695.292647746654, -26563.80660230378, -26510.390795852407, -26497.30529794618, -26457.79910011651, -26431.70935038494, -26485.689869652917, -26611.739927919065, -26789.96904533518, -26891.909804611034, -26967.540701519378, -27038.279167679153, -27029.455272291583, -26973.69426575862, -26897.664950097984, -26899.07876899477, -26858.939533398137, -26825.742794032732, -26884.710843022178, -27008.228094810707, -27186.576603173264, -27296.256259986698, -27381.555447916937, -27442.198808031113, -27393.841955849988, -27302.845659154053, -27210.480809470282, -27183.591769197672, -27145.072339605613, -27113.585578153055, -27177.338991465083, -27305.958017387435, -27493.53950515562, -27619.32476551953, -27683.700210739185, -27747.18781590779, -27717.98900619235, -27599.599053159596, -27528.76573791929, -27487.070574594483, -27447.02485291544, -27411.350464581603, -27473.53382583711, -27603.749806470383, -27791.81720178855, -27912.58855945569, -27984.650730602465, -28059.307093572435, -28017.090757466456, -27896.543783373756, -27842.402754830444, -27803.94092708274, -27787.556859106182, -27755.41407180546, -27809.320305934933, -27951.079821758463, -28157.303203777006, -28271.996228408258, -28352.501104197425, -28439.90578052482, -28431.448251745445, -28332.244839607105, -28283.097331562916, -28279.380482594148, -28261.227466815555, -28238.708972972698, -28290.490173854014, -28434.165510050847, -28623.303070250447, -28740.27049015466, -28805.765095927272, -28874.96842726312, -28838.842347802332, -28762.084442879892, -28687.105033171632, -28648.061314250586, -28623.961745566576, -28603.084497905358, -28662.03810525849, -28812.554840211065, -29005.2513603851, -29118.646423217404, -29198.433580081666, -29258.28008440025, -29210.976515956023, -29120.093853915394, -29049.79698006735, -29047.03669663363, -29025.363455715356, -29003.835069522862, -29054.25656123252, -29198.43516017743, -29401.375252800277, -29522.390403848112, -29594.418435488842, -29671.020191573774, -29642.709347871834, -29550.79578731564, -29476.478496664364, -29464.19387034392, -29422.76744934496, -29380.951157683456, -29444.286934785854, -29601.361899140145, -29813.18724992166, -29947.61027399144, -30027.062186741205, -30092.254348978928, -30096.21811067558, -29984.155523823443, -29927.339583182104, -29936.33508082439, -29902.227011338575, -29870.876038705585, -29939.0737084282, -30109.721800188294, -30316.87562548521, -30445.686309008055, -30536.230285927646, -30571.791766876082, -30547.70208483977, -30449.18115616257, -30402.299430536812, -30393.482867297396, -30366.086472303512, -30325.879146132364, -30399.0724214763, -30560.395054302906], \"yaxis\": \"y\"}, {\"hovertemplate\": \"variable=I=$25k, r=0.19<br>year=%{x}<br>value=%{y}<extra></extra>\", \"legendgroup\": \"I=$25k, r=0.19\", \"line\": {\"color\": \"green\", \"dash\": \"solid\"}, \"mode\": \"lines\", \"name\": \"I=$25k, r=0.19\", \"orientation\": \"v\", \"showlegend\": true, \"type\": \"scatter\", \"x\": [0.0, 0.08333333333333333, 0.16666666666666666, 0.25, 0.3333333333333333, 0.4166666666666667, 0.5, 0.5833333333333334, 0.6666666666666666, 0.75, 0.8333333333333334, 0.9166666666666666, 1.0, 1.0833333333333333, 1.1666666666666667, 1.25, 1.3333333333333333, 1.4166666666666667, 1.5, 1.5833333333333333, 1.6666666666666667, 1.75, 1.8333333333333333, 1.9166666666666667, 2.0, 2.0833333333333335, 2.1666666666666665, 2.25, 2.3333333333333335, 2.4166666666666665, 2.5, 2.5833333333333335, 2.6666666666666665, 2.75, 2.8333333333333335, 2.9166666666666665, 3.0, 3.0833333333333335, 3.1666666666666665, 3.25, 3.3333333333333335, 3.4166666666666665, 3.5, 3.5833333333333335, 3.6666666666666665, 3.75, 3.8333333333333335, 3.9166666666666665, 4.0, 4.083333333333333, 4.166666666666667, 4.25, 4.333333333333333, 4.416666666666667, 4.5, 4.583333333333333, 4.666666666666667, 4.75, 4.833333333333333, 4.916666666666667, 5.0, 5.083333333333333, 5.166666666666667, 5.25, 5.333333333333333, 5.416666666666667, 5.5, 5.583333333333333, 5.666666666666667, 5.75, 5.833333333333333, 5.916666666666667, 6.0, 6.083333333333333, 6.166666666666667, 6.25, 6.333333333333333, 6.416666666666667, 6.5, 6.583333333333333, 6.666666666666667, 6.75, 6.833333333333333, 6.916666666666667, 7.0, 7.083333333333333, 7.166666666666667, 7.25, 7.333333333333333, 7.416666666666667, 7.5, 7.583333333333333, 7.666666666666667, 7.75, 7.833333333333333, 7.916666666666667, 8.0, 8.083333333333334, 8.166666666666666, 8.25, 8.333333333333334, 8.416666666666666, 8.5, 8.583333333333334, 8.666666666666666, 8.75, 8.833333333333334, 8.916666666666666, 9.0, 9.083333333333334, 9.166666666666666, 9.25, 9.333333333333334, 9.416666666666666, 9.5, 9.583333333333334, 9.666666666666666, 9.75, 9.833333333333334, 9.916666666666666, 10.0, 10.083333333333334, 10.166666666666666, 10.25, 10.333333333333334, 10.416666666666666, 10.5, 10.583333333333334, 10.666666666666666, 10.75, 10.833333333333334, 10.916666666666666, 11.0, 11.083333333333334, 11.166666666666666, 11.25, 11.333333333333334, 11.416666666666666, 11.5, 11.583333333333334, 11.666666666666666, 11.75, 11.833333333333334, 11.916666666666666, 12.0, 12.083333333333334, 12.166666666666666, 12.25, 12.333333333333334, 12.416666666666666, 12.5, 12.583333333333334, 12.666666666666666, 12.75, 12.833333333333334, 12.916666666666666, 13.0, 13.083333333333334, 13.166666666666666, 13.25, 13.333333333333334, 13.416666666666666, 13.5, 13.583333333333334, 13.666666666666666, 13.75, 13.833333333333334, 13.916666666666666, 14.0, 14.083333333333334, 14.166666666666666, 14.25, 14.333333333333334, 14.416666666666666, 14.5, 14.583333333333334, 14.666666666666666, 14.75, 14.833333333333334, 14.916666666666666, 15.0], \"xaxis\": \"x\", \"y\": [-25000.0, -25141.292443181937, -25229.895876237526, -25265.96618491631, -25303.602027108293, -25237.655688821767, -25088.359158797197, -24942.007121389794, -24873.409048133002, -24798.598491617413, -24734.459719247465, -24743.951272607585, -24854.09904405686, -25004.04379062127, -25094.37866194229, -25122.08019341896, -25144.03897558706, -25083.814479218665, -24938.812389600822, -24828.228617705838, -24736.473197705334, -24661.73066320913, -24580.518985472445, -24611.348210228927, -24713.37676173716, -24853.62876499582, -24939.97160592203, -24993.297415496083, -24998.352552353397, -24884.947045535806, -24736.800619704245, -24611.021223520656, -24543.422976660666, -24448.57095219994, -24362.378094163178, -24378.63453008075, -24489.813811279055, -24639.1549355539, -24722.437317178097, -24761.26762463066, -24743.000822534446, -24658.322269109496, -24521.61057504328, -24376.30249500565, -24286.861712502658, -24199.76122408072, -24134.53700886586, -24157.588082557635, -24259.28365821069, -24402.479875777957, -24481.59156068229, -24527.573755369875, -24535.24729162108, -24490.949221418632, -24284.457183061422, -24165.58770172864, -24080.26609411224, -23972.827479636442, -23898.56780543831, -23920.905952420344, -24025.87123112879, -24188.325007014813, -24266.483170125914, -24314.12510020523, -24342.06251099905, -24281.60791205108, -24170.23539536383, -24021.69794650276, -23953.367207298143, -23843.978796373034, -23759.892682147944, -23787.62762322869, -23888.29071783025, -24049.62966012494, -24136.571090810874, -24195.49637873116, -24209.413362273724, -24097.898131424772, -23941.07940902952, -23770.805610758656, -23665.222151743325, -23556.71458750729, -23473.95370708456, -23506.810951221127, -23612.820451238913, -23784.563117414775, -23890.865256572426, -23922.304730056818, -23938.566465216274, -23850.312823795473, -23657.96433510864, -23513.898247359408, -23388.129885651226, -23276.49469236995, -23187.57193157928, -23217.482501523078, -23324.376652185023, -23495.41759022426, -23594.30826881993, -23634.48220666946, -23663.607917082903, -23557.84003925179, -23361.911566258786, -23237.90216389018, -23114.77027081639, -23031.88829330851, -22946.564189781762, -22965.013298279653, -23085.36833835312, -23278.06330429222, -23368.173033553445, -23418.01896770462, -23461.98376138382, -23397.931162457808, -23228.173155157485, -23109.380263430157, -23028.770405251154, -22942.405184032606, -22868.379654093576, -22883.14041138248, -23004.738016996067, -23174.420515605485, -23266.307783507033, -23296.098170800262, -23315.67297156347, -23215.50674719155, -23073.29770865953, -22920.65362052695, -22793.778356752027, -22698.613407161974, -22625.756746964922, -22648.58597717491, -22777.64153147439, -22950.434211165222, -23036.67106416281, -23083.501960571753, -23089.863125401178, -22974.450617842474, -22813.450573114813, -22665.58429368847, -22583.11965046799, -22489.73527279606, -22415.125594196204, -22426.110571142377, -22545.905840299336, -22730.247920174745, -22824.98894704687, -22860.90696146029, -22887.102557047605, -22794.637607745215, -22631.41411810831, -22477.27883928016, -22381.170662719072, -22261.446958161436, -22160.192458179044, -22186.477885038305, -22321.35193125702, -22515.49436405113, -22626.047800128614, -22670.26304743352, -22680.5898249053, -22627.87395149553, -22438.192368958444, -22305.025465929488, -22234.261160056754, -22122.462362656588, -22033.49818949942, -22064.863215861544, -22215.648138621676, -22402.389912238046, -22504.640069067864, -22561.776787477647, -22533.12636942241, -22443.72140118637, -22270.237872887054, -22148.43030798017, -22053.460886266228, -21948.791638368137, -21847.624358572873, -21884.216778282935, -22021.882066524595], \"yaxis\": \"y\"}, {\"hovertemplate\": \"variable=I=$15k, r=0.15<br>year=%{x}<br>value=%{y}<extra></extra>\", \"legendgroup\": \"I=$15k, r=0.15\", \"line\": {\"color\": \"aqua\", \"dash\": \"solid\"}, \"mode\": \"lines\", \"name\": \"I=$15k, r=0.15\", \"orientation\": \"v\", \"showlegend\": true, \"type\": \"scatter\", \"x\": [0.0, 0.08333333333333333, 0.16666666666666666, 0.25, 0.3333333333333333, 0.4166666666666667, 0.5, 0.5833333333333334, 0.6666666666666666, 0.75, 0.8333333333333334, 0.9166666666666666, 1.0, 1.0833333333333333, 1.1666666666666667, 1.25, 1.3333333333333333, 1.4166666666666667, 1.5, 1.5833333333333333, 1.6666666666666667, 1.75, 1.8333333333333333, 1.9166666666666667, 2.0, 2.0833333333333335, 2.1666666666666665, 2.25, 2.3333333333333335, 2.4166666666666665, 2.5, 2.5833333333333335, 2.6666666666666665, 2.75, 2.8333333333333335, 2.9166666666666665, 3.0, 3.0833333333333335, 3.1666666666666665, 3.25, 3.3333333333333335, 3.4166666666666665, 3.5, 3.5833333333333335, 3.6666666666666665, 3.75, 3.8333333333333335, 3.9166666666666665, 4.0, 4.083333333333333, 4.166666666666667, 4.25, 4.333333333333333, 4.416666666666667, 4.5, 4.583333333333333, 4.666666666666667, 4.75, 4.833333333333333, 4.916666666666667, 5.0, 5.083333333333333, 5.166666666666667, 5.25, 5.333333333333333, 5.416666666666667, 5.5, 5.583333333333333, 5.666666666666667, 5.75, 5.833333333333333, 5.916666666666667, 6.0, 6.083333333333333, 6.166666666666667, 6.25, 6.333333333333333, 6.416666666666667, 6.5, 6.583333333333333, 6.666666666666667, 6.75, 6.833333333333333, 6.916666666666667, 7.0, 7.083333333333333, 7.166666666666667, 7.25, 7.333333333333333, 7.416666666666667, 7.5, 7.583333333333333, 7.666666666666667, 7.75, 7.833333333333333, 7.916666666666667, 8.0, 8.083333333333334, 8.166666666666666, 8.25, 8.333333333333334, 8.416666666666666, 8.5, 8.583333333333334, 8.666666666666666, 8.75, 8.833333333333334, 8.916666666666666, 9.0, 9.083333333333334, 9.166666666666666, 9.25, 9.333333333333334, 9.416666666666666, 9.5, 9.583333333333334, 9.666666666666666, 9.75, 9.833333333333334, 9.916666666666666, 10.0, 10.083333333333334, 10.166666666666666, 10.25, 10.333333333333334, 10.416666666666666, 10.5, 10.583333333333334, 10.666666666666666, 10.75, 10.833333333333334, 10.916666666666666, 11.0, 11.083333333333334, 11.166666666666666, 11.25, 11.333333333333334, 11.416666666666666, 11.5, 11.583333333333334, 11.666666666666666, 11.75, 11.833333333333334, 11.916666666666666, 12.0, 12.083333333333334, 12.166666666666666, 12.25, 12.333333333333334, 12.416666666666666, 12.5, 12.583333333333334, 12.666666666666666, 12.75, 12.833333333333334, 12.916666666666666, 13.0, 13.083333333333334, 13.166666666666666, 13.25, 13.333333333333334, 13.416666666666666, 13.5, 13.583333333333334, 13.666666666666666, 13.75, 13.833333333333334, 13.916666666666666, 14.0, 14.083333333333334, 14.166666666666666, 14.25, 14.333333333333334, 14.416666666666666, 14.5, 14.583333333333334, 14.666666666666666, 14.75, 14.833333333333334, 14.916666666666666, 15.0], \"xaxis\": \"x\", \"y\": [-15000.0, -15156.811592212118, -15263.205512891625, -15326.116913317255, -15399.922765102334, -15383.095892168594, -15294.362738228272, -15216.171360194363, -15212.155464659716, -15194.95740979495, -15174.380056978374, -15215.450679991945, -15342.303617263246, -15506.85127383448, -15615.340996299405, -15672.334164173793, -15734.64525652006, -15723.040347720165, -15638.280192022521, -15589.073912423122, -15567.778710599958, -15551.471615545548, -15518.016823631064, -15576.60452252266, -15697.845432720947, -15855.664328025941, -15961.745901923407, -16039.671233787793, -16089.536847227708, -16036.665745103004, -15950.017522274547, -15889.576631148391, -15888.3757475576, -15857.046742753733, -15820.272633886216, -15868.040476228773, -15997.319487783581, -16163.255877534946, -16267.679622815202, -16334.877657385583, -16367.248708075345, -16337.78997090472, -16260.775357526512, -16185.694257053856, -16168.292589444565, -16143.954301803573, -16124.359842323944, -16178.190548662707, -16300.812542157124, -16462.85839981425, -16564.762979721938, -16638.338091630547, -16692.1242010099, -16695.292647746654, -16563.80660230378, -16510.390795852407, -16497.30529794618, -16457.79910011651, -16431.70935038494, -16485.689869652917, -16611.739927919065, -16789.96904533518, -16891.909804611034, -16967.540701519378, -17038.279167679153, -17029.455272291583, -16973.69426575862, -16897.664950097984, -16899.07876899477, -16858.939533398137, -16825.742794032732, -16884.710843022178, -17008.228094810707, -17186.576603173264, -17296.256259986698, -17381.555447916937, -17442.198808031113, -17393.841955849988, -17302.845659154053, -17210.480809470282, -17183.591769197672, -17145.072339605613, -17113.585578153055, -17177.338991465083, -17305.958017387435, -17493.53950515562, -17619.32476551953, -17683.700210739185, -17747.18781590779, -17717.98900619235, -17599.599053159596, -17528.76573791929, -17487.070574594483, -17447.02485291544, -17411.350464581603, -17473.53382583711, -17603.749806470383, -17791.81720178855, -17912.58855945569, -17984.650730602465, -18059.307093572435, -18017.090757466456, -17896.543783373756, -17842.402754830444, -17803.94092708274, -17787.556859106182, -17755.41407180546, -17809.320305934933, -17951.079821758463, -18157.303203777006, -18271.996228408258, -18352.501104197425, -18439.90578052482, -18431.448251745445, -18332.244839607105, -18283.097331562916, -18279.380482594148, -18261.227466815555, -18238.708972972698, -18290.490173854014, -18434.165510050847, -18623.303070250447, -18740.27049015466, -18805.765095927272, -18874.96842726312, -18838.842347802332, -18762.084442879892, -18687.105033171632, -18648.061314250586, -18623.961745566576, -18603.084497905358, -18662.03810525849, -18812.554840211065, -19005.2513603851, -19118.646423217404, -19198.433580081666, -19258.28008440025, -19210.976515956023, -19120.093853915394, -19049.79698006735, -19047.03669663363, -19025.363455715356, -19003.835069522862, -19054.25656123252, -19198.43516017743, -19401.375252800277, -19522.390403848112, -19594.418435488842, -19671.020191573774, -19642.709347871834, -19550.79578731564, -19476.478496664364, -19464.19387034392, -19422.76744934496, -19380.951157683456, -19444.286934785854, -19601.361899140145, -19813.18724992166, -19947.61027399144, -20027.062186741205, -20092.254348978928, -20096.21811067558, -19984.155523823443, -19927.339583182104, -19936.33508082439, -19902.227011338575, -19870.876038705585, -19939.0737084282, -20109.721800188294, -20316.87562548521, -20445.686309008055, -20536.230285927646, -20571.791766876082, -20547.70208483977, -20449.18115616257, -20402.299430536812, -20393.482867297396, -20366.086472303512, -20325.879146132364, -20399.0724214763, -20560.395054302906], \"yaxis\": \"y\"}, {\"hovertemplate\": \"variable=I=$15k, r=0.19<br>year=%{x}<br>value=%{y}<extra></extra>\", \"legendgroup\": \"I=$15k, r=0.19\", \"line\": {\"color\": \"purple\", \"dash\": \"solid\"}, \"mode\": \"lines\", \"name\": \"I=$15k, r=0.19\", \"orientation\": \"v\", \"showlegend\": true, \"type\": \"scatter\", \"x\": [0.0, 0.08333333333333333, 0.16666666666666666, 0.25, 0.3333333333333333, 0.4166666666666667, 0.5, 0.5833333333333334, 0.6666666666666666, 0.75, 0.8333333333333334, 0.9166666666666666, 1.0, 1.0833333333333333, 1.1666666666666667, 1.25, 1.3333333333333333, 1.4166666666666667, 1.5, 1.5833333333333333, 1.6666666666666667, 1.75, 1.8333333333333333, 1.9166666666666667, 2.0, 2.0833333333333335, 2.1666666666666665, 2.25, 2.3333333333333335, 2.4166666666666665, 2.5, 2.5833333333333335, 2.6666666666666665, 2.75, 2.8333333333333335, 2.9166666666666665, 3.0, 3.0833333333333335, 3.1666666666666665, 3.25, 3.3333333333333335, 3.4166666666666665, 3.5, 3.5833333333333335, 3.6666666666666665, 3.75, 3.8333333333333335, 3.9166666666666665, 4.0, 4.083333333333333, 4.166666666666667, 4.25, 4.333333333333333, 4.416666666666667, 4.5, 4.583333333333333, 4.666666666666667, 4.75, 4.833333333333333, 4.916666666666667, 5.0, 5.083333333333333, 5.166666666666667, 5.25, 5.333333333333333, 5.416666666666667, 5.5, 5.583333333333333, 5.666666666666667, 5.75, 5.833333333333333, 5.916666666666667, 6.0, 6.083333333333333, 6.166666666666667, 6.25, 6.333333333333333, 6.416666666666667, 6.5, 6.583333333333333, 6.666666666666667, 6.75, 6.833333333333333, 6.916666666666667, 7.0, 7.083333333333333, 7.166666666666667, 7.25, 7.333333333333333, 7.416666666666667, 7.5, 7.583333333333333, 7.666666666666667, 7.75, 7.833333333333333, 7.916666666666667, 8.0, 8.083333333333334, 8.166666666666666, 8.25, 8.333333333333334, 8.416666666666666, 8.5, 8.583333333333334, 8.666666666666666, 8.75, 8.833333333333334, 8.916666666666666, 9.0, 9.083333333333334, 9.166666666666666, 9.25, 9.333333333333334, 9.416666666666666, 9.5, 9.583333333333334, 9.666666666666666, 9.75, 9.833333333333334, 9.916666666666666, 10.0, 10.083333333333334, 10.166666666666666, 10.25, 10.333333333333334, 10.416666666666666, 10.5, 10.583333333333334, 10.666666666666666, 10.75, 10.833333333333334, 10.916666666666666, 11.0, 11.083333333333334, 11.166666666666666, 11.25, 11.333333333333334, 11.416666666666666, 11.5, 11.583333333333334, 11.666666666666666, 11.75, 11.833333333333334, 11.916666666666666, 12.0, 12.083333333333334, 12.166666666666666, 12.25, 12.333333333333334, 12.416666666666666, 12.5, 12.583333333333334, 12.666666666666666, 12.75, 12.833333333333334, 12.916666666666666, 13.0, 13.083333333333334, 13.166666666666666, 13.25, 13.333333333333334, 13.416666666666666, 13.5, 13.583333333333334, 13.666666666666666, 13.75, 13.833333333333334, 13.916666666666666, 14.0, 14.083333333333334, 14.166666666666666, 14.25, 14.333333333333334, 14.416666666666666, 14.5, 14.583333333333334, 14.666666666666666, 14.75, 14.833333333333334, 14.916666666666666, 15.0], \"xaxis\": \"x\", \"y\": [-15000.0, -15141.292443181936, -15229.895876237526, -15265.96618491631, -15303.60202710829, -15237.655688821767, -15088.359158797197, -14942.007121389792, -14873.409048133, -14798.598491617415, -14734.459719247461, -14743.951272607583, -14854.09904405686, -15004.043790621272, -15094.378661942288, -15122.08019341896, -15144.038975587062, -15083.814479218665, -14938.812389600822, -14828.22861770584, -14736.473197705332, -14661.73066320913, -14580.518985472445, -14611.348210228927, -14713.37676173716, -14853.628764995821, -14939.97160592203, -14993.297415496085, -14998.352552353395, -14884.947045535806, -14736.800619704245, -14611.021223520656, -14543.422976660668, -14448.570952199942, -14362.378094163178, -14378.634530080752, -14489.813811279055, -14639.1549355539, -14722.437317178097, -14761.26762463066, -14743.000822534448, -14658.322269109496, -14521.61057504328, -14376.302495005646, -14286.861712502658, -14199.76122408072, -14134.537008865858, -14157.588082557635, -14259.283658210688, -14402.479875777959, -14481.59156068229, -14527.573755369875, -14535.247291621079, -14490.949221418632, -14284.457183061424, -14165.58770172864, -14080.266094112241, -13972.827479636444, -13898.56780543831, -13920.905952420344, -14025.87123112879, -14188.325007014811, -14266.483170125914, -14314.125100205229, -14342.062510999049, -14281.60791205108, -14170.235395363832, -14021.69794650276, -13953.36720729814, -13843.978796373032, -13759.892682147944, -13787.627623228691, -13888.290717830247, -14049.62966012494, -14136.571090810872, -14195.49637873116, -14209.413362273724, -14097.89813142477, -13941.07940902952, -13770.805610758656, -13665.222151743325, -13556.714587507287, -13473.953707084562, -13506.810951221127, -13612.820451238913, -13784.563117414775, -13890.865256572426, -13922.304730056818, -13938.566465216274, -13850.312823795473, -13657.964335108642, -13513.898247359408, -13388.129885651226, -13276.49469236995, -13187.571931579281, -13217.482501523078, -13324.376652185023, -13495.41759022426, -13594.308268819928, -13634.482206669461, -13663.607917082903, -13557.84003925179, -13361.911566258786, -13237.90216389018, -13114.770270816389, -13031.888293308511, -12946.564189781762, -12965.013298279653, -13085.36833835312, -13278.06330429222, -13368.173033553445, -13418.018967704618, -13461.98376138382, -13397.931162457808, -13228.173155157485, -13109.380263430157, -13028.770405251154, -12942.405184032606, -12868.379654093576, -12883.14041138248, -13004.738016996067, -13174.420515605485, -13266.307783507033, -13296.098170800262, -13315.672971563468, -13215.50674719155, -13073.297708659531, -12920.653620526951, -12793.778356752027, -12698.613407161974, -12625.756746964922, -12648.58597717491, -12777.64153147439, -12950.434211165222, -13036.671064162809, -13083.501960571753, -13089.863125401178, -12974.450617842474, -12813.450573114813, -12665.58429368847, -12583.11965046799, -12489.73527279606, -12415.125594196204, -12426.110571142377, -12545.905840299336, -12730.247920174745, -12824.98894704687, -12860.906961460289, -12887.102557047605, -12794.637607745215, -12631.41411810831, -12477.27883928016, -12381.170662719072, -12261.446958161436, -12160.192458179044, -12186.477885038305, -12321.35193125702, -12515.49436405113, -12626.047800128614, -12670.26304743352, -12680.589824905299, -12627.87395149553, -12438.192368958444, -12305.025465929488, -12234.261160056754, -12122.462362656588, -12033.49818949942, -12064.863215861544, -12215.648138621676, -12402.389912238046, -12504.640069067864, -12561.776787477647, -12533.12636942241, -12443.721401186369, -12270.237872887054, -12148.430307980168, -12053.460886266228, -11948.791638368137, -11847.624358572873, -11884.216778282935, -12021.882066524595], \"yaxis\": \"y\"}, {\"hovertemplate\": \"variable=Regular Grid Service<br>year=%{x}<br>value=%{y}<extra></extra>\", \"legendgroup\": \"Regular Grid Service\", \"line\": {\"color\": \"red\", \"dash\": \"solid\"}, \"mode\": \"lines\", \"name\": \"Regular Grid Service\", \"orientation\": \"v\", \"showlegend\": true, \"type\": \"scatter\", \"x\": [0.0, 0.08333333333333333, 0.16666666666666666, 0.25, 0.3333333333333333, 0.4166666666666667, 0.5, 0.5833333333333334, 0.6666666666666666, 0.75, 0.8333333333333334, 0.9166666666666666, 1.0, 1.0833333333333333, 1.1666666666666667, 1.25, 1.3333333333333333, 1.4166666666666667, 1.5, 1.5833333333333333, 1.6666666666666667, 1.75, 1.8333333333333333, 1.9166666666666667, 2.0, 2.0833333333333335, 2.1666666666666665, 2.25, 2.3333333333333335, 2.4166666666666665, 2.5, 2.5833333333333335, 2.6666666666666665, 2.75, 2.8333333333333335, 2.9166666666666665, 3.0, 3.0833333333333335, 3.1666666666666665, 3.25, 3.3333333333333335, 3.4166666666666665, 3.5, 3.5833333333333335, 3.6666666666666665, 3.75, 3.8333333333333335, 3.9166666666666665, 4.0, 4.083333333333333, 4.166666666666667, 4.25, 4.333333333333333, 4.416666666666667, 4.5, 4.583333333333333, 4.666666666666667, 4.75, 4.833333333333333, 4.916666666666667, 5.0, 5.083333333333333, 5.166666666666667, 5.25, 5.333333333333333, 5.416666666666667, 5.5, 5.583333333333333, 5.666666666666667, 5.75, 5.833333333333333, 5.916666666666667, 6.0, 6.083333333333333, 6.166666666666667, 6.25, 6.333333333333333, 6.416666666666667, 6.5, 6.583333333333333, 6.666666666666667, 6.75, 6.833333333333333, 6.916666666666667, 7.0, 7.083333333333333, 7.166666666666667, 7.25, 7.333333333333333, 7.416666666666667, 7.5, 7.583333333333333, 7.666666666666667, 7.75, 7.833333333333333, 7.916666666666667, 8.0, 8.083333333333334, 8.166666666666666, 8.25, 8.333333333333334, 8.416666666666666, 8.5, 8.583333333333334, 8.666666666666666, 8.75, 8.833333333333334, 8.916666666666666, 9.0, 9.083333333333334, 9.166666666666666, 9.25, 9.333333333333334, 9.416666666666666, 9.5, 9.583333333333334, 9.666666666666666, 9.75, 9.833333333333334, 9.916666666666666, 10.0, 10.083333333333334, 10.166666666666666, 10.25, 10.333333333333334, 10.416666666666666, 10.5, 10.583333333333334, 10.666666666666666, 10.75, 10.833333333333334, 10.916666666666666, 11.0, 11.083333333333334, 11.166666666666666, 11.25, 11.333333333333334, 11.416666666666666, 11.5, 11.583333333333334, 11.666666666666666, 11.75, 11.833333333333334, 11.916666666666666, 12.0, 12.083333333333334, 12.166666666666666, 12.25, 12.333333333333334, 12.416666666666666, 12.5, 12.583333333333334, 12.666666666666666, 12.75, 12.833333333333334, 12.916666666666666, 13.0, 13.083333333333334, 13.166666666666666, 13.25, 13.333333333333334, 13.416666666666666, 13.5, 13.583333333333334, 13.666666666666666, 13.75, 13.833333333333334, 13.916666666666666, 14.0, 14.083333333333334, 14.166666666666666, 14.25, 14.333333333333334, 14.416666666666666, 14.5, 14.583333333333334, 14.666666666666666, 14.75, 14.833333333333334, 14.916666666666666, 15.0], \"xaxis\": \"x\", \"y\": [-0.0, -215.0084010753, -388.1166503445, -551.6821448208, -761.12553258, -928.4966547192, -1066.8761610948, -1244.2872557115, -1482.4545266349, -1681.3033529607, -1824.0813234693, -1983.5734576833001, -2173.0707667872002, -2392.379335884006, -2568.9497501385904, -2735.7865545044165, -2949.4188100188003, -3120.1373546007844, -3261.2844511038966, -3442.2437676129307, -3685.1743839547985, -3888.0001868071145, -4033.6337167258866, -4196.315693624167, -4389.602948910145, -4613.297689388887, -4793.399511928563, -4963.573052381706, -5181.477953006377, -5355.610868480001, -5499.580906913176, -5684.15940975239, -5931.948638421096, -6138.830957330458, -6287.377157847605, -6453.312774283851, -6650.465774675548, -6878.634409963865, -7062.338268954335, -7235.915280216541, -7458.178278853706, -7635.793852636802, -7782.643291838639, -7970.913364734638, -8223.658377976717, -8434.678343264266, -8586.195467791757, -8755.449796556728, -8956.54585695626, -9189.277864950343, -9376.655801120622, -9553.70435260807, -9780.412611217978, -9961.580496476736, -10111.36692446261, -10303.40239881653, -10561.20231232345, -10776.442676916751, -10930.990143934792, -11103.629559275063, -11308.747540882585, -11546.13418903655, -11737.259683930233, -11917.849206447432, -12149.091630229539, -12333.882873193472, -12486.665029739064, -12682.541213580062, -12945.49712535712, -13165.042297242288, -13322.680713600688, -13498.772917247763, -13707.993258487435, -13950.12763960448, -14145.075644396038, -14329.276957363581, -14565.14422962133, -14753.631297444543, -14909.469097121046, -15109.262804638864, -15377.477834651465, -15601.413909974335, -15762.205094659905, -15941.819142379922, -16155.223890444388, -16402.200959183774, -16601.047924071165, -16788.93326329806, -17029.517881000964, -17221.77469018064, -17380.72924585067, -17584.518827518845, -17858.0981581317, -18086.512954961025, -18250.519963340306, -18433.726292014722, -18651.399135040476, -18903.31574515465, -19106.139649339788, -19297.78269535122, -19543.179005408183, -19739.280950771452, -19901.414597554885, -20109.279970856423, -20388.330888081535, -20621.313980847448, -20788.601129394316, -20975.471584642222, -21197.497884528493, -21454.45282684495, -21661.33320911379, -21856.80911604545, -22107.11335230355, -22307.137336574084, -22472.513656293188, -22684.536337060756, -22969.168272630366, -23206.8110272516, -23377.4439187694, -23568.051783122264, -23794.51860900626, -24056.612650169045, -24267.630640083262, -24467.016065153555, -24722.326386136818, -24926.350850092764, -25095.03469620625, -25311.29783058917, -25601.622404870173, -25844.01801458383, -26018.06356393199, -26212.483585571914, -26443.47974797359, -26710.81566995963, -26926.05401967213, -27129.42715324383, -27389.843680646758, -27597.948633881824, -27770.006156917578, -27990.594553988154, -28286.72561975478, -28533.96914166271, -28711.495601997834, -28909.804024070552, -29145.42010972026, -29418.102750146023, -29637.645866852774, -29845.086463095908, -30110.711321046896, -30322.97837334666, -30498.47704684313, -30723.47721185512, -31025.530898937075, -31277.719291283163, -31458.796280824987, -31661.07087133916, -31901.399278701865, -32179.535571936143, -32403.469550977028, -32615.058959145023, -32885.996314255026, -33102.508707600784, -33281.517354567186, -33511.01752287942, -33819.11228370301, -34076.34444389602, -34261.04297322869, -34467.36305555314, -34712.4980310631, -34996.19705016206, -35224.60970878376, -35440.43090511512, -35716.78700732733, -35937.62964854001, -36120.21846844574, -36354.30864012421, -36668.56529616428, -36930.94209956115, -37119.33459948046, -37329.78108345141, -37579.81875847156], \"yaxis\": \"y\"}],                        {\"annotations\": [{\"showarrow\": false, \"text\": \"Likely Break-Even Range\", \"x\": 9.125, \"y\": -14347}], \"legend\": {\"title\": {\"text\": \"variable\"}, \"tracegroupgap\": 0}, \"margin\": {\"t\": 60}, \"shapes\": [{\"fillcolor\": \"rgb(179,226,205)\", \"layer\": \"below\", \"line\": {\"width\": 0}, \"opacity\": 0.5, \"type\": \"rect\", \"x0\": 6.166666666666667, \"x1\": 12.083333333333334, \"xref\": \"x\", \"y0\": 0, \"y1\": 1, \"yref\": \"y domain\"}], \"template\": {\"data\": {\"bar\": [{\"error_x\": {\"color\": \"#2a3f5f\"}, \"error_y\": {\"color\": \"#2a3f5f\"}, \"marker\": {\"line\": {\"color\": \"#E5ECF6\", \"width\": 0.5}}, \"type\": \"bar\"}], \"barpolar\": [{\"marker\": {\"line\": {\"color\": \"#E5ECF6\", \"width\": 0.5}}, \"type\": \"barpolar\"}], \"carpet\": [{\"aaxis\": {\"endlinecolor\": \"#2a3f5f\", \"gridcolor\": \"white\", \"linecolor\": \"white\", \"minorgridcolor\": \"white\", \"startlinecolor\": \"#2a3f5f\"}, \"baxis\": {\"endlinecolor\": \"#2a3f5f\", \"gridcolor\": \"white\", \"linecolor\": \"white\", \"minorgridcolor\": \"white\", \"startlinecolor\": \"#2a3f5f\"}, \"type\": \"carpet\"}], \"choropleth\": [{\"colorbar\": {\"outlinewidth\": 0, \"ticks\": \"\"}, \"type\": \"choropleth\"}], \"contour\": [{\"colorbar\": {\"outlinewidth\": 0, \"ticks\": \"\"}, \"colorscale\": [[0.0, \"#0d0887\"], [0.1111111111111111, \"#46039f\"], [0.2222222222222222, \"#7201a8\"], [0.3333333333333333, \"#9c179e\"], [0.4444444444444444, \"#bd3786\"], [0.5555555555555556, \"#d8576b\"], [0.6666666666666666, \"#ed7953\"], [0.7777777777777778, \"#fb9f3a\"], [0.8888888888888888, \"#fdca26\"], [1.0, \"#f0f921\"]], \"type\": \"contour\"}], \"contourcarpet\": [{\"colorbar\": {\"outlinewidth\": 0, \"ticks\": \"\"}, \"type\": \"contourcarpet\"}], \"heatmap\": [{\"colorbar\": {\"outlinewidth\": 0, \"ticks\": \"\"}, \"colorscale\": [[0.0, \"#0d0887\"], [0.1111111111111111, \"#46039f\"], [0.2222222222222222, \"#7201a8\"], [0.3333333333333333, \"#9c179e\"], [0.4444444444444444, \"#bd3786\"], [0.5555555555555556, \"#d8576b\"], [0.6666666666666666, \"#ed7953\"], [0.7777777777777778, \"#fb9f3a\"], [0.8888888888888888, \"#fdca26\"], [1.0, \"#f0f921\"]], \"type\": \"heatmap\"}], \"heatmapgl\": [{\"colorbar\": {\"outlinewidth\": 0, \"ticks\": \"\"}, \"colorscale\": [[0.0, \"#0d0887\"], [0.1111111111111111, \"#46039f\"], [0.2222222222222222, \"#7201a8\"], [0.3333333333333333, \"#9c179e\"], [0.4444444444444444, \"#bd3786\"], [0.5555555555555556, \"#d8576b\"], [0.6666666666666666, \"#ed7953\"], [0.7777777777777778, \"#fb9f3a\"], [0.8888888888888888, \"#fdca26\"], [1.0, \"#f0f921\"]], \"type\": \"heatmapgl\"}], \"histogram\": [{\"marker\": {\"colorbar\": {\"outlinewidth\": 0, \"ticks\": \"\"}}, \"type\": \"histogram\"}], \"histogram2d\": [{\"colorbar\": {\"outlinewidth\": 0, \"ticks\": \"\"}, \"colorscale\": [[0.0, \"#0d0887\"], [0.1111111111111111, \"#46039f\"], [0.2222222222222222, \"#7201a8\"], [0.3333333333333333, \"#9c179e\"], [0.4444444444444444, \"#bd3786\"], [0.5555555555555556, \"#d8576b\"], [0.6666666666666666, \"#ed7953\"], [0.7777777777777778, \"#fb9f3a\"], [0.8888888888888888, \"#fdca26\"], [1.0, \"#f0f921\"]], \"type\": \"histogram2d\"}], \"histogram2dcontour\": [{\"colorbar\": {\"outlinewidth\": 0, \"ticks\": \"\"}, \"colorscale\": [[0.0, \"#0d0887\"], [0.1111111111111111, \"#46039f\"], [0.2222222222222222, \"#7201a8\"], [0.3333333333333333, \"#9c179e\"], [0.4444444444444444, \"#bd3786\"], [0.5555555555555556, \"#d8576b\"], [0.6666666666666666, \"#ed7953\"], [0.7777777777777778, \"#fb9f3a\"], [0.8888888888888888, \"#fdca26\"], [1.0, \"#f0f921\"]], \"type\": \"histogram2dcontour\"}], \"mesh3d\": [{\"colorbar\": {\"outlinewidth\": 0, \"ticks\": \"\"}, \"type\": \"mesh3d\"}], \"parcoords\": [{\"line\": {\"colorbar\": {\"outlinewidth\": 0, \"ticks\": \"\"}}, \"type\": \"parcoords\"}], \"pie\": [{\"automargin\": true, \"type\": \"pie\"}], \"scatter\": [{\"marker\": {\"colorbar\": {\"outlinewidth\": 0, \"ticks\": \"\"}}, \"type\": \"scatter\"}], \"scatter3d\": [{\"line\": {\"colorbar\": {\"outlinewidth\": 0, \"ticks\": \"\"}}, \"marker\": {\"colorbar\": {\"outlinewidth\": 0, \"ticks\": \"\"}}, \"type\": \"scatter3d\"}], \"scattercarpet\": [{\"marker\": {\"colorbar\": {\"outlinewidth\": 0, \"ticks\": \"\"}}, \"type\": \"scattercarpet\"}], \"scattergeo\": [{\"marker\": {\"colorbar\": {\"outlinewidth\": 0, \"ticks\": \"\"}}, \"type\": \"scattergeo\"}], \"scattergl\": [{\"marker\": {\"colorbar\": {\"outlinewidth\": 0, \"ticks\": \"\"}}, \"type\": \"scattergl\"}], \"scattermapbox\": [{\"marker\": {\"colorbar\": {\"outlinewidth\": 0, \"ticks\": \"\"}}, \"type\": \"scattermapbox\"}], \"scatterpolar\": [{\"marker\": {\"colorbar\": {\"outlinewidth\": 0, \"ticks\": \"\"}}, \"type\": \"scatterpolar\"}], \"scatterpolargl\": [{\"marker\": {\"colorbar\": {\"outlinewidth\": 0, \"ticks\": \"\"}}, \"type\": \"scatterpolargl\"}], \"scatterternary\": [{\"marker\": {\"colorbar\": {\"outlinewidth\": 0, \"ticks\": \"\"}}, \"type\": \"scatterternary\"}], \"surface\": [{\"colorbar\": {\"outlinewidth\": 0, \"ticks\": \"\"}, \"colorscale\": [[0.0, \"#0d0887\"], [0.1111111111111111, \"#46039f\"], [0.2222222222222222, \"#7201a8\"], [0.3333333333333333, \"#9c179e\"], [0.4444444444444444, \"#bd3786\"], [0.5555555555555556, \"#d8576b\"], [0.6666666666666666, \"#ed7953\"], [0.7777777777777778, \"#fb9f3a\"], [0.8888888888888888, \"#fdca26\"], [1.0, \"#f0f921\"]], \"type\": \"surface\"}], \"table\": [{\"cells\": {\"fill\": {\"color\": \"#EBF0F8\"}, \"line\": {\"color\": \"white\"}}, \"header\": {\"fill\": {\"color\": \"#C8D4E3\"}, \"line\": {\"color\": \"white\"}}, \"type\": \"table\"}]}, \"layout\": {\"annotationdefaults\": {\"arrowcolor\": \"#2a3f5f\", \"arrowhead\": 0, \"arrowwidth\": 1}, \"autotypenumbers\": \"strict\", \"coloraxis\": {\"colorbar\": {\"outlinewidth\": 0, \"ticks\": \"\"}}, \"colorscale\": {\"diverging\": [[0, \"#8e0152\"], [0.1, \"#c51b7d\"], [0.2, \"#de77ae\"], [0.3, \"#f1b6da\"], [0.4, \"#fde0ef\"], [0.5, \"#f7f7f7\"], [0.6, \"#e6f5d0\"], [0.7, \"#b8e186\"], [0.8, \"#7fbc41\"], [0.9, \"#4d9221\"], [1, \"#276419\"]], \"sequential\": [[0.0, \"#0d0887\"], [0.1111111111111111, \"#46039f\"], [0.2222222222222222, \"#7201a8\"], [0.3333333333333333, \"#9c179e\"], [0.4444444444444444, \"#bd3786\"], [0.5555555555555556, \"#d8576b\"], [0.6666666666666666, \"#ed7953\"], [0.7777777777777778, \"#fb9f3a\"], [0.8888888888888888, \"#fdca26\"], [1.0, \"#f0f921\"]], \"sequentialminus\": [[0.0, \"#0d0887\"], [0.1111111111111111, \"#46039f\"], [0.2222222222222222, \"#7201a8\"], [0.3333333333333333, \"#9c179e\"], [0.4444444444444444, \"#bd3786\"], [0.5555555555555556, \"#d8576b\"], [0.6666666666666666, \"#ed7953\"], [0.7777777777777778, \"#fb9f3a\"], [0.8888888888888888, \"#fdca26\"], [1.0, \"#f0f921\"]]}, \"colorway\": [\"#636efa\", \"#EF553B\", \"#00cc96\", \"#ab63fa\", \"#FFA15A\", \"#19d3f3\", \"#FF6692\", \"#B6E880\", \"#FF97FF\", \"#FECB52\"], \"font\": {\"color\": \"#2a3f5f\"}, \"geo\": {\"bgcolor\": \"white\", \"lakecolor\": \"white\", \"landcolor\": \"#E5ECF6\", \"showlakes\": true, \"showland\": true, \"subunitcolor\": \"white\"}, \"hoverlabel\": {\"align\": \"left\"}, \"hovermode\": \"closest\", \"mapbox\": {\"style\": \"light\"}, \"paper_bgcolor\": \"white\", \"plot_bgcolor\": \"#E5ECF6\", \"polar\": {\"angularaxis\": {\"gridcolor\": \"white\", \"linecolor\": \"white\", \"ticks\": \"\"}, \"bgcolor\": \"#E5ECF6\", \"radialaxis\": {\"gridcolor\": \"white\", \"linecolor\": \"white\", \"ticks\": \"\"}}, \"scene\": {\"xaxis\": {\"backgroundcolor\": \"#E5ECF6\", \"gridcolor\": \"white\", \"gridwidth\": 2, \"linecolor\": \"white\", \"showbackground\": true, \"ticks\": \"\", \"zerolinecolor\": \"white\"}, \"yaxis\": {\"backgroundcolor\": \"#E5ECF6\", \"gridcolor\": \"white\", \"gridwidth\": 2, \"linecolor\": \"white\", \"showbackground\": true, \"ticks\": \"\", \"zerolinecolor\": \"white\"}, \"zaxis\": {\"backgroundcolor\": \"#E5ECF6\", \"gridcolor\": \"white\", \"gridwidth\": 2, \"linecolor\": \"white\", \"showbackground\": true, \"ticks\": \"\", \"zerolinecolor\": \"white\"}}, \"shapedefaults\": {\"line\": {\"color\": \"#2a3f5f\"}}, \"ternary\": {\"aaxis\": {\"gridcolor\": \"white\", \"linecolor\": \"white\", \"ticks\": \"\"}, \"baxis\": {\"gridcolor\": \"white\", \"linecolor\": \"white\", \"ticks\": \"\"}, \"bgcolor\": \"#E5ECF6\", \"caxis\": {\"gridcolor\": \"white\", \"linecolor\": \"white\", \"ticks\": \"\"}}, \"title\": {\"x\": 0.05}, \"xaxis\": {\"automargin\": true, \"gridcolor\": \"white\", \"linecolor\": \"white\", \"ticks\": \"\", \"title\": {\"standoff\": 15}, \"zerolinecolor\": \"white\", \"zerolinewidth\": 2}, \"yaxis\": {\"automargin\": true, \"gridcolor\": \"white\", \"linecolor\": \"white\", \"ticks\": \"\", \"title\": {\"standoff\": 15}, \"zerolinecolor\": \"white\", \"zerolinewidth\": 2}}}, \"title\": {\"text\": \"Cost of regular grid power -vs- solar panel array\", \"x\": 0.5, \"xanchor\": \"center\", \"yanchor\": \"top\"}, \"xaxis\": {\"anchor\": \"y\", \"domain\": [0.0, 1.0], \"title\": {\"text\": \"# of Years\"}}, \"yaxis\": {\"anchor\": \"x\", \"domain\": [0.0, 1.0], \"title\": {\"text\": \"Projected Cost ($)\"}}},                        {\"responsive\": true}                    ).then(function(){\n",
       "                            \n",
       "var gd = document.getElementById('b7d370e8-692b-4993-b271-d1163e2913ea');\n",
       "var x = new MutationObserver(function (mutations, observer) {{\n",
       "        var display = window.getComputedStyle(gd).display;\n",
       "        if (!display || display === 'none') {{\n",
       "            console.log([gd, 'removed!']);\n",
       "            Plotly.purge(gd);\n",
       "            observer.disconnect();\n",
       "        }}\n",
       "}});\n",
       "\n",
       "// Listen for the removal of the full notebook cells\n",
       "var notebookContainer = gd.closest('#notebook-container');\n",
       "if (notebookContainer) {{\n",
       "    x.observe(notebookContainer, {childList: true});\n",
       "}}\n",
       "\n",
       "// Listen for the clearing of the current output cell\n",
       "var outputEl = gd.closest('.output');\n",
       "if (outputEl) {{\n",
       "    x.observe(outputEl, {childList: true});\n",
       "}}\n",
       "\n",
       "                        })                };                });            </script>        </div>"
      ]
     },
     "metadata": {},
     "output_type": "display_data"
    }
   ],
   "source": [
    "#############################################################################################\n",
    "### Defining colormap for the lines - again, need to match column names from above\n",
    "fig = px.line(projection,\n",
    "    color_discrete_map={\n",
    "        cap_1: 'blue',\n",
    "        cap_2:'green',\n",
    "        cap_3:'aqua',\n",
    "        cap_4:'purple',\n",
    "        'Regular Grid Service':'red'\n",
    "    })\n",
    "#############################################################################################\n",
    "### Title and axis names for plot\n",
    "fig.update_layout(\n",
    "    title={\n",
    "        'text':'Cost of regular grid power -vs- solar panel array',\n",
    "        'x':0.5,\n",
    "        'xanchor':'center',\n",
    "        'yanchor':'top'\n",
    "    },\n",
    "    xaxis_title='# of Years',\n",
    "    yaxis_title='Projected Cost ($)'\n",
    ")\n",
    "#############################################################################################\n",
    "### Add an opaque section outlining the \"Likely Break-even Range\"\n",
    "##  Use data from 'intersect' to determine x-range\n",
    "if break_even_range:\n",
    "    fig.add_vrect(\n",
    "        x0=min(intersect), x1=max(intersect),\n",
    "        fillcolor='rgb(179,226,205)', opacity=0.5,\n",
    "        layer=\"below\", line_width=0\n",
    "    )\n",
    "\n",
    "    ### Figure out location of the label for the range\n",
    "    max_earn = int(projection[cap_4].max())\n",
    "    ceiling = max(max_earn,0) - 2500\n",
    "    fig.update(layout=dict(\n",
    "        annotations=[\n",
    "            go.layout.Annotation(x=(min(intersect)+max(intersect))/2, \n",
    "                y=ceiling,\n",
    "                text=\"Likely Break-Even Range\",\n",
    "                showarrow=False\n",
    "            )\n",
    "        ]\n",
    "    ))\n",
    "#############################################################################################\n",
    "### Add lines at the 60% initial investment recoup\n",
    "#for x_60 in find_60:\n",
    "#    fig.add_vline(x=x_60, line_width=3, line_dash=\"dash\", line_color=\"green\")\n",
    "\n",
    "### Draw figure\n",
    "fig"
   ]
  },
  {
   "cell_type": "code",
   "execution_count": 28,
   "metadata": {},
   "outputs": [],
   "source": [
    "low_yearly_yield = []\n",
    "high_yearly_yield = []\n",
    "Y_monthly = pd.DataFrame(Y, columns = ['Yield'])\n",
    "Y_monthly = Y_monthly.iloc[1:,:]\n",
    "month_idx = [1,2,3,4,5,6,7,8,9,10,11,12]\n",
    "months = [\"January\",\"February\",\"March\",\"April\",\"May\",\"June\",\"July\",\"August\",\"September\",\"October\",\"November\",\"December\"]\n",
    "Y_monthly = Y_monthly.assign(Month = month_idx *sim_years)\n",
    "\n",
    "for i in range(0,Y.shape[0]):\n",
    "    if (i%12 == 0) & (i != 0):\n",
    "        low_yearly_yield.append(sum(Y[i-12:i]) * low_r_bound)\n",
    "        high_yearly_yield.append(sum(Y[i-12:i]) * high_r_bound)\n",
    "Y_monthly= Y_monthly.groupby(['Month']).mean()    \n",
    "    "
   ]
  },
  {
   "cell_type": "code",
   "execution_count": 18,
   "metadata": {
    "scrolled": true
   },
   "outputs": [
    {
     "name": "stdout",
     "output_type": "stream",
     "text": [
      "6067.333195796308\n"
     ]
    },
    {
     "data": {
      "text/plain": [
       "[5709.478742141374,\n",
       " 6051.121628176079,\n",
       " 6119.331355155293,\n",
       " 6309.133098532413,\n",
       " 6129.470089840232,\n",
       " 6087.813785036245,\n",
       " 6014.1900731650185,\n",
       " 5935.635113727413,\n",
       " 6128.003345384791,\n",
       " 6038.4256653731045,\n",
       " 6095.770004149002,\n",
       " 6106.128125382706,\n",
       " 6199.667225175135,\n",
       " 6026.6669316873995,\n",
       " 6059.162754018416]"
      ]
     },
     "execution_count": 18,
     "metadata": {},
     "output_type": "execute_result"
    }
   ],
   "source": [
    "#low_yearly_yield\n",
    "print(sum(high_yearly_yield)/len(high_yearly_yield))\n",
    "high_yearly_yield"
   ]
  },
  {
   "cell_type": "code",
   "execution_count": 29,
   "metadata": {},
   "outputs": [
    {
     "data": {
      "text/html": [
       "<div>\n",
       "<style scoped>\n",
       "    .dataframe tbody tr th:only-of-type {\n",
       "        vertical-align: middle;\n",
       "    }\n",
       "\n",
       "    .dataframe tbody tr th {\n",
       "        vertical-align: top;\n",
       "    }\n",
       "\n",
       "    .dataframe thead th {\n",
       "        text-align: right;\n",
       "    }\n",
       "</style>\n",
       "<table border=\"1\" class=\"dataframe\">\n",
       "  <thead>\n",
       "    <tr style=\"text-align: right;\">\n",
       "      <th></th>\n",
       "      <th>Yield</th>\n",
       "      <th>Efficiency</th>\n",
       "    </tr>\n",
       "    <tr>\n",
       "      <th>Month</th>\n",
       "      <th></th>\n",
       "      <th></th>\n",
       "    </tr>\n",
       "  </thead>\n",
       "  <tbody>\n",
       "    <tr>\n",
       "      <th>1</th>\n",
       "      <td>307.302940</td>\n",
       "      <td>Low</td>\n",
       "    </tr>\n",
       "    <tr>\n",
       "      <th>2</th>\n",
       "      <td>403.932554</td>\n",
       "      <td>Low</td>\n",
       "    </tr>\n",
       "    <tr>\n",
       "      <th>3</th>\n",
       "      <td>545.380593</td>\n",
       "      <td>Low</td>\n",
       "    </tr>\n",
       "    <tr>\n",
       "      <th>4</th>\n",
       "      <td>848.727698</td>\n",
       "      <td>Low</td>\n",
       "    </tr>\n",
       "    <tr>\n",
       "      <th>5</th>\n",
       "      <td>1035.970386</td>\n",
       "      <td>Low</td>\n",
       "    </tr>\n",
       "    <tr>\n",
       "      <th>6</th>\n",
       "      <td>1209.614764</td>\n",
       "      <td>Low</td>\n",
       "    </tr>\n",
       "    <tr>\n",
       "      <th>7</th>\n",
       "      <td>1285.081270</td>\n",
       "      <td>Low</td>\n",
       "    </tr>\n",
       "    <tr>\n",
       "      <th>8</th>\n",
       "      <td>1374.033514</td>\n",
       "      <td>Low</td>\n",
       "    </tr>\n",
       "    <tr>\n",
       "      <th>9</th>\n",
       "      <td>1224.978120</td>\n",
       "      <td>Low</td>\n",
       "    </tr>\n",
       "    <tr>\n",
       "      <th>10</th>\n",
       "      <td>923.349329</td>\n",
       "      <td>Low</td>\n",
       "    </tr>\n",
       "    <tr>\n",
       "      <th>11</th>\n",
       "      <td>600.922371</td>\n",
       "      <td>Low</td>\n",
       "    </tr>\n",
       "    <tr>\n",
       "      <th>12</th>\n",
       "      <td>380.355066</td>\n",
       "      <td>Low</td>\n",
       "    </tr>\n",
       "    <tr>\n",
       "      <th>1</th>\n",
       "      <td>389.250391</td>\n",
       "      <td>High</td>\n",
       "    </tr>\n",
       "    <tr>\n",
       "      <th>2</th>\n",
       "      <td>511.647901</td>\n",
       "      <td>High</td>\n",
       "    </tr>\n",
       "    <tr>\n",
       "      <th>3</th>\n",
       "      <td>690.815418</td>\n",
       "      <td>High</td>\n",
       "    </tr>\n",
       "    <tr>\n",
       "      <th>4</th>\n",
       "      <td>1075.055084</td>\n",
       "      <td>High</td>\n",
       "    </tr>\n",
       "    <tr>\n",
       "      <th>5</th>\n",
       "      <td>1312.229155</td>\n",
       "      <td>High</td>\n",
       "    </tr>\n",
       "    <tr>\n",
       "      <th>6</th>\n",
       "      <td>1532.178701</td>\n",
       "      <td>High</td>\n",
       "    </tr>\n",
       "    <tr>\n",
       "      <th>7</th>\n",
       "      <td>1627.769608</td>\n",
       "      <td>High</td>\n",
       "    </tr>\n",
       "    <tr>\n",
       "      <th>8</th>\n",
       "      <td>1740.442451</td>\n",
       "      <td>High</td>\n",
       "    </tr>\n",
       "    <tr>\n",
       "      <th>9</th>\n",
       "      <td>1551.638953</td>\n",
       "      <td>High</td>\n",
       "    </tr>\n",
       "    <tr>\n",
       "      <th>10</th>\n",
       "      <td>1169.575817</td>\n",
       "      <td>High</td>\n",
       "    </tr>\n",
       "    <tr>\n",
       "      <th>11</th>\n",
       "      <td>761.168336</td>\n",
       "      <td>High</td>\n",
       "    </tr>\n",
       "    <tr>\n",
       "      <th>12</th>\n",
       "      <td>481.783083</td>\n",
       "      <td>High</td>\n",
       "    </tr>\n",
       "  </tbody>\n",
       "</table>\n",
       "</div>"
      ],
      "text/plain": [
       "             Yield Efficiency\n",
       "Month                        \n",
       "1       307.302940        Low\n",
       "2       403.932554        Low\n",
       "3       545.380593        Low\n",
       "4       848.727698        Low\n",
       "5      1035.970386        Low\n",
       "6      1209.614764        Low\n",
       "7      1285.081270        Low\n",
       "8      1374.033514        Low\n",
       "9      1224.978120        Low\n",
       "10      923.349329        Low\n",
       "11      600.922371        Low\n",
       "12      380.355066        Low\n",
       "1       389.250391       High\n",
       "2       511.647901       High\n",
       "3       690.815418       High\n",
       "4      1075.055084       High\n",
       "5      1312.229155       High\n",
       "6      1532.178701       High\n",
       "7      1627.769608       High\n",
       "8      1740.442451       High\n",
       "9      1551.638953       High\n",
       "10     1169.575817       High\n",
       "11      761.168336       High\n",
       "12      481.783083       High"
      ]
     },
     "execution_count": 29,
     "metadata": {},
     "output_type": "execute_result"
    }
   ],
   "source": [
    "Y_monthly= Y_monthly.groupby(['Month']).mean()\n",
    "Y_monthlyL = Y_monthly.copy()\n",
    "Y_monthlyL['Yield'] = Y_monthlyL['Yield'] * low_r_bound\n",
    "Y_monthlyL['Efficiency'] = 'Low'\n",
    "Y_monthlyH = Y_monthly.copy()\n",
    "Y_monthlyH['Yield'] = Y_monthlyH['Yield'] * high_r_bound\n",
    "Y_monthlyH['Efficiency'] = 'High'\n",
    "Y_month = Y_monthlyL.append(Y_monthlyH)"
   ]
  },
  {
   "cell_type": "code",
   "execution_count": 33,
   "metadata": {},
   "outputs": [
    {
     "data": {
      "application/vnd.plotly.v1+json": {
       "config": {
        "plotlyServerURL": "https://plot.ly"
       },
       "data": [
        {
         "hovertemplate": "Efficiency=Low<br>x=%{x}<br>Yield=%{y}<extra></extra>",
         "legendgroup": "Low",
         "line": {
          "color": "#636efa",
          "dash": "solid"
         },
         "mode": "lines",
         "name": "Low",
         "orientation": "v",
         "showlegend": true,
         "type": "scatter",
         "x": [
          1,
          2,
          3,
          4,
          5,
          6,
          7,
          8,
          9,
          10,
          11,
          12
         ],
         "xaxis": "x",
         "y": [
          307.3029400557764,
          403.93255377438845,
          545.3805930646989,
          848.7276979151217,
          1035.970385890159,
          1209.6147639595856,
          1285.0812695651457,
          1374.0335139754254,
          1224.9781204100877,
          923.3493293021164,
          600.9223706002304,
          380.3550658976349
         ],
         "yaxis": "y"
        },
        {
         "hovertemplate": "Efficiency=High<br>x=%{x}<br>Yield=%{y}<extra></extra>",
         "legendgroup": "High",
         "line": {
          "color": "#EF553B",
          "dash": "solid"
         },
         "mode": "lines",
         "name": "High",
         "orientation": "v",
         "showlegend": true,
         "type": "scatter",
         "x": [
          1,
          2,
          3,
          4,
          5,
          6,
          7,
          8,
          9,
          10,
          11,
          12
         ],
         "xaxis": "x",
         "y": [
          389.2503907373168,
          511.6479014475587,
          690.8154178819519,
          1075.0550840258209,
          1312.229155460868,
          1532.178701015475,
          1627.7696081158513,
          1740.4424510355389,
          1551.6389525194445,
          1169.5758171160142,
          761.1683360936252,
          481.7830834703376
         ],
         "yaxis": "y"
        },
        {
         "name": "Average Albany Energy Use",
         "type": "bar",
         "x": [
          1,
          2,
          3,
          4,
          5,
          6,
          7,
          8,
          9,
          10,
          11,
          12
         ],
         "y": [
          905.2,
          855.3,
          1095.2,
          875.2,
          723.6,
          927.7,
          1245.4,
          1039.8,
          746.6,
          834,
          990.9,
          1124.3
         ]
        }
       ],
       "layout": {
        "legend": {
         "title": {
          "text": "Efficiency"
         },
         "tracegroupgap": 0
        },
        "margin": {
         "t": 60
        },
        "template": {
         "data": {
          "bar": [
           {
            "error_x": {
             "color": "#2a3f5f"
            },
            "error_y": {
             "color": "#2a3f5f"
            },
            "marker": {
             "line": {
              "color": "#E5ECF6",
              "width": 0.5
             }
            },
            "type": "bar"
           }
          ],
          "barpolar": [
           {
            "marker": {
             "line": {
              "color": "#E5ECF6",
              "width": 0.5
             }
            },
            "type": "barpolar"
           }
          ],
          "carpet": [
           {
            "aaxis": {
             "endlinecolor": "#2a3f5f",
             "gridcolor": "white",
             "linecolor": "white",
             "minorgridcolor": "white",
             "startlinecolor": "#2a3f5f"
            },
            "baxis": {
             "endlinecolor": "#2a3f5f",
             "gridcolor": "white",
             "linecolor": "white",
             "minorgridcolor": "white",
             "startlinecolor": "#2a3f5f"
            },
            "type": "carpet"
           }
          ],
          "choropleth": [
           {
            "colorbar": {
             "outlinewidth": 0,
             "ticks": ""
            },
            "type": "choropleth"
           }
          ],
          "contour": [
           {
            "colorbar": {
             "outlinewidth": 0,
             "ticks": ""
            },
            "colorscale": [
             [
              0,
              "#0d0887"
             ],
             [
              0.1111111111111111,
              "#46039f"
             ],
             [
              0.2222222222222222,
              "#7201a8"
             ],
             [
              0.3333333333333333,
              "#9c179e"
             ],
             [
              0.4444444444444444,
              "#bd3786"
             ],
             [
              0.5555555555555556,
              "#d8576b"
             ],
             [
              0.6666666666666666,
              "#ed7953"
             ],
             [
              0.7777777777777778,
              "#fb9f3a"
             ],
             [
              0.8888888888888888,
              "#fdca26"
             ],
             [
              1,
              "#f0f921"
             ]
            ],
            "type": "contour"
           }
          ],
          "contourcarpet": [
           {
            "colorbar": {
             "outlinewidth": 0,
             "ticks": ""
            },
            "type": "contourcarpet"
           }
          ],
          "heatmap": [
           {
            "colorbar": {
             "outlinewidth": 0,
             "ticks": ""
            },
            "colorscale": [
             [
              0,
              "#0d0887"
             ],
             [
              0.1111111111111111,
              "#46039f"
             ],
             [
              0.2222222222222222,
              "#7201a8"
             ],
             [
              0.3333333333333333,
              "#9c179e"
             ],
             [
              0.4444444444444444,
              "#bd3786"
             ],
             [
              0.5555555555555556,
              "#d8576b"
             ],
             [
              0.6666666666666666,
              "#ed7953"
             ],
             [
              0.7777777777777778,
              "#fb9f3a"
             ],
             [
              0.8888888888888888,
              "#fdca26"
             ],
             [
              1,
              "#f0f921"
             ]
            ],
            "type": "heatmap"
           }
          ],
          "heatmapgl": [
           {
            "colorbar": {
             "outlinewidth": 0,
             "ticks": ""
            },
            "colorscale": [
             [
              0,
              "#0d0887"
             ],
             [
              0.1111111111111111,
              "#46039f"
             ],
             [
              0.2222222222222222,
              "#7201a8"
             ],
             [
              0.3333333333333333,
              "#9c179e"
             ],
             [
              0.4444444444444444,
              "#bd3786"
             ],
             [
              0.5555555555555556,
              "#d8576b"
             ],
             [
              0.6666666666666666,
              "#ed7953"
             ],
             [
              0.7777777777777778,
              "#fb9f3a"
             ],
             [
              0.8888888888888888,
              "#fdca26"
             ],
             [
              1,
              "#f0f921"
             ]
            ],
            "type": "heatmapgl"
           }
          ],
          "histogram": [
           {
            "marker": {
             "colorbar": {
              "outlinewidth": 0,
              "ticks": ""
             }
            },
            "type": "histogram"
           }
          ],
          "histogram2d": [
           {
            "colorbar": {
             "outlinewidth": 0,
             "ticks": ""
            },
            "colorscale": [
             [
              0,
              "#0d0887"
             ],
             [
              0.1111111111111111,
              "#46039f"
             ],
             [
              0.2222222222222222,
              "#7201a8"
             ],
             [
              0.3333333333333333,
              "#9c179e"
             ],
             [
              0.4444444444444444,
              "#bd3786"
             ],
             [
              0.5555555555555556,
              "#d8576b"
             ],
             [
              0.6666666666666666,
              "#ed7953"
             ],
             [
              0.7777777777777778,
              "#fb9f3a"
             ],
             [
              0.8888888888888888,
              "#fdca26"
             ],
             [
              1,
              "#f0f921"
             ]
            ],
            "type": "histogram2d"
           }
          ],
          "histogram2dcontour": [
           {
            "colorbar": {
             "outlinewidth": 0,
             "ticks": ""
            },
            "colorscale": [
             [
              0,
              "#0d0887"
             ],
             [
              0.1111111111111111,
              "#46039f"
             ],
             [
              0.2222222222222222,
              "#7201a8"
             ],
             [
              0.3333333333333333,
              "#9c179e"
             ],
             [
              0.4444444444444444,
              "#bd3786"
             ],
             [
              0.5555555555555556,
              "#d8576b"
             ],
             [
              0.6666666666666666,
              "#ed7953"
             ],
             [
              0.7777777777777778,
              "#fb9f3a"
             ],
             [
              0.8888888888888888,
              "#fdca26"
             ],
             [
              1,
              "#f0f921"
             ]
            ],
            "type": "histogram2dcontour"
           }
          ],
          "mesh3d": [
           {
            "colorbar": {
             "outlinewidth": 0,
             "ticks": ""
            },
            "type": "mesh3d"
           }
          ],
          "parcoords": [
           {
            "line": {
             "colorbar": {
              "outlinewidth": 0,
              "ticks": ""
             }
            },
            "type": "parcoords"
           }
          ],
          "pie": [
           {
            "automargin": true,
            "type": "pie"
           }
          ],
          "scatter": [
           {
            "marker": {
             "colorbar": {
              "outlinewidth": 0,
              "ticks": ""
             }
            },
            "type": "scatter"
           }
          ],
          "scatter3d": [
           {
            "line": {
             "colorbar": {
              "outlinewidth": 0,
              "ticks": ""
             }
            },
            "marker": {
             "colorbar": {
              "outlinewidth": 0,
              "ticks": ""
             }
            },
            "type": "scatter3d"
           }
          ],
          "scattercarpet": [
           {
            "marker": {
             "colorbar": {
              "outlinewidth": 0,
              "ticks": ""
             }
            },
            "type": "scattercarpet"
           }
          ],
          "scattergeo": [
           {
            "marker": {
             "colorbar": {
              "outlinewidth": 0,
              "ticks": ""
             }
            },
            "type": "scattergeo"
           }
          ],
          "scattergl": [
           {
            "marker": {
             "colorbar": {
              "outlinewidth": 0,
              "ticks": ""
             }
            },
            "type": "scattergl"
           }
          ],
          "scattermapbox": [
           {
            "marker": {
             "colorbar": {
              "outlinewidth": 0,
              "ticks": ""
             }
            },
            "type": "scattermapbox"
           }
          ],
          "scatterpolar": [
           {
            "marker": {
             "colorbar": {
              "outlinewidth": 0,
              "ticks": ""
             }
            },
            "type": "scatterpolar"
           }
          ],
          "scatterpolargl": [
           {
            "marker": {
             "colorbar": {
              "outlinewidth": 0,
              "ticks": ""
             }
            },
            "type": "scatterpolargl"
           }
          ],
          "scatterternary": [
           {
            "marker": {
             "colorbar": {
              "outlinewidth": 0,
              "ticks": ""
             }
            },
            "type": "scatterternary"
           }
          ],
          "surface": [
           {
            "colorbar": {
             "outlinewidth": 0,
             "ticks": ""
            },
            "colorscale": [
             [
              0,
              "#0d0887"
             ],
             [
              0.1111111111111111,
              "#46039f"
             ],
             [
              0.2222222222222222,
              "#7201a8"
             ],
             [
              0.3333333333333333,
              "#9c179e"
             ],
             [
              0.4444444444444444,
              "#bd3786"
             ],
             [
              0.5555555555555556,
              "#d8576b"
             ],
             [
              0.6666666666666666,
              "#ed7953"
             ],
             [
              0.7777777777777778,
              "#fb9f3a"
             ],
             [
              0.8888888888888888,
              "#fdca26"
             ],
             [
              1,
              "#f0f921"
             ]
            ],
            "type": "surface"
           }
          ],
          "table": [
           {
            "cells": {
             "fill": {
              "color": "#EBF0F8"
             },
             "line": {
              "color": "white"
             }
            },
            "header": {
             "fill": {
              "color": "#C8D4E3"
             },
             "line": {
              "color": "white"
             }
            },
            "type": "table"
           }
          ]
         },
         "layout": {
          "annotationdefaults": {
           "arrowcolor": "#2a3f5f",
           "arrowhead": 0,
           "arrowwidth": 1
          },
          "autotypenumbers": "strict",
          "coloraxis": {
           "colorbar": {
            "outlinewidth": 0,
            "ticks": ""
           }
          },
          "colorscale": {
           "diverging": [
            [
             0,
             "#8e0152"
            ],
            [
             0.1,
             "#c51b7d"
            ],
            [
             0.2,
             "#de77ae"
            ],
            [
             0.3,
             "#f1b6da"
            ],
            [
             0.4,
             "#fde0ef"
            ],
            [
             0.5,
             "#f7f7f7"
            ],
            [
             0.6,
             "#e6f5d0"
            ],
            [
             0.7,
             "#b8e186"
            ],
            [
             0.8,
             "#7fbc41"
            ],
            [
             0.9,
             "#4d9221"
            ],
            [
             1,
             "#276419"
            ]
           ],
           "sequential": [
            [
             0,
             "#0d0887"
            ],
            [
             0.1111111111111111,
             "#46039f"
            ],
            [
             0.2222222222222222,
             "#7201a8"
            ],
            [
             0.3333333333333333,
             "#9c179e"
            ],
            [
             0.4444444444444444,
             "#bd3786"
            ],
            [
             0.5555555555555556,
             "#d8576b"
            ],
            [
             0.6666666666666666,
             "#ed7953"
            ],
            [
             0.7777777777777778,
             "#fb9f3a"
            ],
            [
             0.8888888888888888,
             "#fdca26"
            ],
            [
             1,
             "#f0f921"
            ]
           ],
           "sequentialminus": [
            [
             0,
             "#0d0887"
            ],
            [
             0.1111111111111111,
             "#46039f"
            ],
            [
             0.2222222222222222,
             "#7201a8"
            ],
            [
             0.3333333333333333,
             "#9c179e"
            ],
            [
             0.4444444444444444,
             "#bd3786"
            ],
            [
             0.5555555555555556,
             "#d8576b"
            ],
            [
             0.6666666666666666,
             "#ed7953"
            ],
            [
             0.7777777777777778,
             "#fb9f3a"
            ],
            [
             0.8888888888888888,
             "#fdca26"
            ],
            [
             1,
             "#f0f921"
            ]
           ]
          },
          "colorway": [
           "#636efa",
           "#EF553B",
           "#00cc96",
           "#ab63fa",
           "#FFA15A",
           "#19d3f3",
           "#FF6692",
           "#B6E880",
           "#FF97FF",
           "#FECB52"
          ],
          "font": {
           "color": "#2a3f5f"
          },
          "geo": {
           "bgcolor": "white",
           "lakecolor": "white",
           "landcolor": "#E5ECF6",
           "showlakes": true,
           "showland": true,
           "subunitcolor": "white"
          },
          "hoverlabel": {
           "align": "left"
          },
          "hovermode": "closest",
          "mapbox": {
           "style": "light"
          },
          "paper_bgcolor": "white",
          "plot_bgcolor": "#E5ECF6",
          "polar": {
           "angularaxis": {
            "gridcolor": "white",
            "linecolor": "white",
            "ticks": ""
           },
           "bgcolor": "#E5ECF6",
           "radialaxis": {
            "gridcolor": "white",
            "linecolor": "white",
            "ticks": ""
           }
          },
          "scene": {
           "xaxis": {
            "backgroundcolor": "#E5ECF6",
            "gridcolor": "white",
            "gridwidth": 2,
            "linecolor": "white",
            "showbackground": true,
            "ticks": "",
            "zerolinecolor": "white"
           },
           "yaxis": {
            "backgroundcolor": "#E5ECF6",
            "gridcolor": "white",
            "gridwidth": 2,
            "linecolor": "white",
            "showbackground": true,
            "ticks": "",
            "zerolinecolor": "white"
           },
           "zaxis": {
            "backgroundcolor": "#E5ECF6",
            "gridcolor": "white",
            "gridwidth": 2,
            "linecolor": "white",
            "showbackground": true,
            "ticks": "",
            "zerolinecolor": "white"
           }
          },
          "shapedefaults": {
           "line": {
            "color": "#2a3f5f"
           }
          },
          "ternary": {
           "aaxis": {
            "gridcolor": "white",
            "linecolor": "white",
            "ticks": ""
           },
           "baxis": {
            "gridcolor": "white",
            "linecolor": "white",
            "ticks": ""
           },
           "bgcolor": "#E5ECF6",
           "caxis": {
            "gridcolor": "white",
            "linecolor": "white",
            "ticks": ""
           }
          },
          "title": {
           "x": 0.05
          },
          "xaxis": {
           "automargin": true,
           "gridcolor": "white",
           "linecolor": "white",
           "ticks": "",
           "title": {
            "standoff": 15
           },
           "zerolinecolor": "white",
           "zerolinewidth": 2
          },
          "yaxis": {
           "automargin": true,
           "gridcolor": "white",
           "linecolor": "white",
           "ticks": "",
           "title": {
            "standoff": 15
           },
           "zerolinecolor": "white",
           "zerolinewidth": 2
          }
         }
        },
        "title": {
         "text": "Average Monthly Yield",
         "x": 0.5,
         "xanchor": "center",
         "yanchor": "top"
        },
        "xaxis": {
         "anchor": "y",
         "domain": [
          0,
          1
         ],
         "title": {
          "text": "Month"
         }
        },
        "yaxis": {
         "anchor": "x",
         "domain": [
          0,
          1
         ],
         "title": {
          "text": "Projected Yield (kWh)"
         }
        }
       }
      },
      "text/html": [
       "<div>                            <div id=\"56e0cc0a-3548-4770-ab48-6004799e3cbe\" class=\"plotly-graph-div\" style=\"height:525px; width:100%;\"></div>            <script type=\"text/javascript\">                require([\"plotly\"], function(Plotly) {                    window.PLOTLYENV=window.PLOTLYENV || {};                                    if (document.getElementById(\"56e0cc0a-3548-4770-ab48-6004799e3cbe\")) {                    Plotly.newPlot(                        \"56e0cc0a-3548-4770-ab48-6004799e3cbe\",                        [{\"hovertemplate\": \"Efficiency=Low<br>x=%{x}<br>Yield=%{y}<extra></extra>\", \"legendgroup\": \"Low\", \"line\": {\"color\": \"#636efa\", \"dash\": \"solid\"}, \"mode\": \"lines\", \"name\": \"Low\", \"orientation\": \"v\", \"showlegend\": true, \"type\": \"scatter\", \"x\": [1, 2, 3, 4, 5, 6, 7, 8, 9, 10, 11, 12], \"xaxis\": \"x\", \"y\": [307.3029400557764, 403.93255377438845, 545.3805930646989, 848.7276979151217, 1035.970385890159, 1209.6147639595856, 1285.0812695651457, 1374.0335139754254, 1224.9781204100877, 923.3493293021164, 600.9223706002304, 380.3550658976349], \"yaxis\": \"y\"}, {\"hovertemplate\": \"Efficiency=High<br>x=%{x}<br>Yield=%{y}<extra></extra>\", \"legendgroup\": \"High\", \"line\": {\"color\": \"#EF553B\", \"dash\": \"solid\"}, \"mode\": \"lines\", \"name\": \"High\", \"orientation\": \"v\", \"showlegend\": true, \"type\": \"scatter\", \"x\": [1, 2, 3, 4, 5, 6, 7, 8, 9, 10, 11, 12], \"xaxis\": \"x\", \"y\": [389.2503907373168, 511.6479014475587, 690.8154178819519, 1075.0550840258209, 1312.229155460868, 1532.178701015475, 1627.7696081158513, 1740.4424510355389, 1551.6389525194445, 1169.5758171160142, 761.1683360936252, 481.7830834703376], \"yaxis\": \"y\"}, {\"name\": \"Average Albany Energy Use\", \"type\": \"bar\", \"x\": [1, 2, 3, 4, 5, 6, 7, 8, 9, 10, 11, 12], \"y\": [905.2, 855.3, 1095.2, 875.2, 723.6, 927.7, 1245.4, 1039.8, 746.6, 834.0, 990.9, 1124.3]}],                        {\"legend\": {\"title\": {\"text\": \"Efficiency\"}, \"tracegroupgap\": 0}, \"margin\": {\"t\": 60}, \"template\": {\"data\": {\"bar\": [{\"error_x\": {\"color\": \"#2a3f5f\"}, \"error_y\": {\"color\": \"#2a3f5f\"}, \"marker\": {\"line\": {\"color\": \"#E5ECF6\", \"width\": 0.5}}, \"type\": \"bar\"}], \"barpolar\": [{\"marker\": {\"line\": {\"color\": \"#E5ECF6\", \"width\": 0.5}}, \"type\": \"barpolar\"}], \"carpet\": [{\"aaxis\": {\"endlinecolor\": \"#2a3f5f\", \"gridcolor\": \"white\", \"linecolor\": \"white\", \"minorgridcolor\": \"white\", \"startlinecolor\": \"#2a3f5f\"}, \"baxis\": {\"endlinecolor\": \"#2a3f5f\", \"gridcolor\": \"white\", \"linecolor\": \"white\", \"minorgridcolor\": \"white\", \"startlinecolor\": \"#2a3f5f\"}, \"type\": \"carpet\"}], \"choropleth\": [{\"colorbar\": {\"outlinewidth\": 0, \"ticks\": \"\"}, \"type\": \"choropleth\"}], \"contour\": [{\"colorbar\": {\"outlinewidth\": 0, \"ticks\": \"\"}, \"colorscale\": [[0.0, \"#0d0887\"], [0.1111111111111111, \"#46039f\"], [0.2222222222222222, \"#7201a8\"], [0.3333333333333333, \"#9c179e\"], [0.4444444444444444, \"#bd3786\"], [0.5555555555555556, \"#d8576b\"], [0.6666666666666666, \"#ed7953\"], [0.7777777777777778, \"#fb9f3a\"], [0.8888888888888888, \"#fdca26\"], [1.0, \"#f0f921\"]], \"type\": \"contour\"}], \"contourcarpet\": [{\"colorbar\": {\"outlinewidth\": 0, \"ticks\": \"\"}, \"type\": \"contourcarpet\"}], \"heatmap\": [{\"colorbar\": {\"outlinewidth\": 0, \"ticks\": \"\"}, \"colorscale\": [[0.0, \"#0d0887\"], [0.1111111111111111, \"#46039f\"], [0.2222222222222222, \"#7201a8\"], [0.3333333333333333, \"#9c179e\"], [0.4444444444444444, \"#bd3786\"], [0.5555555555555556, \"#d8576b\"], [0.6666666666666666, \"#ed7953\"], [0.7777777777777778, \"#fb9f3a\"], [0.8888888888888888, \"#fdca26\"], [1.0, \"#f0f921\"]], \"type\": \"heatmap\"}], \"heatmapgl\": [{\"colorbar\": {\"outlinewidth\": 0, \"ticks\": \"\"}, \"colorscale\": [[0.0, \"#0d0887\"], [0.1111111111111111, \"#46039f\"], [0.2222222222222222, \"#7201a8\"], [0.3333333333333333, \"#9c179e\"], [0.4444444444444444, \"#bd3786\"], [0.5555555555555556, \"#d8576b\"], [0.6666666666666666, \"#ed7953\"], [0.7777777777777778, \"#fb9f3a\"], [0.8888888888888888, \"#fdca26\"], [1.0, \"#f0f921\"]], \"type\": \"heatmapgl\"}], \"histogram\": [{\"marker\": {\"colorbar\": {\"outlinewidth\": 0, \"ticks\": \"\"}}, \"type\": \"histogram\"}], \"histogram2d\": [{\"colorbar\": {\"outlinewidth\": 0, \"ticks\": \"\"}, \"colorscale\": [[0.0, \"#0d0887\"], [0.1111111111111111, \"#46039f\"], [0.2222222222222222, \"#7201a8\"], [0.3333333333333333, \"#9c179e\"], [0.4444444444444444, \"#bd3786\"], [0.5555555555555556, \"#d8576b\"], [0.6666666666666666, \"#ed7953\"], [0.7777777777777778, \"#fb9f3a\"], [0.8888888888888888, \"#fdca26\"], [1.0, \"#f0f921\"]], \"type\": \"histogram2d\"}], \"histogram2dcontour\": [{\"colorbar\": {\"outlinewidth\": 0, \"ticks\": \"\"}, \"colorscale\": [[0.0, \"#0d0887\"], [0.1111111111111111, \"#46039f\"], [0.2222222222222222, \"#7201a8\"], [0.3333333333333333, \"#9c179e\"], [0.4444444444444444, \"#bd3786\"], [0.5555555555555556, \"#d8576b\"], [0.6666666666666666, \"#ed7953\"], [0.7777777777777778, \"#fb9f3a\"], [0.8888888888888888, \"#fdca26\"], [1.0, \"#f0f921\"]], \"type\": \"histogram2dcontour\"}], \"mesh3d\": [{\"colorbar\": {\"outlinewidth\": 0, \"ticks\": \"\"}, \"type\": \"mesh3d\"}], \"parcoords\": [{\"line\": {\"colorbar\": {\"outlinewidth\": 0, \"ticks\": \"\"}}, \"type\": \"parcoords\"}], \"pie\": [{\"automargin\": true, \"type\": \"pie\"}], \"scatter\": [{\"marker\": {\"colorbar\": {\"outlinewidth\": 0, \"ticks\": \"\"}}, \"type\": \"scatter\"}], \"scatter3d\": [{\"line\": {\"colorbar\": {\"outlinewidth\": 0, \"ticks\": \"\"}}, \"marker\": {\"colorbar\": {\"outlinewidth\": 0, \"ticks\": \"\"}}, \"type\": \"scatter3d\"}], \"scattercarpet\": [{\"marker\": {\"colorbar\": {\"outlinewidth\": 0, \"ticks\": \"\"}}, \"type\": \"scattercarpet\"}], \"scattergeo\": [{\"marker\": {\"colorbar\": {\"outlinewidth\": 0, \"ticks\": \"\"}}, \"type\": \"scattergeo\"}], \"scattergl\": [{\"marker\": {\"colorbar\": {\"outlinewidth\": 0, \"ticks\": \"\"}}, \"type\": \"scattergl\"}], \"scattermapbox\": [{\"marker\": {\"colorbar\": {\"outlinewidth\": 0, \"ticks\": \"\"}}, \"type\": \"scattermapbox\"}], \"scatterpolar\": [{\"marker\": {\"colorbar\": {\"outlinewidth\": 0, \"ticks\": \"\"}}, \"type\": \"scatterpolar\"}], \"scatterpolargl\": [{\"marker\": {\"colorbar\": {\"outlinewidth\": 0, \"ticks\": \"\"}}, \"type\": \"scatterpolargl\"}], \"scatterternary\": [{\"marker\": {\"colorbar\": {\"outlinewidth\": 0, \"ticks\": \"\"}}, \"type\": \"scatterternary\"}], \"surface\": [{\"colorbar\": {\"outlinewidth\": 0, \"ticks\": \"\"}, \"colorscale\": [[0.0, \"#0d0887\"], [0.1111111111111111, \"#46039f\"], [0.2222222222222222, \"#7201a8\"], [0.3333333333333333, \"#9c179e\"], [0.4444444444444444, \"#bd3786\"], [0.5555555555555556, \"#d8576b\"], [0.6666666666666666, \"#ed7953\"], [0.7777777777777778, \"#fb9f3a\"], [0.8888888888888888, \"#fdca26\"], [1.0, \"#f0f921\"]], \"type\": \"surface\"}], \"table\": [{\"cells\": {\"fill\": {\"color\": \"#EBF0F8\"}, \"line\": {\"color\": \"white\"}}, \"header\": {\"fill\": {\"color\": \"#C8D4E3\"}, \"line\": {\"color\": \"white\"}}, \"type\": \"table\"}]}, \"layout\": {\"annotationdefaults\": {\"arrowcolor\": \"#2a3f5f\", \"arrowhead\": 0, \"arrowwidth\": 1}, \"autotypenumbers\": \"strict\", \"coloraxis\": {\"colorbar\": {\"outlinewidth\": 0, \"ticks\": \"\"}}, \"colorscale\": {\"diverging\": [[0, \"#8e0152\"], [0.1, \"#c51b7d\"], [0.2, \"#de77ae\"], [0.3, \"#f1b6da\"], [0.4, \"#fde0ef\"], [0.5, \"#f7f7f7\"], [0.6, \"#e6f5d0\"], [0.7, \"#b8e186\"], [0.8, \"#7fbc41\"], [0.9, \"#4d9221\"], [1, \"#276419\"]], \"sequential\": [[0.0, \"#0d0887\"], [0.1111111111111111, \"#46039f\"], [0.2222222222222222, \"#7201a8\"], [0.3333333333333333, \"#9c179e\"], [0.4444444444444444, \"#bd3786\"], [0.5555555555555556, \"#d8576b\"], [0.6666666666666666, \"#ed7953\"], [0.7777777777777778, \"#fb9f3a\"], [0.8888888888888888, \"#fdca26\"], [1.0, \"#f0f921\"]], \"sequentialminus\": [[0.0, \"#0d0887\"], [0.1111111111111111, \"#46039f\"], [0.2222222222222222, \"#7201a8\"], [0.3333333333333333, \"#9c179e\"], [0.4444444444444444, \"#bd3786\"], [0.5555555555555556, \"#d8576b\"], [0.6666666666666666, \"#ed7953\"], [0.7777777777777778, \"#fb9f3a\"], [0.8888888888888888, \"#fdca26\"], [1.0, \"#f0f921\"]]}, \"colorway\": [\"#636efa\", \"#EF553B\", \"#00cc96\", \"#ab63fa\", \"#FFA15A\", \"#19d3f3\", \"#FF6692\", \"#B6E880\", \"#FF97FF\", \"#FECB52\"], \"font\": {\"color\": \"#2a3f5f\"}, \"geo\": {\"bgcolor\": \"white\", \"lakecolor\": \"white\", \"landcolor\": \"#E5ECF6\", \"showlakes\": true, \"showland\": true, \"subunitcolor\": \"white\"}, \"hoverlabel\": {\"align\": \"left\"}, \"hovermode\": \"closest\", \"mapbox\": {\"style\": \"light\"}, \"paper_bgcolor\": \"white\", \"plot_bgcolor\": \"#E5ECF6\", \"polar\": {\"angularaxis\": {\"gridcolor\": \"white\", \"linecolor\": \"white\", \"ticks\": \"\"}, \"bgcolor\": \"#E5ECF6\", \"radialaxis\": {\"gridcolor\": \"white\", \"linecolor\": \"white\", \"ticks\": \"\"}}, \"scene\": {\"xaxis\": {\"backgroundcolor\": \"#E5ECF6\", \"gridcolor\": \"white\", \"gridwidth\": 2, \"linecolor\": \"white\", \"showbackground\": true, \"ticks\": \"\", \"zerolinecolor\": \"white\"}, \"yaxis\": {\"backgroundcolor\": \"#E5ECF6\", \"gridcolor\": \"white\", \"gridwidth\": 2, \"linecolor\": \"white\", \"showbackground\": true, \"ticks\": \"\", \"zerolinecolor\": \"white\"}, \"zaxis\": {\"backgroundcolor\": \"#E5ECF6\", \"gridcolor\": \"white\", \"gridwidth\": 2, \"linecolor\": \"white\", \"showbackground\": true, \"ticks\": \"\", \"zerolinecolor\": \"white\"}}, \"shapedefaults\": {\"line\": {\"color\": \"#2a3f5f\"}}, \"ternary\": {\"aaxis\": {\"gridcolor\": \"white\", \"linecolor\": \"white\", \"ticks\": \"\"}, \"baxis\": {\"gridcolor\": \"white\", \"linecolor\": \"white\", \"ticks\": \"\"}, \"bgcolor\": \"#E5ECF6\", \"caxis\": {\"gridcolor\": \"white\", \"linecolor\": \"white\", \"ticks\": \"\"}}, \"title\": {\"x\": 0.05}, \"xaxis\": {\"automargin\": true, \"gridcolor\": \"white\", \"linecolor\": \"white\", \"ticks\": \"\", \"title\": {\"standoff\": 15}, \"zerolinecolor\": \"white\", \"zerolinewidth\": 2}, \"yaxis\": {\"automargin\": true, \"gridcolor\": \"white\", \"linecolor\": \"white\", \"ticks\": \"\", \"title\": {\"standoff\": 15}, \"zerolinecolor\": \"white\", \"zerolinewidth\": 2}}}, \"title\": {\"text\": \"Average Monthly Yield\", \"x\": 0.5, \"xanchor\": \"center\", \"yanchor\": \"top\"}, \"xaxis\": {\"anchor\": \"y\", \"domain\": [0.0, 1.0], \"title\": {\"text\": \"Month\"}}, \"yaxis\": {\"anchor\": \"x\", \"domain\": [0.0, 1.0], \"title\": {\"text\": \"Projected Yield (kWh)\"}}},                        {\"responsive\": true}                    ).then(function(){\n",
       "                            \n",
       "var gd = document.getElementById('56e0cc0a-3548-4770-ab48-6004799e3cbe');\n",
       "var x = new MutationObserver(function (mutations, observer) {{\n",
       "        var display = window.getComputedStyle(gd).display;\n",
       "        if (!display || display === 'none') {{\n",
       "            console.log([gd, 'removed!']);\n",
       "            Plotly.purge(gd);\n",
       "            observer.disconnect();\n",
       "        }}\n",
       "}});\n",
       "\n",
       "// Listen for the removal of the full notebook cells\n",
       "var notebookContainer = gd.closest('#notebook-container');\n",
       "if (notebookContainer) {{\n",
       "    x.observe(notebookContainer, {childList: true});\n",
       "}}\n",
       "\n",
       "// Listen for the clearing of the current output cell\n",
       "var outputEl = gd.closest('.output');\n",
       "if (outputEl) {{\n",
       "    x.observe(outputEl, {childList: true});\n",
       "}}\n",
       "\n",
       "                        })                };                });            </script>        </div>"
      ]
     },
     "metadata": {},
     "output_type": "display_data"
    }
   ],
   "source": [
    "fig2 = px.line(\n",
    "    Y_month, \n",
    "    x = month_idx*2, \n",
    "    y = 'Yield',\n",
    "    color = 'Efficiency'\n",
    ")\n",
    "fig2.add_bar(x=month_idx, \n",
    "             y = Albany_Monthly_Use['Usage'], \n",
    "             name = 'Average Albany Energy Use')\n",
    "\n",
    "fig2.update_layout(\n",
    "    title={\n",
    "        'text':'Average Monthly Yield',\n",
    "        'x':0.5,\n",
    "        'xanchor':'center',\n",
    "        'yanchor':'top'\n",
    "    },\n",
    "    xaxis_title='Month',\n",
    "    yaxis_title='Projected Yield (kWh)'\n",
    ")\n",
    "fig2.show()"
   ]
  },
  {
   "cell_type": "code",
   "execution_count": 32,
   "metadata": {},
   "outputs": [
    {
     "data": {
      "application/vnd.plotly.v1+json": {
       "config": {
        "plotlyServerURL": "https://plot.ly"
       },
       "data": [
        {
         "hovertemplate": "color=Projected Monthly Energy Use<br>x=%{x}<br>y=%{y}<extra></extra>",
         "legendgroup": "Projected Monthly Energy Use",
         "line": {
          "color": "#636efa",
          "dash": "solid",
          "shape": "spline"
         },
         "mode": "lines",
         "name": "Projected Monthly Energy Use",
         "orientation": "v",
         "showlegend": true,
         "type": "scatter",
         "x": [
          "January",
          "February",
          "March",
          "April",
          "May",
          "June",
          "July",
          "August",
          "September",
          "October",
          "November",
          "December"
         ],
         "xaxis": "x",
         "y": [
          947.499996,
          895.268169,
          1146.378696,
          916.0980959999999,
          757.413828,
          971.051421,
          1303.597542,
          1088.3898539999998,
          781.488618,
          872.97282,
          1037.204757,
          1176.8385389999999
         ],
         "yaxis": "y"
        },
        {
         "name": "Low Efficiency Yield",
         "type": "bar",
         "x": [
          "January",
          "February",
          "March",
          "April",
          "May",
          "June",
          "July",
          "August",
          "September",
          "October",
          "November",
          "December"
         ],
         "y": [
          307.3029400557764,
          403.93255377438845,
          545.3805930646989,
          848.7276979151217,
          1035.970385890159,
          1209.6147639595856,
          1285.0812695651457,
          1374.0335139754254,
          1224.9781204100877,
          923.3493293021164,
          600.9223706002304,
          380.3550658976349
         ]
        },
        {
         "name": "High Efficiency Yield",
         "type": "bar",
         "x": [
          "January",
          "February",
          "March",
          "April",
          "May",
          "June",
          "July",
          "August",
          "September",
          "October",
          "November",
          "December"
         ],
         "y": [
          389.2503907373168,
          511.6479014475587,
          690.8154178819519,
          1075.0550840258209,
          1312.229155460868,
          1532.178701015475,
          1627.7696081158513,
          1740.4424510355389,
          1551.6389525194445,
          1169.5758171160142,
          761.1683360936252,
          481.7830834703376
         ]
        }
       ],
       "layout": {
        "legend": {
         "title": {
          "text": "color"
         },
         "tracegroupgap": 0
        },
        "margin": {
         "t": 60
        },
        "template": {
         "data": {
          "bar": [
           {
            "error_x": {
             "color": "#2a3f5f"
            },
            "error_y": {
             "color": "#2a3f5f"
            },
            "marker": {
             "line": {
              "color": "#E5ECF6",
              "width": 0.5
             }
            },
            "type": "bar"
           }
          ],
          "barpolar": [
           {
            "marker": {
             "line": {
              "color": "#E5ECF6",
              "width": 0.5
             }
            },
            "type": "barpolar"
           }
          ],
          "carpet": [
           {
            "aaxis": {
             "endlinecolor": "#2a3f5f",
             "gridcolor": "white",
             "linecolor": "white",
             "minorgridcolor": "white",
             "startlinecolor": "#2a3f5f"
            },
            "baxis": {
             "endlinecolor": "#2a3f5f",
             "gridcolor": "white",
             "linecolor": "white",
             "minorgridcolor": "white",
             "startlinecolor": "#2a3f5f"
            },
            "type": "carpet"
           }
          ],
          "choropleth": [
           {
            "colorbar": {
             "outlinewidth": 0,
             "ticks": ""
            },
            "type": "choropleth"
           }
          ],
          "contour": [
           {
            "colorbar": {
             "outlinewidth": 0,
             "ticks": ""
            },
            "colorscale": [
             [
              0,
              "#0d0887"
             ],
             [
              0.1111111111111111,
              "#46039f"
             ],
             [
              0.2222222222222222,
              "#7201a8"
             ],
             [
              0.3333333333333333,
              "#9c179e"
             ],
             [
              0.4444444444444444,
              "#bd3786"
             ],
             [
              0.5555555555555556,
              "#d8576b"
             ],
             [
              0.6666666666666666,
              "#ed7953"
             ],
             [
              0.7777777777777778,
              "#fb9f3a"
             ],
             [
              0.8888888888888888,
              "#fdca26"
             ],
             [
              1,
              "#f0f921"
             ]
            ],
            "type": "contour"
           }
          ],
          "contourcarpet": [
           {
            "colorbar": {
             "outlinewidth": 0,
             "ticks": ""
            },
            "type": "contourcarpet"
           }
          ],
          "heatmap": [
           {
            "colorbar": {
             "outlinewidth": 0,
             "ticks": ""
            },
            "colorscale": [
             [
              0,
              "#0d0887"
             ],
             [
              0.1111111111111111,
              "#46039f"
             ],
             [
              0.2222222222222222,
              "#7201a8"
             ],
             [
              0.3333333333333333,
              "#9c179e"
             ],
             [
              0.4444444444444444,
              "#bd3786"
             ],
             [
              0.5555555555555556,
              "#d8576b"
             ],
             [
              0.6666666666666666,
              "#ed7953"
             ],
             [
              0.7777777777777778,
              "#fb9f3a"
             ],
             [
              0.8888888888888888,
              "#fdca26"
             ],
             [
              1,
              "#f0f921"
             ]
            ],
            "type": "heatmap"
           }
          ],
          "heatmapgl": [
           {
            "colorbar": {
             "outlinewidth": 0,
             "ticks": ""
            },
            "colorscale": [
             [
              0,
              "#0d0887"
             ],
             [
              0.1111111111111111,
              "#46039f"
             ],
             [
              0.2222222222222222,
              "#7201a8"
             ],
             [
              0.3333333333333333,
              "#9c179e"
             ],
             [
              0.4444444444444444,
              "#bd3786"
             ],
             [
              0.5555555555555556,
              "#d8576b"
             ],
             [
              0.6666666666666666,
              "#ed7953"
             ],
             [
              0.7777777777777778,
              "#fb9f3a"
             ],
             [
              0.8888888888888888,
              "#fdca26"
             ],
             [
              1,
              "#f0f921"
             ]
            ],
            "type": "heatmapgl"
           }
          ],
          "histogram": [
           {
            "marker": {
             "colorbar": {
              "outlinewidth": 0,
              "ticks": ""
             }
            },
            "type": "histogram"
           }
          ],
          "histogram2d": [
           {
            "colorbar": {
             "outlinewidth": 0,
             "ticks": ""
            },
            "colorscale": [
             [
              0,
              "#0d0887"
             ],
             [
              0.1111111111111111,
              "#46039f"
             ],
             [
              0.2222222222222222,
              "#7201a8"
             ],
             [
              0.3333333333333333,
              "#9c179e"
             ],
             [
              0.4444444444444444,
              "#bd3786"
             ],
             [
              0.5555555555555556,
              "#d8576b"
             ],
             [
              0.6666666666666666,
              "#ed7953"
             ],
             [
              0.7777777777777778,
              "#fb9f3a"
             ],
             [
              0.8888888888888888,
              "#fdca26"
             ],
             [
              1,
              "#f0f921"
             ]
            ],
            "type": "histogram2d"
           }
          ],
          "histogram2dcontour": [
           {
            "colorbar": {
             "outlinewidth": 0,
             "ticks": ""
            },
            "colorscale": [
             [
              0,
              "#0d0887"
             ],
             [
              0.1111111111111111,
              "#46039f"
             ],
             [
              0.2222222222222222,
              "#7201a8"
             ],
             [
              0.3333333333333333,
              "#9c179e"
             ],
             [
              0.4444444444444444,
              "#bd3786"
             ],
             [
              0.5555555555555556,
              "#d8576b"
             ],
             [
              0.6666666666666666,
              "#ed7953"
             ],
             [
              0.7777777777777778,
              "#fb9f3a"
             ],
             [
              0.8888888888888888,
              "#fdca26"
             ],
             [
              1,
              "#f0f921"
             ]
            ],
            "type": "histogram2dcontour"
           }
          ],
          "mesh3d": [
           {
            "colorbar": {
             "outlinewidth": 0,
             "ticks": ""
            },
            "type": "mesh3d"
           }
          ],
          "parcoords": [
           {
            "line": {
             "colorbar": {
              "outlinewidth": 0,
              "ticks": ""
             }
            },
            "type": "parcoords"
           }
          ],
          "pie": [
           {
            "automargin": true,
            "type": "pie"
           }
          ],
          "scatter": [
           {
            "marker": {
             "colorbar": {
              "outlinewidth": 0,
              "ticks": ""
             }
            },
            "type": "scatter"
           }
          ],
          "scatter3d": [
           {
            "line": {
             "colorbar": {
              "outlinewidth": 0,
              "ticks": ""
             }
            },
            "marker": {
             "colorbar": {
              "outlinewidth": 0,
              "ticks": ""
             }
            },
            "type": "scatter3d"
           }
          ],
          "scattercarpet": [
           {
            "marker": {
             "colorbar": {
              "outlinewidth": 0,
              "ticks": ""
             }
            },
            "type": "scattercarpet"
           }
          ],
          "scattergeo": [
           {
            "marker": {
             "colorbar": {
              "outlinewidth": 0,
              "ticks": ""
             }
            },
            "type": "scattergeo"
           }
          ],
          "scattergl": [
           {
            "marker": {
             "colorbar": {
              "outlinewidth": 0,
              "ticks": ""
             }
            },
            "type": "scattergl"
           }
          ],
          "scattermapbox": [
           {
            "marker": {
             "colorbar": {
              "outlinewidth": 0,
              "ticks": ""
             }
            },
            "type": "scattermapbox"
           }
          ],
          "scatterpolar": [
           {
            "marker": {
             "colorbar": {
              "outlinewidth": 0,
              "ticks": ""
             }
            },
            "type": "scatterpolar"
           }
          ],
          "scatterpolargl": [
           {
            "marker": {
             "colorbar": {
              "outlinewidth": 0,
              "ticks": ""
             }
            },
            "type": "scatterpolargl"
           }
          ],
          "scatterternary": [
           {
            "marker": {
             "colorbar": {
              "outlinewidth": 0,
              "ticks": ""
             }
            },
            "type": "scatterternary"
           }
          ],
          "surface": [
           {
            "colorbar": {
             "outlinewidth": 0,
             "ticks": ""
            },
            "colorscale": [
             [
              0,
              "#0d0887"
             ],
             [
              0.1111111111111111,
              "#46039f"
             ],
             [
              0.2222222222222222,
              "#7201a8"
             ],
             [
              0.3333333333333333,
              "#9c179e"
             ],
             [
              0.4444444444444444,
              "#bd3786"
             ],
             [
              0.5555555555555556,
              "#d8576b"
             ],
             [
              0.6666666666666666,
              "#ed7953"
             ],
             [
              0.7777777777777778,
              "#fb9f3a"
             ],
             [
              0.8888888888888888,
              "#fdca26"
             ],
             [
              1,
              "#f0f921"
             ]
            ],
            "type": "surface"
           }
          ],
          "table": [
           {
            "cells": {
             "fill": {
              "color": "#EBF0F8"
             },
             "line": {
              "color": "white"
             }
            },
            "header": {
             "fill": {
              "color": "#C8D4E3"
             },
             "line": {
              "color": "white"
             }
            },
            "type": "table"
           }
          ]
         },
         "layout": {
          "annotationdefaults": {
           "arrowcolor": "#2a3f5f",
           "arrowhead": 0,
           "arrowwidth": 1
          },
          "autotypenumbers": "strict",
          "coloraxis": {
           "colorbar": {
            "outlinewidth": 0,
            "ticks": ""
           }
          },
          "colorscale": {
           "diverging": [
            [
             0,
             "#8e0152"
            ],
            [
             0.1,
             "#c51b7d"
            ],
            [
             0.2,
             "#de77ae"
            ],
            [
             0.3,
             "#f1b6da"
            ],
            [
             0.4,
             "#fde0ef"
            ],
            [
             0.5,
             "#f7f7f7"
            ],
            [
             0.6,
             "#e6f5d0"
            ],
            [
             0.7,
             "#b8e186"
            ],
            [
             0.8,
             "#7fbc41"
            ],
            [
             0.9,
             "#4d9221"
            ],
            [
             1,
             "#276419"
            ]
           ],
           "sequential": [
            [
             0,
             "#0d0887"
            ],
            [
             0.1111111111111111,
             "#46039f"
            ],
            [
             0.2222222222222222,
             "#7201a8"
            ],
            [
             0.3333333333333333,
             "#9c179e"
            ],
            [
             0.4444444444444444,
             "#bd3786"
            ],
            [
             0.5555555555555556,
             "#d8576b"
            ],
            [
             0.6666666666666666,
             "#ed7953"
            ],
            [
             0.7777777777777778,
             "#fb9f3a"
            ],
            [
             0.8888888888888888,
             "#fdca26"
            ],
            [
             1,
             "#f0f921"
            ]
           ],
           "sequentialminus": [
            [
             0,
             "#0d0887"
            ],
            [
             0.1111111111111111,
             "#46039f"
            ],
            [
             0.2222222222222222,
             "#7201a8"
            ],
            [
             0.3333333333333333,
             "#9c179e"
            ],
            [
             0.4444444444444444,
             "#bd3786"
            ],
            [
             0.5555555555555556,
             "#d8576b"
            ],
            [
             0.6666666666666666,
             "#ed7953"
            ],
            [
             0.7777777777777778,
             "#fb9f3a"
            ],
            [
             0.8888888888888888,
             "#fdca26"
            ],
            [
             1,
             "#f0f921"
            ]
           ]
          },
          "colorway": [
           "#636efa",
           "#EF553B",
           "#00cc96",
           "#ab63fa",
           "#FFA15A",
           "#19d3f3",
           "#FF6692",
           "#B6E880",
           "#FF97FF",
           "#FECB52"
          ],
          "font": {
           "color": "#2a3f5f"
          },
          "geo": {
           "bgcolor": "white",
           "lakecolor": "white",
           "landcolor": "#E5ECF6",
           "showlakes": true,
           "showland": true,
           "subunitcolor": "white"
          },
          "hoverlabel": {
           "align": "left"
          },
          "hovermode": "closest",
          "mapbox": {
           "style": "light"
          },
          "paper_bgcolor": "white",
          "plot_bgcolor": "#E5ECF6",
          "polar": {
           "angularaxis": {
            "gridcolor": "white",
            "linecolor": "white",
            "ticks": ""
           },
           "bgcolor": "#E5ECF6",
           "radialaxis": {
            "gridcolor": "white",
            "linecolor": "white",
            "ticks": ""
           }
          },
          "scene": {
           "xaxis": {
            "backgroundcolor": "#E5ECF6",
            "gridcolor": "white",
            "gridwidth": 2,
            "linecolor": "white",
            "showbackground": true,
            "ticks": "",
            "zerolinecolor": "white"
           },
           "yaxis": {
            "backgroundcolor": "#E5ECF6",
            "gridcolor": "white",
            "gridwidth": 2,
            "linecolor": "white",
            "showbackground": true,
            "ticks": "",
            "zerolinecolor": "white"
           },
           "zaxis": {
            "backgroundcolor": "#E5ECF6",
            "gridcolor": "white",
            "gridwidth": 2,
            "linecolor": "white",
            "showbackground": true,
            "ticks": "",
            "zerolinecolor": "white"
           }
          },
          "shapedefaults": {
           "line": {
            "color": "#2a3f5f"
           }
          },
          "ternary": {
           "aaxis": {
            "gridcolor": "white",
            "linecolor": "white",
            "ticks": ""
           },
           "baxis": {
            "gridcolor": "white",
            "linecolor": "white",
            "ticks": ""
           },
           "bgcolor": "#E5ECF6",
           "caxis": {
            "gridcolor": "white",
            "linecolor": "white",
            "ticks": ""
           }
          },
          "title": {
           "x": 0.05
          },
          "xaxis": {
           "automargin": true,
           "gridcolor": "white",
           "linecolor": "white",
           "ticks": "",
           "title": {
            "standoff": 15
           },
           "zerolinecolor": "white",
           "zerolinewidth": 2
          },
          "yaxis": {
           "automargin": true,
           "gridcolor": "white",
           "linecolor": "white",
           "ticks": "",
           "title": {
            "standoff": 15
           },
           "zerolinecolor": "white",
           "zerolinewidth": 2
          }
         }
        },
        "title": {
         "text": "Average Monthly Yield",
         "x": 0.5,
         "xanchor": "center",
         "yanchor": "top"
        },
        "xaxis": {
         "anchor": "y",
         "domain": [
          0,
          1
         ],
         "title": {
          "text": "Month"
         }
        },
        "yaxis": {
         "anchor": "x",
         "domain": [
          0,
          1
         ],
         "title": {
          "text": "Projected Yield (kWh)"
         }
        }
       }
      },
      "text/html": [
       "<div>                            <div id=\"fe8069e0-7cca-4b15-8851-4547949a34c2\" class=\"plotly-graph-div\" style=\"height:525px; width:100%;\"></div>            <script type=\"text/javascript\">                require([\"plotly\"], function(Plotly) {                    window.PLOTLYENV=window.PLOTLYENV || {};                                    if (document.getElementById(\"fe8069e0-7cca-4b15-8851-4547949a34c2\")) {                    Plotly.newPlot(                        \"fe8069e0-7cca-4b15-8851-4547949a34c2\",                        [{\"hovertemplate\": \"color=Projected Monthly Energy Use<br>x=%{x}<br>y=%{y}<extra></extra>\", \"legendgroup\": \"Projected Monthly Energy Use\", \"line\": {\"color\": \"#636efa\", \"dash\": \"solid\", \"shape\": \"spline\"}, \"mode\": \"lines\", \"name\": \"Projected Monthly Energy Use\", \"orientation\": \"v\", \"showlegend\": true, \"type\": \"scatter\", \"x\": [\"January\", \"February\", \"March\", \"April\", \"May\", \"June\", \"July\", \"August\", \"September\", \"October\", \"November\", \"December\"], \"xaxis\": \"x\", \"y\": [947.499996, 895.268169, 1146.378696, 916.0980959999999, 757.413828, 971.051421, 1303.597542, 1088.3898539999998, 781.488618, 872.97282, 1037.204757, 1176.8385389999999], \"yaxis\": \"y\"}, {\"name\": \"Low Efficiency Yield\", \"type\": \"bar\", \"x\": [\"January\", \"February\", \"March\", \"April\", \"May\", \"June\", \"July\", \"August\", \"September\", \"October\", \"November\", \"December\"], \"y\": [307.3029400557764, 403.93255377438845, 545.3805930646989, 848.7276979151217, 1035.970385890159, 1209.6147639595856, 1285.0812695651457, 1374.0335139754254, 1224.9781204100877, 923.3493293021164, 600.9223706002304, 380.3550658976349]}, {\"name\": \"High Efficiency Yield\", \"type\": \"bar\", \"x\": [\"January\", \"February\", \"March\", \"April\", \"May\", \"June\", \"July\", \"August\", \"September\", \"October\", \"November\", \"December\"], \"y\": [389.2503907373168, 511.6479014475587, 690.8154178819519, 1075.0550840258209, 1312.229155460868, 1532.178701015475, 1627.7696081158513, 1740.4424510355389, 1551.6389525194445, 1169.5758171160142, 761.1683360936252, 481.7830834703376]}],                        {\"legend\": {\"title\": {\"text\": \"color\"}, \"tracegroupgap\": 0}, \"margin\": {\"t\": 60}, \"template\": {\"data\": {\"bar\": [{\"error_x\": {\"color\": \"#2a3f5f\"}, \"error_y\": {\"color\": \"#2a3f5f\"}, \"marker\": {\"line\": {\"color\": \"#E5ECF6\", \"width\": 0.5}}, \"type\": \"bar\"}], \"barpolar\": [{\"marker\": {\"line\": {\"color\": \"#E5ECF6\", \"width\": 0.5}}, \"type\": \"barpolar\"}], \"carpet\": [{\"aaxis\": {\"endlinecolor\": \"#2a3f5f\", \"gridcolor\": \"white\", \"linecolor\": \"white\", \"minorgridcolor\": \"white\", \"startlinecolor\": \"#2a3f5f\"}, \"baxis\": {\"endlinecolor\": \"#2a3f5f\", \"gridcolor\": \"white\", \"linecolor\": \"white\", \"minorgridcolor\": \"white\", \"startlinecolor\": \"#2a3f5f\"}, \"type\": \"carpet\"}], \"choropleth\": [{\"colorbar\": {\"outlinewidth\": 0, \"ticks\": \"\"}, \"type\": \"choropleth\"}], \"contour\": [{\"colorbar\": {\"outlinewidth\": 0, \"ticks\": \"\"}, \"colorscale\": [[0.0, \"#0d0887\"], [0.1111111111111111, \"#46039f\"], [0.2222222222222222, \"#7201a8\"], [0.3333333333333333, \"#9c179e\"], [0.4444444444444444, \"#bd3786\"], [0.5555555555555556, \"#d8576b\"], [0.6666666666666666, \"#ed7953\"], [0.7777777777777778, \"#fb9f3a\"], [0.8888888888888888, \"#fdca26\"], [1.0, \"#f0f921\"]], \"type\": \"contour\"}], \"contourcarpet\": [{\"colorbar\": {\"outlinewidth\": 0, \"ticks\": \"\"}, \"type\": \"contourcarpet\"}], \"heatmap\": [{\"colorbar\": {\"outlinewidth\": 0, \"ticks\": \"\"}, \"colorscale\": [[0.0, \"#0d0887\"], [0.1111111111111111, \"#46039f\"], [0.2222222222222222, \"#7201a8\"], [0.3333333333333333, \"#9c179e\"], [0.4444444444444444, \"#bd3786\"], [0.5555555555555556, \"#d8576b\"], [0.6666666666666666, \"#ed7953\"], [0.7777777777777778, \"#fb9f3a\"], [0.8888888888888888, \"#fdca26\"], [1.0, \"#f0f921\"]], \"type\": \"heatmap\"}], \"heatmapgl\": [{\"colorbar\": {\"outlinewidth\": 0, \"ticks\": \"\"}, \"colorscale\": [[0.0, \"#0d0887\"], [0.1111111111111111, \"#46039f\"], [0.2222222222222222, \"#7201a8\"], [0.3333333333333333, \"#9c179e\"], [0.4444444444444444, \"#bd3786\"], [0.5555555555555556, \"#d8576b\"], [0.6666666666666666, \"#ed7953\"], [0.7777777777777778, \"#fb9f3a\"], [0.8888888888888888, \"#fdca26\"], [1.0, \"#f0f921\"]], \"type\": \"heatmapgl\"}], \"histogram\": [{\"marker\": {\"colorbar\": {\"outlinewidth\": 0, \"ticks\": \"\"}}, \"type\": \"histogram\"}], \"histogram2d\": [{\"colorbar\": {\"outlinewidth\": 0, \"ticks\": \"\"}, \"colorscale\": [[0.0, \"#0d0887\"], [0.1111111111111111, \"#46039f\"], [0.2222222222222222, \"#7201a8\"], [0.3333333333333333, \"#9c179e\"], [0.4444444444444444, \"#bd3786\"], [0.5555555555555556, \"#d8576b\"], [0.6666666666666666, \"#ed7953\"], [0.7777777777777778, \"#fb9f3a\"], [0.8888888888888888, \"#fdca26\"], [1.0, \"#f0f921\"]], \"type\": \"histogram2d\"}], \"histogram2dcontour\": [{\"colorbar\": {\"outlinewidth\": 0, \"ticks\": \"\"}, \"colorscale\": [[0.0, \"#0d0887\"], [0.1111111111111111, \"#46039f\"], [0.2222222222222222, \"#7201a8\"], [0.3333333333333333, \"#9c179e\"], [0.4444444444444444, \"#bd3786\"], [0.5555555555555556, \"#d8576b\"], [0.6666666666666666, \"#ed7953\"], [0.7777777777777778, \"#fb9f3a\"], [0.8888888888888888, \"#fdca26\"], [1.0, \"#f0f921\"]], \"type\": \"histogram2dcontour\"}], \"mesh3d\": [{\"colorbar\": {\"outlinewidth\": 0, \"ticks\": \"\"}, \"type\": \"mesh3d\"}], \"parcoords\": [{\"line\": {\"colorbar\": {\"outlinewidth\": 0, \"ticks\": \"\"}}, \"type\": \"parcoords\"}], \"pie\": [{\"automargin\": true, \"type\": \"pie\"}], \"scatter\": [{\"marker\": {\"colorbar\": {\"outlinewidth\": 0, \"ticks\": \"\"}}, \"type\": \"scatter\"}], \"scatter3d\": [{\"line\": {\"colorbar\": {\"outlinewidth\": 0, \"ticks\": \"\"}}, \"marker\": {\"colorbar\": {\"outlinewidth\": 0, \"ticks\": \"\"}}, \"type\": \"scatter3d\"}], \"scattercarpet\": [{\"marker\": {\"colorbar\": {\"outlinewidth\": 0, \"ticks\": \"\"}}, \"type\": \"scattercarpet\"}], \"scattergeo\": [{\"marker\": {\"colorbar\": {\"outlinewidth\": 0, \"ticks\": \"\"}}, \"type\": \"scattergeo\"}], \"scattergl\": [{\"marker\": {\"colorbar\": {\"outlinewidth\": 0, \"ticks\": \"\"}}, \"type\": \"scattergl\"}], \"scattermapbox\": [{\"marker\": {\"colorbar\": {\"outlinewidth\": 0, \"ticks\": \"\"}}, \"type\": \"scattermapbox\"}], \"scatterpolar\": [{\"marker\": {\"colorbar\": {\"outlinewidth\": 0, \"ticks\": \"\"}}, \"type\": \"scatterpolar\"}], \"scatterpolargl\": [{\"marker\": {\"colorbar\": {\"outlinewidth\": 0, \"ticks\": \"\"}}, \"type\": \"scatterpolargl\"}], \"scatterternary\": [{\"marker\": {\"colorbar\": {\"outlinewidth\": 0, \"ticks\": \"\"}}, \"type\": \"scatterternary\"}], \"surface\": [{\"colorbar\": {\"outlinewidth\": 0, \"ticks\": \"\"}, \"colorscale\": [[0.0, \"#0d0887\"], [0.1111111111111111, \"#46039f\"], [0.2222222222222222, \"#7201a8\"], [0.3333333333333333, \"#9c179e\"], [0.4444444444444444, \"#bd3786\"], [0.5555555555555556, \"#d8576b\"], [0.6666666666666666, \"#ed7953\"], [0.7777777777777778, \"#fb9f3a\"], [0.8888888888888888, \"#fdca26\"], [1.0, \"#f0f921\"]], \"type\": \"surface\"}], \"table\": [{\"cells\": {\"fill\": {\"color\": \"#EBF0F8\"}, \"line\": {\"color\": \"white\"}}, \"header\": {\"fill\": {\"color\": \"#C8D4E3\"}, \"line\": {\"color\": \"white\"}}, \"type\": \"table\"}]}, \"layout\": {\"annotationdefaults\": {\"arrowcolor\": \"#2a3f5f\", \"arrowhead\": 0, \"arrowwidth\": 1}, \"autotypenumbers\": \"strict\", \"coloraxis\": {\"colorbar\": {\"outlinewidth\": 0, \"ticks\": \"\"}}, \"colorscale\": {\"diverging\": [[0, \"#8e0152\"], [0.1, \"#c51b7d\"], [0.2, \"#de77ae\"], [0.3, \"#f1b6da\"], [0.4, \"#fde0ef\"], [0.5, \"#f7f7f7\"], [0.6, \"#e6f5d0\"], [0.7, \"#b8e186\"], [0.8, \"#7fbc41\"], [0.9, \"#4d9221\"], [1, \"#276419\"]], \"sequential\": [[0.0, \"#0d0887\"], [0.1111111111111111, \"#46039f\"], [0.2222222222222222, \"#7201a8\"], [0.3333333333333333, \"#9c179e\"], [0.4444444444444444, \"#bd3786\"], [0.5555555555555556, \"#d8576b\"], [0.6666666666666666, \"#ed7953\"], [0.7777777777777778, \"#fb9f3a\"], [0.8888888888888888, \"#fdca26\"], [1.0, \"#f0f921\"]], \"sequentialminus\": [[0.0, \"#0d0887\"], [0.1111111111111111, \"#46039f\"], [0.2222222222222222, \"#7201a8\"], [0.3333333333333333, \"#9c179e\"], [0.4444444444444444, \"#bd3786\"], [0.5555555555555556, \"#d8576b\"], [0.6666666666666666, \"#ed7953\"], [0.7777777777777778, \"#fb9f3a\"], [0.8888888888888888, \"#fdca26\"], [1.0, \"#f0f921\"]]}, \"colorway\": [\"#636efa\", \"#EF553B\", \"#00cc96\", \"#ab63fa\", \"#FFA15A\", \"#19d3f3\", \"#FF6692\", \"#B6E880\", \"#FF97FF\", \"#FECB52\"], \"font\": {\"color\": \"#2a3f5f\"}, \"geo\": {\"bgcolor\": \"white\", \"lakecolor\": \"white\", \"landcolor\": \"#E5ECF6\", \"showlakes\": true, \"showland\": true, \"subunitcolor\": \"white\"}, \"hoverlabel\": {\"align\": \"left\"}, \"hovermode\": \"closest\", \"mapbox\": {\"style\": \"light\"}, \"paper_bgcolor\": \"white\", \"plot_bgcolor\": \"#E5ECF6\", \"polar\": {\"angularaxis\": {\"gridcolor\": \"white\", \"linecolor\": \"white\", \"ticks\": \"\"}, \"bgcolor\": \"#E5ECF6\", \"radialaxis\": {\"gridcolor\": \"white\", \"linecolor\": \"white\", \"ticks\": \"\"}}, \"scene\": {\"xaxis\": {\"backgroundcolor\": \"#E5ECF6\", \"gridcolor\": \"white\", \"gridwidth\": 2, \"linecolor\": \"white\", \"showbackground\": true, \"ticks\": \"\", \"zerolinecolor\": \"white\"}, \"yaxis\": {\"backgroundcolor\": \"#E5ECF6\", \"gridcolor\": \"white\", \"gridwidth\": 2, \"linecolor\": \"white\", \"showbackground\": true, \"ticks\": \"\", \"zerolinecolor\": \"white\"}, \"zaxis\": {\"backgroundcolor\": \"#E5ECF6\", \"gridcolor\": \"white\", \"gridwidth\": 2, \"linecolor\": \"white\", \"showbackground\": true, \"ticks\": \"\", \"zerolinecolor\": \"white\"}}, \"shapedefaults\": {\"line\": {\"color\": \"#2a3f5f\"}}, \"ternary\": {\"aaxis\": {\"gridcolor\": \"white\", \"linecolor\": \"white\", \"ticks\": \"\"}, \"baxis\": {\"gridcolor\": \"white\", \"linecolor\": \"white\", \"ticks\": \"\"}, \"bgcolor\": \"#E5ECF6\", \"caxis\": {\"gridcolor\": \"white\", \"linecolor\": \"white\", \"ticks\": \"\"}}, \"title\": {\"x\": 0.05}, \"xaxis\": {\"automargin\": true, \"gridcolor\": \"white\", \"linecolor\": \"white\", \"ticks\": \"\", \"title\": {\"standoff\": 15}, \"zerolinecolor\": \"white\", \"zerolinewidth\": 2}, \"yaxis\": {\"automargin\": true, \"gridcolor\": \"white\", \"linecolor\": \"white\", \"ticks\": \"\", \"title\": {\"standoff\": 15}, \"zerolinecolor\": \"white\", \"zerolinewidth\": 2}}}, \"title\": {\"text\": \"Average Monthly Yield\", \"x\": 0.5, \"xanchor\": \"center\", \"yanchor\": \"top\"}, \"xaxis\": {\"anchor\": \"y\", \"domain\": [0.0, 1.0], \"title\": {\"text\": \"Month\"}}, \"yaxis\": {\"anchor\": \"x\", \"domain\": [0.0, 1.0], \"title\": {\"text\": \"Projected Yield (kWh)\"}}},                        {\"responsive\": true}                    ).then(function(){\n",
       "                            \n",
       "var gd = document.getElementById('fe8069e0-7cca-4b15-8851-4547949a34c2');\n",
       "var x = new MutationObserver(function (mutations, observer) {{\n",
       "        var display = window.getComputedStyle(gd).display;\n",
       "        if (!display || display === 'none') {{\n",
       "            console.log([gd, 'removed!']);\n",
       "            Plotly.purge(gd);\n",
       "            observer.disconnect();\n",
       "        }}\n",
       "}});\n",
       "\n",
       "// Listen for the removal of the full notebook cells\n",
       "var notebookContainer = gd.closest('#notebook-container');\n",
       "if (notebookContainer) {{\n",
       "    x.observe(notebookContainer, {childList: true});\n",
       "}}\n",
       "\n",
       "// Listen for the clearing of the current output cell\n",
       "var outputEl = gd.closest('.output');\n",
       "if (outputEl) {{\n",
       "    x.observe(outputEl, {childList: true});\n",
       "}}\n",
       "\n",
       "                        })                };                });            </script>        </div>"
      ]
     },
     "metadata": {},
     "output_type": "display_data"
    }
   ],
   "source": [
    "ratio = find_ratio(sqft,Year_Blt)\n",
    "\n",
    "fig3 = px.line(\n",
    "    x = months, \n",
    "    y = Albany_Monthly_Use['Usage'] * ratio,\n",
    "    color=px.Constant('Projected Monthly Energy Use'),\n",
    "    line_shape = 'spline'\n",
    ")\n",
    "fig3.add_bar( \n",
    "    x = months, \n",
    "    y = Y_monthlyL['Yield'],\n",
    "    name = 'Low Efficiency Yield'\n",
    ")\n",
    "fig3.add_bar( \n",
    "    x = months, \n",
    "    y = Y_monthlyH['Yield'],\n",
    "    name = 'High Efficiency Yield'\n",
    ")\n",
    "fig3.update_layout(\n",
    "    title={\n",
    "        'text':'Average Monthly Yield',\n",
    "        'x':0.5,\n",
    "        'xanchor':'center',\n",
    "        'yanchor':'top'\n",
    "    },\n",
    "    xaxis_title='Month',\n",
    "    yaxis_title='Projected Yield (kWh)'\n",
    ")"
   ]
  },
  {
   "cell_type": "code",
   "execution_count": null,
   "metadata": {},
   "outputs": [],
   "source": []
  }
 ],
 "metadata": {
  "kernelspec": {
   "display_name": "Python 3",
   "language": "python",
   "name": "python3"
  },
  "language_info": {
   "codemirror_mode": {
    "name": "ipython",
    "version": 3
   },
   "file_extension": ".py",
   "mimetype": "text/x-python",
   "name": "python",
   "nbconvert_exporter": "python",
   "pygments_lexer": "ipython3",
   "version": "3.8.5"
  }
 },
 "nbformat": 4,
 "nbformat_minor": 4
}
