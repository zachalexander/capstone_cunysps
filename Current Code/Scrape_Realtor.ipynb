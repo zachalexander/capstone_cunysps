{
 "cells": [
  {
   "cell_type": "code",
   "execution_count": 24,
   "metadata": {},
   "outputs": [],
   "source": [
    "import requests\n",
    "import re\n",
    "import pandas as pd\n",
    "from bs4 import BeautifulSoup\n",
    "from googlesearch import search\n",
    "import plotly as plt"
   ]
  },
  {
   "cell_type": "code",
   "execution_count": 16,
   "metadata": {},
   "outputs": [],
   "source": [
    "address = \"63 Hillcrest Ave\"\n",
    "city = \"Albany\"\n",
    "state = \"NY\"\n",
    "query = address +\" \"+city +\", \"+state+\" Realtor.com\""
   ]
  },
  {
   "cell_type": "code",
   "execution_count": 17,
   "metadata": {},
   "outputs": [
    {
     "data": {
      "text/plain": [
       "'https://www.realtor.com/realestateandhomes-detail/63-Hillcrest-Ave_Albany_NY_12203_M44174-02395'"
      ]
     },
     "execution_count": 17,
     "metadata": {},
     "output_type": "execute_result"
    }
   ],
   "source": [
    "for j in search(query, tld='com', lang='en', num=1, start=0, stop=1, pause=2.0):\n",
    "    result = j\n",
    "result"
   ]
  },
  {
   "cell_type": "code",
   "execution_count": 93,
   "metadata": {},
   "outputs": [],
   "source": [
    "#Using approach from :\n",
    "#https://www.proxiesapi.com/blog/scraping-listings-from-realtor-with-python-and-bea.html.php\n",
    "\n",
    "# -*- coding: utf-8 -*-\n",
    "\n",
    "headers = {'User-Agent':'Mozilla/5.0 (Macintosh; Intel Mac OS X 10_11_2) AppleWebKit/601.3.11 (KHTML, like Gecko) Version/9.0.2 Safari/601.3.9',\n",
    "'Accept-Encoding': 'identity'\n",
    "}\n",
    "response=requests.get(result,headers=headers)\n",
    "\n",
    "soup=BeautifulSoup(response.content,'lxml')\n",
    "\n",
    "#print(soup.prettify())"
   ]
  },
  {
   "cell_type": "code",
   "execution_count": 82,
   "metadata": {
    "scrolled": false
   },
   "outputs": [
    {
     "data": {
      "text/plain": [
       "<div class=\"ldp-header-meta mobile-wrapper margin-bottom\" id=\"ldp-property-meta\">\n",
       "<ul class=\"property-meta list-horizontal list-style-disc list-spaced\" itemprop=\"description\">\n",
       "<li data-label=\"property-meta-beds\">\n",
       "<span class=\"data-value\">4</span>\n",
       "      beds\n",
       "    </li>\n",
       "<li data-label=\"property-meta-bath\">\n",
       "<span class=\"data-value\">1.5</span>\n",
       "      baths\n",
       "    </li>\n",
       "<li data-label=\"property-meta-sqft\">\n",
       "<span class=\"data-value\">1,835</span> sq ft\n",
       "    </li>\n",
       "<li data-label=\"property-meta-lotsize\">\n",
       "<span class=\"data-value\">6,350</span>\n",
       "       sqft lot\n",
       "    </li>\n",
       "</ul>\n",
       "</div>"
      ]
     },
     "execution_count": 82,
     "metadata": {},
     "output_type": "execute_result"
    }
   ],
   "source": [
    "#Code to find the general section of code with relevant info:\n",
    "house_data = soup.find(id=\"ldp-property-meta\")\n",
    "house_data"
   ]
  },
  {
   "cell_type": "code",
   "execution_count": 105,
   "metadata": {},
   "outputs": [],
   "source": [
    "home_bed = int(soup.select_one('li[data-label=\"property-meta-beds\"]').find_all(\"span\", class_=\"data-value\")[0].contents[0])\n",
    "home_bath = float(soup.select_one('li[data-label=\"property-meta-bath\"]').find_all(\"span\", class_=\"data-value\")[0].contents[0])\n",
    "sqft_info= soup.select_one('li[data-label=\"property-meta-sqft\"]').find_all(\"span\", class_=\"data-value\")[0].contents[0]\n",
    "home_sqft = int(sqft_info.replace(',',''))\n",
    "year_built = int(soup.select_one('li[data-label=\"property-year\"]').find_all(\"div\", class_=\"key-fact-data ellipsis\")[0].contents[0])"
   ]
  },
  {
   "cell_type": "code",
   "execution_count": 106,
   "metadata": {},
   "outputs": [
    {
     "name": "stdout",
     "output_type": "stream",
     "text": [
      "1.5\n",
      "1835\n",
      "4\n",
      "1962\n"
     ]
    }
   ],
   "source": [
    "print(home_bath)\n",
    "print(home_sqft)\n",
    "print(home_bed)\n",
    "print(year_built)"
   ]
  },
  {
   "cell_type": "code",
   "execution_count": 100,
   "metadata": {
    "scrolled": true
   },
   "outputs": [
    {
     "data": {
      "text/plain": [
       "<div class=\"rdc-carousel hide-left-nav hide-right-nav\" id=\"key-fact-carousel\">\n",
       "<ul class=\"owl-carousel\">\n",
       "<li class=\"ldp-key-fact-item\">\n",
       "<i class=\"ra ra-status-sale\"></i>\n",
       "<div>Status</div>\n",
       "<div class=\"key-fact-data ellipsis\" data-placement=\"top\" data-toggle=\"tooltip\" title=\"Off Market\">\n",
       "            Off Market\n",
       "          </div>\n",
       "</li>\n",
       "<li class=\"ldp-key-fact-item\" data-label=\"property-sqft\">\n",
       "<i class=\"ra ra-price-per-sq-ft\"></i>\n",
       "<div>Price/Sq Ft</div>\n",
       "<div class=\"key-fact-data ellipsis\">$122</div>\n",
       "</li>\n",
       "<li class=\"ldp-key-fact-item\" data-label=\"property-type\">\n",
       "<i class=\"ra ra-property-type\"></i>\n",
       "<div>Type</div>\n",
       "<div class=\"key-fact-data ellipsis\" data-placement=\"top\" data-toggle=\"tooltip\" title=\"Single Family Home\">Single Family Home</div>\n",
       "</li>\n",
       "<li class=\"ldp-key-fact-item\" data-label=\"property-year\">\n",
       "<i class=\"ra ra-year-built\"></i>\n",
       "<div>Built</div>\n",
       "<div class=\"key-fact-data ellipsis\">1962</div>\n",
       "</li>\n",
       "</ul>\n",
       "<div class=\"rdc-carousel-nav\">\n",
       "<div class=\"rdc-prev-set hide\"><i class=\"ra ra-angle-left\"></i></div>\n",
       "<div class=\"rdc-next-set hide\"><i class=\"ra ra-angle-right\"></i></div>\n",
       "</div>\n",
       "</div>"
      ]
     },
     "execution_count": 100,
     "metadata": {},
     "output_type": "execute_result"
    }
   ],
   "source": [
    "soup.find(id=\"key-fact-carousel\")"
   ]
  },
  {
   "cell_type": "code",
   "execution_count": 103,
   "metadata": {},
   "outputs": [
    {
     "data": {
      "text/plain": [
       "'1962'"
      ]
     },
     "execution_count": 103,
     "metadata": {},
     "output_type": "execute_result"
    }
   ],
   "source": [
    "soup.select_one('li[data-label=\"property-year\"]').find_all(\"div\", class_=\"key-fact-data ellipsis\")[0].contents[0]"
   ]
  }
 ],
 "metadata": {
  "kernelspec": {
   "display_name": "Python 3",
   "language": "python",
   "name": "python3"
  },
  "language_info": {
   "codemirror_mode": {
    "name": "ipython",
    "version": 3
   },
   "file_extension": ".py",
   "mimetype": "text/x-python",
   "name": "python",
   "nbconvert_exporter": "python",
   "pygments_lexer": "ipython3",
   "version": "3.8.5"
  }
 },
 "nbformat": 4,
 "nbformat_minor": 4
}
